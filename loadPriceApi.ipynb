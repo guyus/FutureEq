{
 "cells": [
  {
   "cell_type": "code",
   "execution_count": 1,
   "metadata": {},
   "outputs": [
    {
     "ename": "JSONDecodeError",
     "evalue": "Expecting value: line 1 column 1 (char 0)",
     "output_type": "error",
     "traceback": [
      "\u001b[1;31m---------------------------------------------------------------------------\u001b[0m",
      "\u001b[1;31mJSONDecodeError\u001b[0m                           Traceback (most recent call last)",
      "File \u001b[1;32mc:\\Users\\Guy-k\\AppData\\Local\\Programs\\Python\\Python310\\lib\\site-packages\\requests\\models.py:971\u001b[0m, in \u001b[0;36mResponse.json\u001b[1;34m(self, **kwargs)\u001b[0m\n\u001b[0;32m    970\u001b[0m \u001b[38;5;28;01mtry\u001b[39;00m:\n\u001b[1;32m--> 971\u001b[0m     \u001b[38;5;28;01mreturn\u001b[39;00m complexjson\u001b[38;5;241m.\u001b[39mloads(\u001b[38;5;28mself\u001b[39m\u001b[38;5;241m.\u001b[39mtext, \u001b[38;5;241m*\u001b[39m\u001b[38;5;241m*\u001b[39mkwargs)\n\u001b[0;32m    972\u001b[0m \u001b[38;5;28;01mexcept\u001b[39;00m JSONDecodeError \u001b[38;5;28;01mas\u001b[39;00m e:\n\u001b[0;32m    973\u001b[0m     \u001b[38;5;66;03m# Catch JSON-related errors and raise as requests.JSONDecodeError\u001b[39;00m\n\u001b[0;32m    974\u001b[0m     \u001b[38;5;66;03m# This aliases json.JSONDecodeError and simplejson.JSONDecodeError\u001b[39;00m\n",
      "File \u001b[1;32mc:\\Users\\Guy-k\\AppData\\Local\\Programs\\Python\\Python310\\lib\\json\\__init__.py:346\u001b[0m, in \u001b[0;36mloads\u001b[1;34m(s, cls, object_hook, parse_float, parse_int, parse_constant, object_pairs_hook, **kw)\u001b[0m\n\u001b[0;32m    343\u001b[0m \u001b[38;5;28;01mif\u001b[39;00m (\u001b[38;5;28mcls\u001b[39m \u001b[38;5;129;01mis\u001b[39;00m \u001b[38;5;28;01mNone\u001b[39;00m \u001b[38;5;129;01mand\u001b[39;00m object_hook \u001b[38;5;129;01mis\u001b[39;00m \u001b[38;5;28;01mNone\u001b[39;00m \u001b[38;5;129;01mand\u001b[39;00m\n\u001b[0;32m    344\u001b[0m         parse_int \u001b[38;5;129;01mis\u001b[39;00m \u001b[38;5;28;01mNone\u001b[39;00m \u001b[38;5;129;01mand\u001b[39;00m parse_float \u001b[38;5;129;01mis\u001b[39;00m \u001b[38;5;28;01mNone\u001b[39;00m \u001b[38;5;129;01mand\u001b[39;00m\n\u001b[0;32m    345\u001b[0m         parse_constant \u001b[38;5;129;01mis\u001b[39;00m \u001b[38;5;28;01mNone\u001b[39;00m \u001b[38;5;129;01mand\u001b[39;00m object_pairs_hook \u001b[38;5;129;01mis\u001b[39;00m \u001b[38;5;28;01mNone\u001b[39;00m \u001b[38;5;129;01mand\u001b[39;00m \u001b[38;5;129;01mnot\u001b[39;00m kw):\n\u001b[1;32m--> 346\u001b[0m     \u001b[38;5;28;01mreturn\u001b[39;00m \u001b[43m_default_decoder\u001b[49m\u001b[38;5;241;43m.\u001b[39;49m\u001b[43mdecode\u001b[49m\u001b[43m(\u001b[49m\u001b[43ms\u001b[49m\u001b[43m)\u001b[49m\n\u001b[0;32m    347\u001b[0m \u001b[38;5;28;01mif\u001b[39;00m \u001b[38;5;28mcls\u001b[39m \u001b[38;5;129;01mis\u001b[39;00m \u001b[38;5;28;01mNone\u001b[39;00m:\n",
      "File \u001b[1;32mc:\\Users\\Guy-k\\AppData\\Local\\Programs\\Python\\Python310\\lib\\json\\decoder.py:337\u001b[0m, in \u001b[0;36mJSONDecoder.decode\u001b[1;34m(self, s, _w)\u001b[0m\n\u001b[0;32m    333\u001b[0m \u001b[38;5;124;03m\"\"\"Return the Python representation of ``s`` (a ``str`` instance\u001b[39;00m\n\u001b[0;32m    334\u001b[0m \u001b[38;5;124;03mcontaining a JSON document).\u001b[39;00m\n\u001b[0;32m    335\u001b[0m \n\u001b[0;32m    336\u001b[0m \u001b[38;5;124;03m\"\"\"\u001b[39;00m\n\u001b[1;32m--> 337\u001b[0m obj, end \u001b[38;5;241m=\u001b[39m \u001b[38;5;28;43mself\u001b[39;49m\u001b[38;5;241;43m.\u001b[39;49m\u001b[43mraw_decode\u001b[49m\u001b[43m(\u001b[49m\u001b[43ms\u001b[49m\u001b[43m,\u001b[49m\u001b[43m \u001b[49m\u001b[43midx\u001b[49m\u001b[38;5;241;43m=\u001b[39;49m\u001b[43m_w\u001b[49m\u001b[43m(\u001b[49m\u001b[43ms\u001b[49m\u001b[43m,\u001b[49m\u001b[43m \u001b[49m\u001b[38;5;241;43m0\u001b[39;49m\u001b[43m)\u001b[49m\u001b[38;5;241;43m.\u001b[39;49m\u001b[43mend\u001b[49m\u001b[43m(\u001b[49m\u001b[43m)\u001b[49m\u001b[43m)\u001b[49m\n\u001b[0;32m    338\u001b[0m end \u001b[38;5;241m=\u001b[39m _w(s, end)\u001b[38;5;241m.\u001b[39mend()\n",
      "File \u001b[1;32mc:\\Users\\Guy-k\\AppData\\Local\\Programs\\Python\\Python310\\lib\\json\\decoder.py:355\u001b[0m, in \u001b[0;36mJSONDecoder.raw_decode\u001b[1;34m(self, s, idx)\u001b[0m\n\u001b[0;32m    354\u001b[0m \u001b[38;5;28;01mexcept\u001b[39;00m \u001b[38;5;167;01mStopIteration\u001b[39;00m \u001b[38;5;28;01mas\u001b[39;00m err:\n\u001b[1;32m--> 355\u001b[0m     \u001b[38;5;28;01mraise\u001b[39;00m JSONDecodeError(\u001b[38;5;124m\"\u001b[39m\u001b[38;5;124mExpecting value\u001b[39m\u001b[38;5;124m\"\u001b[39m, s, err\u001b[38;5;241m.\u001b[39mvalue) \u001b[38;5;28;01mfrom\u001b[39;00m \u001b[38;5;28mNone\u001b[39m\n\u001b[0;32m    356\u001b[0m \u001b[38;5;28;01mreturn\u001b[39;00m obj, end\n",
      "\u001b[1;31mJSONDecodeError\u001b[0m: Expecting value: line 1 column 1 (char 0)",
      "\nDuring handling of the above exception, another exception occurred:\n",
      "\u001b[1;31mJSONDecodeError\u001b[0m                           Traceback (most recent call last)",
      "Input \u001b[1;32mIn [1]\u001b[0m, in \u001b[0;36m<cell line: 14>\u001b[1;34m()\u001b[0m\n\u001b[0;32m     19\u001b[0m headers \u001b[38;5;241m=\u001b[39m {\n\u001b[0;32m     20\u001b[0m     \u001b[38;5;124m'\u001b[39m\u001b[38;5;124mContent-Type\u001b[39m\u001b[38;5;124m'\u001b[39m: \u001b[38;5;124m'\u001b[39m\u001b[38;5;124mapplication/json\u001b[39m\u001b[38;5;124m'\u001b[39m,\n\u001b[0;32m     21\u001b[0m     \u001b[38;5;124m'\u001b[39m\u001b[38;5;124mHost\u001b[39m\u001b[38;5;124m'\u001b[39m: \u001b[38;5;124m'\u001b[39m\u001b[38;5;124mwww.set.or.th\u001b[39m\u001b[38;5;124m'\u001b[39m,\n\u001b[1;32m   (...)\u001b[0m\n\u001b[0;32m     24\u001b[0m     \u001b[38;5;124m'\u001b[39m\u001b[38;5;124mCookie\u001b[39m\u001b[38;5;124m'\u001b[39m: \u001b[38;5;124m'\u001b[39m\u001b[38;5;124mid=KqKgOXZeJxapT8k8AL1rOg\u001b[39m\u001b[38;5;124m%\u001b[39m\u001b[38;5;124m3D\u001b[39m\u001b[38;5;124m%\u001b[39m\u001b[38;5;124m3D00000000;\u001b[39m\u001b[38;5;124m'\u001b[39m\n\u001b[0;32m     25\u001b[0m     }\n\u001b[0;32m     26\u001b[0m r \u001b[38;5;241m=\u001b[39m requests\u001b[38;5;241m.\u001b[39mget(url,headers\u001b[38;5;241m=\u001b[39mheaders)\n\u001b[1;32m---> 28\u001b[0m data \u001b[38;5;241m=\u001b[39m \u001b[43mr\u001b[49m\u001b[38;5;241;43m.\u001b[39;49m\u001b[43mjson\u001b[49m\u001b[43m(\u001b[49m\u001b[43m)\u001b[49m\n\u001b[0;32m     29\u001b[0m \u001b[38;5;28;01mif\u001b[39;00m r\u001b[38;5;241m.\u001b[39mstatus_code\u001b[38;5;241m!=\u001b[39m\u001b[38;5;241m200\u001b[39m:\n\u001b[0;32m     30\u001b[0m     exit\n",
      "File \u001b[1;32mc:\\Users\\Guy-k\\AppData\\Local\\Programs\\Python\\Python310\\lib\\site-packages\\requests\\models.py:975\u001b[0m, in \u001b[0;36mResponse.json\u001b[1;34m(self, **kwargs)\u001b[0m\n\u001b[0;32m    971\u001b[0m     \u001b[38;5;28;01mreturn\u001b[39;00m complexjson\u001b[38;5;241m.\u001b[39mloads(\u001b[38;5;28mself\u001b[39m\u001b[38;5;241m.\u001b[39mtext, \u001b[38;5;241m*\u001b[39m\u001b[38;5;241m*\u001b[39mkwargs)\n\u001b[0;32m    972\u001b[0m \u001b[38;5;28;01mexcept\u001b[39;00m JSONDecodeError \u001b[38;5;28;01mas\u001b[39;00m e:\n\u001b[0;32m    973\u001b[0m     \u001b[38;5;66;03m# Catch JSON-related errors and raise as requests.JSONDecodeError\u001b[39;00m\n\u001b[0;32m    974\u001b[0m     \u001b[38;5;66;03m# This aliases json.JSONDecodeError and simplejson.JSONDecodeError\u001b[39;00m\n\u001b[1;32m--> 975\u001b[0m     \u001b[38;5;28;01mraise\u001b[39;00m RequestsJSONDecodeError(e\u001b[38;5;241m.\u001b[39mmsg, e\u001b[38;5;241m.\u001b[39mdoc, e\u001b[38;5;241m.\u001b[39mpos)\n",
      "\u001b[1;31mJSONDecodeError\u001b[0m: Expecting value: line 1 column 1 (char 0)"
     ]
    }
   ],
   "source": [
    "import json\n",
    "import sqlite3\n",
    "import pandas as pd\n",
    "import config\n",
    "import numpy as np\n",
    "import requests\n",
    "\n",
    "from sqlalchemy import create_engine\n",
    "engine = create_engine('postgresql://'+config.db['user']+':'+config.db['password']+config.db['url'])\n",
    "#f = open('./data/NVDRstock-trading31-01-23.json')\n",
    "#data = json.load(f)\n",
    "#data = pd.read_json('./data/NVDRstock-trading31-01-23.json')\n",
    "sSource = \"api\"\n",
    "if sSource==\"file\":\n",
    "    with open('./data/Pricecomposition02-02-23.json','r',encoding='utf-8') as f:\n",
    "        data = json.loads(f.read())\n",
    "elif sSource==\"api\":\n",
    "    url = 'https://www.set.or.th/api/set/index/set100/composition?lang=en'\n",
    "    headers = {\n",
    "        'Content-Type': 'application/json',\n",
    "        'Host': 'www.set.or.th',\n",
    "        'Origin': 'https://www.set.or.th',\n",
    "        'Referer' : 'https://www.set.or.th/th/market/product/stock/search?market=set&index=SET100',\n",
    "        'Cookie': 'id=KqKgOXZeJxapT8k8AL1rOg%3D%3D00000000;'\n",
    "        }\n",
    "    r = requests.get(url,headers=headers)\n",
    "  \n",
    "    data = r.json()\n",
    "    if r.status_code!=200:\n",
    "        exit\n",
    "\n",
    "print(data['indexInfos'][0]['marketDateTime'][:10])\n",
    "#cdate = pd.DataFrame(data).iloc[0].astype(str).str[:10]['date'], record_prefix=\n",
    "#d1.info()\n",
    "#print(cdate)\n",
    "print(data)\n"
   ]
  },
  {
   "cell_type": "code",
   "execution_count": 10,
   "metadata": {},
   "outputs": [
    {
     "name": "stdout",
     "output_type": "stream",
     "text": [
      "2023-07-20\n",
      "<class 'pandas.core.frame.DataFrame'>\n",
      "Int64Index: 100 entries, 0 to 99\n",
      "Data columns (total 12 columns):\n",
      " #   Column   Non-Null Count  Dtype  \n",
      "---  ------   --------------  -----  \n",
      " 0   series   100 non-null    object \n",
      " 1   sign     100 non-null    object \n",
      " 2   prior    100 non-null    float64\n",
      " 3   close    100 non-null    float64\n",
      " 4   open     100 non-null    float64\n",
      " 5   high     100 non-null    float64\n",
      " 6   low      100 non-null    float64\n",
      " 7   change   100 non-null    float64\n",
      " 8   pchange  100 non-null    float64\n",
      " 9   vol      100 non-null    float64\n",
      " 10  value    100 non-null    float64\n",
      " 11  trddate  100 non-null    object \n",
      "dtypes: float64(9), object(3)\n",
      "memory usage: 10.2+ KB\n",
      "    series sign   prior   close    open    high     low  change   pchange  \\\n",
      "0      AAV         2.70    2.64    2.70    2.70    2.62   -0.06 -2.222222   \n",
      "1      ACE         1.89    1.88    1.90    1.91    1.88   -0.01 -0.529101   \n",
      "2   ADVANC       221.00  220.00  221.00  222.00  219.00   -1.00 -0.452489   \n",
      "3    AMATA        23.50   23.30   23.50   23.90   23.30   -0.20 -0.851064   \n",
      "4      AOT        71.75   70.50   71.50   71.75   70.50   -1.25 -1.742160   \n",
      "..     ...  ...     ...     ...     ...     ...     ...     ...       ...   \n",
      "95    TRUE         7.05    6.90    7.00    7.05    6.85   -0.15 -2.127660   \n",
      "96     TTB         1.63    1.65    1.63    1.67    1.63    0.02  1.226994   \n",
      "97      TU        12.90   12.80   12.90   13.00   12.80   -0.10 -0.775194   \n",
      "98     VGI         2.88    2.82    2.86    2.90    2.82   -0.06 -2.083333   \n",
      "99     WHA         4.94    4.90    4.96    4.98    4.86   -0.04 -0.809717   \n",
      "\n",
      "            vol         value     trddate  \n",
      "0    14317928.0  3.797760e+07  2023-07-20  \n",
      "1    21469228.0  4.070659e+07  2023-07-20  \n",
      "2     3845542.0  8.470837e+08  2023-07-20  \n",
      "3     9719510.0  2.293621e+08  2023-07-20  \n",
      "4    26162068.0  1.858964e+09  2023-07-20  \n",
      "..          ...           ...         ...  \n",
      "95   45596478.0  3.155553e+08  2023-07-20  \n",
      "96  441561029.0  7.280265e+08  2023-07-20  \n",
      "97    7820547.0  1.005898e+08  2023-07-20  \n",
      "98    9768688.0  2.790005e+07  2023-07-20  \n",
      "99   91488565.0  4.505358e+08  2023-07-20  \n",
      "\n",
      "[100 rows x 12 columns]\n"
     ]
    }
   ],
   "source": [
    "df = pd.json_normalize(data['composition']['stockInfos']) \n",
    "df.drop(['average', 'floor','ceiling', 'trVolume','trValue', 'aomVolume','aomValue', 'bids','offers'], axis=1, inplace=True)\n",
    "df.rename(columns = {'symbol': 'series', 'last': 'close', 'percentChange': 'pchange','totalVolume': 'vol','totalValue': 'value'}, inplace = True)\n",
    "df.drop(df.iloc[:, 11:],axis = 1, inplace=True)\n",
    "df['trddate'] = data['indexInfos'][0]['marketDateTime'][:10] #pd.to_datetime('today').date() - pd.Timedelta(\"1 day\")\n",
    "print(df['trddate'][0])\n",
    "a = [0]\n",
    "df = df[~df['close'].isin(a)]\n",
    "df.info()\n",
    "print(df)\n",
    "# df['composition.stockInfos'].info()\n",
    "# print(df['composition.stockInfos'])"
   ]
  },
  {
   "cell_type": "code",
   "execution_count": 11,
   "metadata": {},
   "outputs": [
    {
     "name": "stdout",
     "output_type": "stream",
     "text": [
      "    series sign   prior   close    open    high     low  change   pchange  \\\n",
      "0      AAV         2.70    2.64    2.70    2.70    2.62   -0.06 -2.222222   \n",
      "1      ACE         1.89    1.88    1.90    1.91    1.88   -0.01 -0.529101   \n",
      "2   ADVANC       221.00  220.00  221.00  222.00  219.00   -1.00 -0.452489   \n",
      "3    AMATA        23.50   23.30   23.50   23.90   23.30   -0.20 -0.851064   \n",
      "4      AOT        71.75   70.50   71.50   71.75   70.50   -1.25 -1.742160   \n",
      "..     ...  ...     ...     ...     ...     ...     ...     ...       ...   \n",
      "95    TRUE         7.05    6.90    7.00    7.05    6.85   -0.15 -2.127660   \n",
      "96     TTB         1.63    1.65    1.63    1.67    1.63    0.02  1.226994   \n",
      "97      TU        12.90   12.80   12.90   13.00   12.80   -0.10 -0.775194   \n",
      "98     VGI         2.88    2.82    2.86    2.90    2.82   -0.06 -2.083333   \n",
      "99     WHA         4.94    4.90    4.96    4.98    4.86   -0.04 -0.809717   \n",
      "\n",
      "            vol         value     trddate  \n",
      "0    14317928.0  3.797760e+07  2023-07-20  \n",
      "1    21469228.0  4.070659e+07  2023-07-20  \n",
      "2     3845542.0  8.470837e+08  2023-07-20  \n",
      "3     9719510.0  2.293621e+08  2023-07-20  \n",
      "4    26162068.0  1.858964e+09  2023-07-20  \n",
      "..          ...           ...         ...  \n",
      "95   45596478.0  3.155553e+08  2023-07-20  \n",
      "96  441561029.0  7.280265e+08  2023-07-20  \n",
      "97    7820547.0  1.005898e+08  2023-07-20  \n",
      "98    9768688.0  2.790005e+07  2023-07-20  \n",
      "99   91488565.0  4.505358e+08  2023-07-20  \n",
      "\n",
      "[100 rows x 12 columns]\n",
      "select * from sprice where trddate = '2023-07-20'\n",
      "0\n",
      "    index  series    open    high     low   close  change   pchange  \\\n",
      "0       0     AAV    2.70    2.70    2.62    2.64   -0.06 -2.222222   \n",
      "1       1     ACE    1.90    1.91    1.88    1.88   -0.01 -0.529101   \n",
      "2       2  ADVANC  221.00  222.00  219.00  220.00   -1.00 -0.452489   \n",
      "3       3   AMATA   23.50   23.90   23.30   23.30   -0.20 -0.851064   \n",
      "4       4     AOT   71.50   71.75   70.50   70.50   -1.25 -1.742160   \n",
      "..    ...     ...     ...     ...     ...     ...     ...       ...   \n",
      "95     95    TRUE    7.00    7.05    6.85    6.90   -0.15 -2.127660   \n",
      "96     96     TTB    1.63    1.67    1.63    1.65    0.02  1.226994   \n",
      "97     97      TU   12.90   13.00   12.80   12.80   -0.10 -0.775194   \n",
      "98     98     VGI    2.86    2.90    2.82    2.82   -0.06 -2.083333   \n",
      "99     99     WHA    4.96    4.98    4.86    4.90   -0.04 -0.809717   \n",
      "\n",
      "           value     trddate sign          vol   bid offer pricer ppricer  \\\n",
      "0   3.797760e+07  2023-07-20        14317928.0  None  None   None    None   \n",
      "1   4.070659e+07  2023-07-20        21469228.0  None  None   None    None   \n",
      "2   8.470837e+08  2023-07-20         3845542.0  None  None   None    None   \n",
      "3   2.293621e+08  2023-07-20         9719510.0  None  None   None    None   \n",
      "4   1.858964e+09  2023-07-20        26162068.0  None  None   None    None   \n",
      "..           ...         ...  ...          ...   ...   ...    ...     ...   \n",
      "95  3.155553e+08  2023-07-20        45596478.0  None  None   None    None   \n",
      "96  7.280265e+08  2023-07-20       441561029.0  None  None   None    None   \n",
      "97  1.005898e+08  2023-07-20         7820547.0  None  None   None    None   \n",
      "98  2.790005e+07  2023-07-20         9768688.0  None  None   None    None   \n",
      "99  4.505358e+08  2023-07-20        91488565.0  None  None   None    None   \n",
      "\n",
      "     prior  \n",
      "0     2.70  \n",
      "1     1.89  \n",
      "2   221.00  \n",
      "3    23.50  \n",
      "4    71.75  \n",
      "..     ...  \n",
      "95    7.05  \n",
      "96    1.63  \n",
      "97   12.90  \n",
      "98    2.88  \n",
      "99    4.94  \n",
      "\n",
      "[100 rows x 17 columns]\n"
     ]
    },
    {
     "data": {
      "text/plain": [
       "100"
      ]
     },
     "execution_count": 11,
     "metadata": {},
     "output_type": "execute_result"
    }
   ],
   "source": [
    "print(df)\n",
    "sql = \"select * from sprice where trddate = '\"+ df['trddate'].astype(str)[0] + \"'\"\n",
    "print(sql)\n",
    "rst = pd.read_sql(sql, con=engine)\n",
    "print(len(rst.axes[0]))\n",
    "if len(rst.axes[0]) == 0:df.to_sql(name='sprice', con=engine, if_exists='append')\n",
    "p2 = pd.read_sql(\"select * from sprice where trddate = '\"+ pd.to_datetime('today').strftime('%Y-%m-%d') + \"'\", con=engine)\n",
    "print(p2)\n",
    "len(df)"
   ]
  },
  {
   "cell_type": "code",
   "execution_count": 8,
   "metadata": {},
   "outputs": [
    {
     "ename": "KeyError",
     "evalue": "'total'",
     "output_type": "error",
     "traceback": [
      "\u001b[1;31m---------------------------------------------------------------------------\u001b[0m",
      "\u001b[1;31mKeyError\u001b[0m                                  Traceback (most recent call last)",
      "File \u001b[1;32mc:\\Users\\Guy-k\\AppData\\Local\\Programs\\Python\\Python310\\lib\\site-packages\\pandas\\core\\indexes\\base.py:3621\u001b[0m, in \u001b[0;36mIndex.get_loc\u001b[1;34m(self, key, method, tolerance)\u001b[0m\n\u001b[0;32m   3620\u001b[0m \u001b[39mtry\u001b[39;00m:\n\u001b[1;32m-> 3621\u001b[0m     \u001b[39mreturn\u001b[39;00m \u001b[39mself\u001b[39;49m\u001b[39m.\u001b[39;49m_engine\u001b[39m.\u001b[39;49mget_loc(casted_key)\n\u001b[0;32m   3622\u001b[0m \u001b[39mexcept\u001b[39;00m \u001b[39mKeyError\u001b[39;00m \u001b[39mas\u001b[39;00m err:\n",
      "File \u001b[1;32mc:\\Users\\Guy-k\\AppData\\Local\\Programs\\Python\\Python310\\lib\\site-packages\\pandas\\_libs\\index.pyx:136\u001b[0m, in \u001b[0;36mpandas._libs.index.IndexEngine.get_loc\u001b[1;34m()\u001b[0m\n",
      "File \u001b[1;32mc:\\Users\\Guy-k\\AppData\\Local\\Programs\\Python\\Python310\\lib\\site-packages\\pandas\\_libs\\index.pyx:163\u001b[0m, in \u001b[0;36mpandas._libs.index.IndexEngine.get_loc\u001b[1;34m()\u001b[0m\n",
      "File \u001b[1;32mpandas\\_libs\\hashtable_class_helper.pxi:5198\u001b[0m, in \u001b[0;36mpandas._libs.hashtable.PyObjectHashTable.get_item\u001b[1;34m()\u001b[0m\n",
      "File \u001b[1;32mpandas\\_libs\\hashtable_class_helper.pxi:5206\u001b[0m, in \u001b[0;36mpandas._libs.hashtable.PyObjectHashTable.get_item\u001b[1;34m()\u001b[0m\n",
      "\u001b[1;31mKeyError\u001b[0m: 'total'",
      "\nThe above exception was the direct cause of the following exception:\n",
      "\u001b[1;31mKeyError\u001b[0m                                  Traceback (most recent call last)",
      "\u001b[1;32md:\\Projects\\FutureEq\\loadPriceApi.ipynb Cell 4\u001b[0m in \u001b[0;36m<cell line: 3>\u001b[1;34m()\u001b[0m\n\u001b[0;32m      <a href='vscode-notebook-cell:/d%3A/Projects/FutureEq/loadPriceApi.ipynb#W2sZmlsZQ%3D%3D?line=0'>1</a>\u001b[0m \u001b[39m#print(df)\u001b[39;00m\n\u001b[0;32m      <a href='vscode-notebook-cell:/d%3A/Projects/FutureEq/loadPriceApi.ipynb#W2sZmlsZQ%3D%3D?line=1'>2</a>\u001b[0m df\u001b[39m.\u001b[39mrename(columns \u001b[39m=\u001b[39m {\u001b[39m'\u001b[39m\u001b[39mdate\u001b[39m\u001b[39m'\u001b[39m: \u001b[39m'\u001b[39m\u001b[39mtrddate\u001b[39m\u001b[39m'\u001b[39m, \u001b[39m'\u001b[39m\u001b[39mbuyValue\u001b[39m\u001b[39m'\u001b[39m: \u001b[39m'\u001b[39m\u001b[39mbuy\u001b[39m\u001b[39m'\u001b[39m, \u001b[39m'\u001b[39m\u001b[39msellValue\u001b[39m\u001b[39m'\u001b[39m: \u001b[39m'\u001b[39m\u001b[39msell\u001b[39m\u001b[39m'\u001b[39m, \u001b[39m'\u001b[39m\u001b[39mnetValue\u001b[39m\u001b[39m'\u001b[39m: \u001b[39m'\u001b[39m\u001b[39mnet\u001b[39m\u001b[39m'\u001b[39m, \u001b[39m'\u001b[39m\u001b[39mtotalValue\u001b[39m\u001b[39m'\u001b[39m: \u001b[39m'\u001b[39m\u001b[39mtotal\u001b[39m\u001b[39m'\u001b[39m, \u001b[39m'\u001b[39m\u001b[39mpercentValue\u001b[39m\u001b[39m'\u001b[39m: \u001b[39m'\u001b[39m\u001b[39mpercent\u001b[39m\u001b[39m'\u001b[39m, \u001b[39m'\u001b[39m\u001b[39munderlyingValue\u001b[39m\u001b[39m'\u001b[39m:\u001b[39m'\u001b[39m\u001b[39mtrdvalue\u001b[39m\u001b[39m'\u001b[39m}, inplace \u001b[39m=\u001b[39m \u001b[39mTrue\u001b[39;00m)\n\u001b[1;32m----> <a href='vscode-notebook-cell:/d%3A/Projects/FutureEq/loadPriceApi.ipynb#W2sZmlsZQ%3D%3D?line=2'>3</a>\u001b[0m df[\u001b[39m'\u001b[39m\u001b[39mft\u001b[39m\u001b[39m'\u001b[39m]\u001b[39m=\u001b[39mdf[\u001b[39m'\u001b[39;49m\u001b[39mtotal\u001b[39;49m\u001b[39m'\u001b[39;49m]\u001b[39m/\u001b[39mdf[\u001b[39m'\u001b[39m\u001b[39mtrdvalue\u001b[39m\u001b[39m'\u001b[39m]\u001b[39m*\u001b[39m\u001b[39m100\u001b[39m\n\u001b[0;32m      <a href='vscode-notebook-cell:/d%3A/Projects/FutureEq/loadPriceApi.ipynb#W2sZmlsZQ%3D%3D?line=3'>4</a>\u001b[0m df[\u001b[39m'\u001b[39m\u001b[39mft\u001b[39m\u001b[39m'\u001b[39m]\u001b[39m.\u001b[39mround(\u001b[39m2\u001b[39m)\n\u001b[0;32m      <a href='vscode-notebook-cell:/d%3A/Projects/FutureEq/loadPriceApi.ipynb#W2sZmlsZQ%3D%3D?line=4'>5</a>\u001b[0m \u001b[39m#df.info()\u001b[39;00m\n",
      "File \u001b[1;32mc:\\Users\\Guy-k\\AppData\\Local\\Programs\\Python\\Python310\\lib\\site-packages\\pandas\\core\\frame.py:3505\u001b[0m, in \u001b[0;36mDataFrame.__getitem__\u001b[1;34m(self, key)\u001b[0m\n\u001b[0;32m   3503\u001b[0m \u001b[39mif\u001b[39;00m \u001b[39mself\u001b[39m\u001b[39m.\u001b[39mcolumns\u001b[39m.\u001b[39mnlevels \u001b[39m>\u001b[39m \u001b[39m1\u001b[39m:\n\u001b[0;32m   3504\u001b[0m     \u001b[39mreturn\u001b[39;00m \u001b[39mself\u001b[39m\u001b[39m.\u001b[39m_getitem_multilevel(key)\n\u001b[1;32m-> 3505\u001b[0m indexer \u001b[39m=\u001b[39m \u001b[39mself\u001b[39;49m\u001b[39m.\u001b[39;49mcolumns\u001b[39m.\u001b[39;49mget_loc(key)\n\u001b[0;32m   3506\u001b[0m \u001b[39mif\u001b[39;00m is_integer(indexer):\n\u001b[0;32m   3507\u001b[0m     indexer \u001b[39m=\u001b[39m [indexer]\n",
      "File \u001b[1;32mc:\\Users\\Guy-k\\AppData\\Local\\Programs\\Python\\Python310\\lib\\site-packages\\pandas\\core\\indexes\\base.py:3623\u001b[0m, in \u001b[0;36mIndex.get_loc\u001b[1;34m(self, key, method, tolerance)\u001b[0m\n\u001b[0;32m   3621\u001b[0m     \u001b[39mreturn\u001b[39;00m \u001b[39mself\u001b[39m\u001b[39m.\u001b[39m_engine\u001b[39m.\u001b[39mget_loc(casted_key)\n\u001b[0;32m   3622\u001b[0m \u001b[39mexcept\u001b[39;00m \u001b[39mKeyError\u001b[39;00m \u001b[39mas\u001b[39;00m err:\n\u001b[1;32m-> 3623\u001b[0m     \u001b[39mraise\u001b[39;00m \u001b[39mKeyError\u001b[39;00m(key) \u001b[39mfrom\u001b[39;00m \u001b[39merr\u001b[39;00m\n\u001b[0;32m   3624\u001b[0m \u001b[39mexcept\u001b[39;00m \u001b[39mTypeError\u001b[39;00m:\n\u001b[0;32m   3625\u001b[0m     \u001b[39m# If we have a listlike key, _check_indexing_error will raise\u001b[39;00m\n\u001b[0;32m   3626\u001b[0m     \u001b[39m#  InvalidIndexError. Otherwise we fall through and re-raise\u001b[39;00m\n\u001b[0;32m   3627\u001b[0m     \u001b[39m#  the TypeError.\u001b[39;00m\n\u001b[0;32m   3628\u001b[0m     \u001b[39mself\u001b[39m\u001b[39m.\u001b[39m_check_indexing_error(key)\n",
      "\u001b[1;31mKeyError\u001b[0m: 'total'"
     ]
    }
   ],
   "source": [
    "#print(df)\n",
    "df.rename(columns = {'date': 'trddate', 'buyValue': 'buy', 'sellValue': 'sell', 'netValue': 'net', 'totalValue': 'total', 'percentValue': 'percent', 'underlyingValue':'trdvalue'}, inplace = True)\n",
    "df['ft']=df['total']/df['trdvalue']*100\n",
    "df['ft'].round(2)\n",
    "#df.info()\n",
    "print(df)\n",
    "#r.json()\n",
    "#print(r.status_code)\n",
    "#df = pd.json_normalize(r.json(), record_path =['nvdrTradings'])\n",
    "\n",
    "#print(df)\n",
    "df.rename(columns = {'date': 'trddate', 'buyValue': 'buy', 'sellValue': 'sell', 'netValue': 'net', 'totalValue': 'total', 'percentValue': 'percent', 'underlyingValue':'trdvalue'}, inplace = True)\n",
    "df['ft']=df['total']/df['trdvalue']*100\n",
    "df['ft'].round(2)\n",
    "#df.info()\n",
    "print(df)"
   ]
  }
 ],
 "metadata": {
  "kernelspec": {
   "display_name": "Python 3",
   "language": "python",
   "name": "python3"
  },
  "language_info": {
   "codemirror_mode": {
    "name": "ipython",
    "version": 3
   },
   "file_extension": ".py",
   "mimetype": "text/x-python",
   "name": "python",
   "nbconvert_exporter": "python",
   "pygments_lexer": "ipython3",
   "version": "3.10.4"
  },
  "orig_nbformat": 4,
  "vscode": {
   "interpreter": {
    "hash": "82d5a62a450151d23ca72d2f252c1612b2edceef5f1ab97b18ad1642284a8c89"
   }
  }
 },
 "nbformat": 4,
 "nbformat_minor": 2
}
