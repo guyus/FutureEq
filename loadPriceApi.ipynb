{
 "cells": [
  {
   "cell_type": "code",
   "execution_count": 4,
   "metadata": {},
   "outputs": [
    {
     "name": "stdout",
     "output_type": "stream",
     "text": [
      "2023-02-02\n",
      "2023-02-05\n",
      "<class 'pandas.core.frame.DataFrame'>\n",
      "Int64Index: 100 entries, 0 to 99\n",
      "Data columns (total 12 columns):\n",
      " #   Column   Non-Null Count  Dtype  \n",
      "---  ------   --------------  -----  \n",
      " 0   series   100 non-null    object \n",
      " 1   sign     100 non-null    object \n",
      " 2   prior    100 non-null    float64\n",
      " 3   close    100 non-null    float64\n",
      " 4   open     100 non-null    float64\n",
      " 5   high     100 non-null    float64\n",
      " 6   low      100 non-null    float64\n",
      " 7   change   100 non-null    float64\n",
      " 8   pchange  100 non-null    float64\n",
      " 9   vol      100 non-null    float64\n",
      " 10  value    100 non-null    float64\n",
      " 11  trddate  100 non-null    object \n",
      "dtypes: float64(9), object(3)\n",
      "memory usage: 10.2+ KB\n",
      "    series sign   prior   close    open    high     low  change   pchange  \\\n",
      "0      AAV         3.08    3.08    3.10    3.14    3.08    0.00  0.000000   \n",
      "1      ACE         2.58    2.56    2.58    2.58    2.56   -0.02 -0.775194   \n",
      "2   ADVANC       198.00  197.50  198.50  200.00  197.00   -0.50 -0.252525   \n",
      "3    AMATA        20.30   20.40   20.50   20.70   20.30    0.10  0.492611   \n",
      "4      AOT        74.75   74.50   74.50   74.75   74.50   -0.25 -0.334448   \n",
      "..     ...  ...     ...     ...     ...     ...     ...     ...       ...   \n",
      "95    TRUE         4.90    4.90    4.90    4.90    4.86    0.00  0.000000   \n",
      "96     TTB         1.47    1.45    1.46    1.47    1.45   -0.02 -1.360544   \n",
      "97      TU        16.10   16.10   16.10   16.20   16.00    0.00  0.000000   \n",
      "98     VGI         5.00    5.00    5.00    5.10    4.96    0.00  0.000000   \n",
      "99     WHA         3.88    4.02    3.96    4.02    3.92    0.14  3.608247   \n",
      "\n",
      "            vol         value     trddate  \n",
      "0   102596685.0  3.188849e+08  2023-02-05  \n",
      "1    17395696.0  4.474640e+07  2023-02-05  \n",
      "2     5755390.0  1.140370e+09  2023-02-05  \n",
      "3    19020495.0  3.895292e+08  2023-02-05  \n",
      "4    15624960.0  1.165818e+09  2023-02-05  \n",
      "..          ...           ...         ...  \n",
      "95    9854122.0  4.818118e+07  2023-02-05  \n",
      "96  105820865.0  1.540848e+08  2023-02-05  \n",
      "97   12425753.0  2.001410e+08  2023-02-05  \n",
      "98   24570639.0  1.229221e+08  2023-02-05  \n",
      "99  245744462.0  9.783359e+08  2023-02-05  \n",
      "\n",
      "[100 rows x 12 columns]\n"
     ]
    }
   ],
   "source": [
    "import json\n",
    "import sqlite3\n",
    "import pandas as pd\n",
    "import config\n",
    "import numpy as np\n",
    "import requests\n",
    "\n",
    "from sqlalchemy import create_engine\n",
    "engine = create_engine('postgresql://'+config.db['user']+':'+config.db['password']+config.db['url'])\n",
    "#f = open('./data/NVDRstock-trading31-01-23.json')\n",
    "#data = json.load(f)\n",
    "#data = pd.read_json('./data/NVDRstock-trading31-01-23.json')\n",
    "sSource = \"file\"\n",
    "if sSource==\"file\":\n",
    "    with open('./data/Pricecomposition02-02-23.json','r',encoding='utf-8') as f:\n",
    "        data = json.loads(f.read())\n",
    "elif sSource==\"api\":\n",
    "    r = requests.get('https://www.set.or.th/api/set/index/set100/composition?lang=en')\n",
    "    data = r.json()\n",
    "    if r.status_code!=200:\n",
    "        exit\n",
    "\n",
    "print(data['indexInfos'][0]['marketDateTime'][:10])\n",
    "#cdate = pd.DataFrame(data).iloc[0].astype(str).str[:10]['date'], record_prefix=\n",
    "#d1.info()\n",
    "#print(cdate)\n",
    "df = pd.json_normalize(data['composition']['stockInfos']) \n",
    "df.drop(['average', 'floor','ceiling', 'trVolume','trValue', 'aomVolume','aomValue', 'bids','offers'], axis=1, inplace=True)\n",
    "df.rename(columns = {'symbol': 'series', 'last': 'close', 'percentChange': 'pchange','totalVolume': 'vol','totalValue': 'value'}, inplace = True)\n",
    "df.drop(df.iloc[:, 11:],axis = 1, inplace=True)\n",
    "df['trddate'] = data['indexInfos'][0]['marketDateTime'][:10] #pd.to_datetime('today').date() - pd.Timedelta(\"1 day\")\n",
    "print(df['trddate'][0])\n",
    "a = [0]\n",
    "df = df[~df['close'].isin(a)]\n",
    "df.info()\n",
    "print(df)\n",
    "# df['composition.stockInfos'].info()\n",
    "# print(df['composition.stockInfos'])\n"
   ]
  },
  {
   "cell_type": "code",
   "execution_count": 2,
   "metadata": {},
   "outputs": [
    {
     "name": "stdout",
     "output_type": "stream",
     "text": [
      "    series sign   prior   close    open    high     low  change   pchange  \\\n",
      "0      AAV         3.06    3.10    3.08    3.10    3.06    0.04  1.307190   \n",
      "1      ACE         2.54    2.56    2.54    2.58    2.54    0.02  0.787402   \n",
      "2   ADVANC       198.50  197.00  198.50  198.50  197.00   -1.50 -0.755668   \n",
      "3    AMATA        20.40   20.20   20.50   20.50   20.20   -0.20 -0.980392   \n",
      "4      AOT        73.75   73.75   74.00   74.25   73.75    0.00  0.000000   \n",
      "..     ...  ...     ...     ...     ...     ...     ...     ...       ...   \n",
      "95    TRUE         4.88    4.86    4.90    4.90    4.84   -0.02 -0.409836   \n",
      "96     TTB         1.45    1.45    1.45    1.45    1.44    0.00  0.000000   \n",
      "97      TU        16.10   16.20   16.10   16.50   16.10    0.10  0.621118   \n",
      "98     VGI         5.05    5.00    5.05    5.05    5.00   -0.05 -0.990099   \n",
      "99     WHA         3.98    3.92    3.96    4.00    3.88   -0.06 -1.507538   \n",
      "\n",
      "           vol         value     trddate  \n",
      "0   24126162.0  7.449050e+07  2023-02-05  \n",
      "1   23240505.0  5.962146e+07  2023-02-05  \n",
      "2    2112826.0  4.175461e+08  2023-02-05  \n",
      "3    6002476.0  1.219289e+08  2023-02-05  \n",
      "4    9965758.0  7.366020e+08  2023-02-05  \n",
      "..         ...           ...         ...  \n",
      "95  23798478.0  1.157389e+08  2023-02-05  \n",
      "96  39897320.0  5.774631e+07  2023-02-05  \n",
      "97  28202894.0  4.595370e+08  2023-02-05  \n",
      "98  12173570.0  6.090033e+07  2023-02-05  \n",
      "99  81536396.0  3.190289e+08  2023-02-05  \n",
      "\n",
      "[100 rows x 12 columns]\n",
      "select * from sprice where trddate = '2023-02-05'\n",
      "0\n",
      "Empty DataFrame\n",
      "Columns: [index, series, open, high, low, close, change, pchange, value, trddate, sign, vol, bid, offer, pricer, ppricer, prior]\n",
      "Index: []\n"
     ]
    },
    {
     "data": {
      "text/plain": [
       "100"
      ]
     },
     "execution_count": 2,
     "metadata": {},
     "output_type": "execute_result"
    }
   ],
   "source": [
    "print(df)\n",
    "sql = \"select * from sprice where trddate = '\"+ df['trddate'].astype(str)[0] + \"'\"\n",
    "print(sql)\n",
    "rst = pd.read_sql(sql, con=engine)\n",
    "print(len(rst.axes[0]))\n",
    "if len(rst.axes[0]) == 0:df.to_sql(name='sprice', con=engine, if_exists='append')\n",
    "p2 = pd.read_sql(\"select * from sprice where trddate = '\"+ pd.to_datetime('today').strftime('%Y-%m-%d') + \"'\", con=engine)\n",
    "print(p2)\n",
    "len(df)"
   ]
  },
  {
   "cell_type": "code",
   "execution_count": null,
   "metadata": {},
   "outputs": [],
   "source": [
    "#print(df)\n",
    "df.rename(columns = {'date': 'trddate', 'buyValue': 'buy', 'sellValue': 'sell', 'netValue': 'net', 'totalValue': 'total', 'percentValue': 'percent', 'underlyingValue':'trdvalue'}, inplace = True)\n",
    "df['ft']=df['total']/df['trdvalue']*100\n",
    "df['ft'].round(2)\n",
    "#df.info()\n",
    "print(df)\n",
    "#r.json()\n",
    "#print(r.status_code)\n",
    "#df = pd.json_normalize(r.json(), record_path =['nvdrTradings'])\n",
    "\n",
    "#print(df)\n",
    "df.rename(columns = {'date': 'trddate', 'buyValue': 'buy', 'sellValue': 'sell', 'netValue': 'net', 'totalValue': 'total', 'percentValue': 'percent', 'underlyingValue':'trdvalue'}, inplace = True)\n",
    "df['ft']=df['total']/df['trdvalue']*100\n",
    "df['ft'].round(2)\n",
    "#df.info()\n",
    "print(df)"
   ]
  }
 ],
 "metadata": {
  "kernelspec": {
   "display_name": "Python 3",
   "language": "python",
   "name": "python3"
  },
  "language_info": {
   "codemirror_mode": {
    "name": "ipython",
    "version": 3
   },
   "file_extension": ".py",
   "mimetype": "text/x-python",
   "name": "python",
   "nbconvert_exporter": "python",
   "pygments_lexer": "ipython3",
   "version": "3.10.4"
  },
  "orig_nbformat": 4,
  "vscode": {
   "interpreter": {
    "hash": "82d5a62a450151d23ca72d2f252c1612b2edceef5f1ab97b18ad1642284a8c89"
   }
  }
 },
 "nbformat": 4,
 "nbformat_minor": 2
}
