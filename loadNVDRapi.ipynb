{
 "cells": [
  {
   "cell_type": "code",
   "execution_count": 4,
   "metadata": {},
   "outputs": [
    {
     "name": "stdout",
     "output_type": "stream",
     "text": [
      "response: \n",
      "Error from server: b''\n"
     ]
    }
   ],
   "source": [
    "import json\n",
    "import sqlite3\n",
    "import pandas as pd\n",
    "import config\n",
    "import numpy as np\n",
    "import requests\n",
    "import sys\n",
    "\n",
    "from sqlalchemy import create_engine\n",
    "engine = create_engine('postgresql://'+config.db['user']+':'+config.db['password']+config.db['url'])\n",
    "\n",
    "sSource = \"file\"\n",
    "if sSource==\"file\":\n",
    "    with open('./data/NVDRstock-trading31-01-23.json','r') as f:\n",
    "        data = json.loads(f.read())\n",
    "elif sSource==\"api\":\n",
    "    #r = requests.get('https://www.set.or.th/api/set/nvdr-trade/stock-trading?sortBy=symbol')\n",
    "    url = 'https://www.set.or.th/api/set/nvdr-trade/stock-trading?sortBy=symbol'\n",
    "    headers = {\n",
    "        'Content-Type': 'application/json',\n",
    "        'Host': 'www.set.or.th',\n",
    "        'Origin': 'https:///www.set.or.th',\n",
    "        'Referer' : 'https://www.set.or.th/th/market/statistics/nvdr/trading-by-stock',\n",
    "        'Cookie': 'id=KqKgOXZeJxapT8k8AL1rOg%3D%3D00000000;'\n",
    "        }\n",
    "    r = requests.get(url,headers=headers)\n",
    "    print(\"response: \" + r.text)\n",
    "    if r.status_code == 200:\n",
    "        data = r.json()\n",
    "    else:\n",
    "        print(\"Error from server: \" + str(r.content))\n",
    "        exit\n",
    "\n"
   ]
  },
  {
   "cell_type": "code",
   "execution_count": null,
   "metadata": {},
   "outputs": [],
   "source": [
    "#df = pd.json_normalize(r.json(), record_path =['nvdrTradings'])\n",
    "\n",
    "cdate = pd.DataFrame(data).iloc[0].astype(str).str[:10]['date']\n",
    "#df.info()\n",
    "print(cdate)\n",
    "df = pd.json_normalize(data, record_path =['nvdrTradings'])\n",
    "df.drop(['buyVolume', 'sellVolume','netVolume', 'totalVolume','underlyingVolume', 'percentVolume'], axis=1, inplace=True)\n",
    "\n",
    "\n",
    "#print(df)\n",
    "df.rename(columns = {'date': 'trddate', 'buyValue': 'buy', 'sellValue': 'sell', 'netValue': 'net', 'totalValue': 'total', 'percentValue': 'percent', 'underlyingValue':'trdvalue'}, inplace = True)\n",
    "df['ft']=df['total']/df['trdvalue']*100\n",
    "df['ft'].round(2)\n",
    "#df.info()\n",
    "print(df)"
   ]
  },
  {
   "cell_type": "code",
   "execution_count": null,
   "metadata": {},
   "outputs": [],
   "source": [
    "sql = \"select * from snvdr where trddate = '\"+ cdate + \"'\"\n",
    "print(sql)\n",
    "df = df.loc[~((df['buy'] == '-') | (df['sell'] == '-') | (df['net'] == '-'))]\n",
    "print(df)\n",
    "rst = pd.read_sql(sql, con=engine)\n",
    "print(len(rst.axes[0]))\n",
    "if len(rst.axes[0]) == 0:df.to_sql(name='snvdr', con=engine, if_exists='append')\n",
    "cur = engine.connect()\n",
    "cur.execute(\"DELETE FROM snvdrsum\")\n",
    "cur.execute(\"INSERT into snvdrsum(Symbol, sumn, counts) select symbol,round(sum(net)) as sumn,count(symbol)counts from snvdr group by symbol\")\n",
    "\n",
    "# sqlAvg = \"UPDATE snvdr SET  \\\n",
    "# ft=(SELECT round(abs(n1.net) / (s.value + 1::numeric) / 10::numeric, 1) as tf  \\\n",
    "# FROM snvdr n1 inner join sprice s on n1.symbol = s.series and n1.TrdDate=s.trddate where n1.Symbol = snvdr.symbol AND n1.TrdDate = (SELECT DISTINCT TrdDate FROM ssfOI ORDER by TrdDate DESC  LIMIT 1 OFFSET 0)), \\\n",
    "# calvol=(SELECT round((n1.net) / ((s.open+s.close)/2::numeric), 1) as calvol   \\\n",
    "# FROM snvdr n1 inner join sprice s on n1.symbol = s.series and n1.TrdDate=s.trddate where n1.Symbol = snvdr.symbol AND n1.TrdDate = (SELECT DISTINCT TrdDate FROM ssfOI ORDER by TrdDate DESC  LIMIT 1 OFFSET 0))  \\\n",
    "# where snvdr.TrdDate = (SELECT DISTINCT TrdDate FROM ssfOI ORDER by TrdDate DESC  LIMIT 1 OFFSET 0)\"\n",
    "# print(sqlAvg)\n",
    "#cur.execute(sqlAvg)"
   ]
  },
  {
   "cell_type": "code",
   "execution_count": null,
   "metadata": {},
   "outputs": [],
   "source": [
    "df.info()"
   ]
  },
  {
   "cell_type": "code",
   "execution_count": null,
   "metadata": {},
   "outputs": [],
   "source": [
    "import pandas as pd\n",
    "#import datetime\n",
    "import sqlite3\n",
    "# Create your connection.\n",
    "cnx = sqlite3.connect('EquityTrend.db')\n",
    "df=pd.read_html('https://www.set.or.th/set/nvdrbystock.do?type=value&sort=total&language=en&country=US')\n",
    "df=df[0]\n",
    "#df\n",
    "df.columns = df.columns.droplevel()\n",
    "df.rename(columns = {'%*':'Percent'}, inplace = True)"
   ]
  },
  {
   "cell_type": "code",
   "execution_count": null,
   "metadata": {},
   "outputs": [],
   "source": [
    "#df = df.drop(df.columns[[1,2]],axis='columns')\n",
    "df"
   ]
  },
  {
   "cell_type": "code",
   "execution_count": null,
   "metadata": {},
   "outputs": [],
   "source": [
    "df['TrdDate'] = pd.to_datetime('today').date()\n",
    "df['TrdDate'] = df['TrdDate'].apply(pd.DateOffset(-1)).apply(lambda x : x.date())\n",
    "#df['TrdDate']= df['TrdDate']\n",
    "df"
   ]
  },
  {
   "cell_type": "code",
   "execution_count": null,
   "metadata": {},
   "outputs": [],
   "source": [
    "sql = \"select * from sNVDR where TrdDate = '\"+ df.iloc[0,6].strftime('%Y-%m-%d') + \"'\"\n",
    "print(sql)\n",
    "rst = pd.read_sql(sql, cnx)\n",
    "print(len(rst.axes[0]))\n",
    "#if len(rst.axes[0]) == 0:df.to_sql(name='sNVDR', con=cnx, if_exists='append')"
   ]
  },
  {
   "cell_type": "code",
   "execution_count": null,
   "metadata": {},
   "outputs": [],
   "source": [
    "df = df.iloc[0:50]"
   ]
  },
  {
   "cell_type": "code",
   "execution_count": null,
   "metadata": {},
   "outputs": [],
   "source": [
    "df.info()\n",
    "df"
   ]
  },
  {
   "cell_type": "code",
   "execution_count": null,
   "metadata": {},
   "outputs": [],
   "source": [
    "df.loc[df['Symbol'] == 'TFI']"
   ]
  },
  {
   "cell_type": "code",
   "execution_count": null,
   "metadata": {},
   "outputs": [],
   "source": []
  }
 ],
 "metadata": {
  "kernelspec": {
   "display_name": "Python 3",
   "language": "python",
   "name": "python3"
  },
  "language_info": {
   "codemirror_mode": {
    "name": "ipython",
    "version": 3
   },
   "file_extension": ".py",
   "mimetype": "text/x-python",
   "name": "python",
   "nbconvert_exporter": "python",
   "pygments_lexer": "ipython3",
   "version": "3.10.4"
  },
  "metadata": {
   "interpreter": {
    "hash": "2e5c6628eef985e7fd2fa2aad22c988c5b8aa1d2648cf9c51c543a2a2637c546"
   }
  },
  "orig_nbformat": 2,
  "vscode": {
   "interpreter": {
    "hash": "82d5a62a450151d23ca72d2f252c1612b2edceef5f1ab97b18ad1642284a8c89"
   }
  }
 },
 "nbformat": 4,
 "nbformat_minor": 2
}
