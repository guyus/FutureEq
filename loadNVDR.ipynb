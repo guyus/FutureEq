{
 "metadata": {
  "language_info": {
   "codemirror_mode": {
    "name": "ipython",
    "version": 3
   },
   "file_extension": ".py",
   "mimetype": "text/x-python",
   "name": "python",
   "nbconvert_exporter": "python",
   "pygments_lexer": "ipython3",
   "version": "3.6.6"
  },
  "orig_nbformat": 2,
  "kernelspec": {
   "name": "python366jvsc74a57bd02e5c6628eef985e7fd2fa2aad22c988c5b8aa1d2648cf9c51c543a2a2637c546",
   "display_name": "Python 3.6.6 64-bit"
  },
  "metadata": {
   "interpreter": {
    "hash": "2e5c6628eef985e7fd2fa2aad22c988c5b8aa1d2648cf9c51c543a2a2637c546"
   }
  }
 },
 "nbformat": 4,
 "nbformat_minor": 2,
 "cells": [
  {
   "cell_type": "code",
   "execution_count": 3,
   "metadata": {},
   "outputs": [
    {
     "output_type": "error",
     "ename": "ModuleNotFoundError",
     "evalue": "No module named 'pandas'",
     "traceback": [
      "\u001b[1;31m---------------------------------------------------------------------------\u001b[0m",
      "\u001b[1;31mModuleNotFoundError\u001b[0m                       Traceback (most recent call last)",
      "\u001b[1;32m<ipython-input-3-b929b1b3e264>\u001b[0m in \u001b[0;36m<module>\u001b[1;34m\u001b[0m\n\u001b[1;32m----> 1\u001b[1;33m \u001b[1;32mimport\u001b[0m \u001b[0mpandas\u001b[0m \u001b[1;32mas\u001b[0m \u001b[0mpd\u001b[0m\u001b[1;33m\u001b[0m\u001b[0m\n\u001b[0m\u001b[0;32m      2\u001b[0m \u001b[1;31m#import datetime\u001b[0m\u001b[1;33m\u001b[0m\u001b[1;33m\u001b[0m\u001b[0m\n\u001b[0;32m      3\u001b[0m \u001b[1;32mimport\u001b[0m \u001b[0msqlite3\u001b[0m\u001b[1;33m\u001b[0m\u001b[0m\n\u001b[0;32m      4\u001b[0m \u001b[1;31m# Create your connection.\u001b[0m\u001b[1;33m\u001b[0m\u001b[1;33m\u001b[0m\u001b[0m\n\u001b[0;32m      5\u001b[0m \u001b[0mcnx\u001b[0m \u001b[1;33m=\u001b[0m \u001b[0msqlite3\u001b[0m\u001b[1;33m.\u001b[0m\u001b[0mconnect\u001b[0m\u001b[1;33m(\u001b[0m\u001b[1;34m'EquityTrend.db'\u001b[0m\u001b[1;33m)\u001b[0m\u001b[1;33m\u001b[0m\u001b[0m\n",
      "\u001b[1;31mModuleNotFoundError\u001b[0m: No module named 'pandas'"
     ]
    }
   ],
   "source": [
    "import pandas as pd\n",
    "#import datetime\n",
    "import sqlite3\n",
    "# Create your connection.\n",
    "cnx = sqlite3.connect('EquityTrend.db')\n",
    "df=pd.read_html('https://www.set.or.th/set/nvdrbystock.do?type=value&sort=total&language=en&country=US')\n",
    "df=df[0]\n",
    "#df\n",
    "df.columns = df.columns.droplevel()\n",
    "df.rename(columns = {'%*':'Percent'}, inplace = True)"
   ]
  },
  {
   "cell_type": "code",
   "execution_count": 4,
   "metadata": {},
   "outputs": [
    {
     "output_type": "error",
     "ename": "NameError",
     "evalue": "name 'df' is not defined",
     "traceback": [
      "\u001b[1;31m---------------------------------------------------------------------------\u001b[0m",
      "\u001b[1;31mNameError\u001b[0m                                 Traceback (most recent call last)",
      "\u001b[1;32m<ipython-input-4-a209fc1fe948>\u001b[0m in \u001b[0;36m<module>\u001b[1;34m\u001b[0m\n\u001b[0;32m      1\u001b[0m \u001b[1;31m#df = df.drop(df.columns[[1,2]],axis='columns')\u001b[0m\u001b[1;33m\u001b[0m\u001b[1;33m\u001b[0m\u001b[0m\n\u001b[1;32m----> 2\u001b[1;33m \u001b[0mdf\u001b[0m\u001b[1;33m\u001b[0m\u001b[0m\n\u001b[0m",
      "\u001b[1;31mNameError\u001b[0m: name 'df' is not defined"
     ]
    }
   ],
   "source": [
    "#df = df.drop(df.columns[[1,2]],axis='columns')\n",
    "df"
   ]
  },
  {
   "cell_type": "code",
   "execution_count": 3,
   "metadata": {},
   "outputs": [
    {
     "output_type": "stream",
     "name": "stderr",
     "text": [
      "C:\\Users\\Guy-k\\AppData\\Local\\Packages\\PythonSoftwareFoundation.Python.3.9_qbz5n2kfra8p0\\LocalCache\\local-packages\\Python39\\site-packages\\pandas\\core\\series.py:4138: FutureWarning: DateOffset.__call__ is deprecated and will be removed in a future version.  Use `offset + other` instead.\n  mapped = lib.map_infer(values, f, convert=convert_dtype)\n"
     ]
    },
    {
     "output_type": "execute_result",
     "data": {
      "text/plain": [
       "     Symbol            Buy          Sell         Total           Net  Percent  \\\n",
       "0       PTT  1443383383.50  797916024.75  2.241299e+09  6.454674e+08    19.71   \n",
       "1      HANA  1471033415.75  766770900.00  2.237804e+09  7.042625e+08    28.86   \n",
       "2     PTTEP   759674900.00  874049524.00  1.633724e+09 -1.143746e+08    42.71   \n",
       "3       AOT   603554062.50  683704062.50  1.287258e+09 -8.015000e+07    26.55   \n",
       "4       KCE   730039241.00  513055616.25  1.243095e+09  2.169836e+08    23.84   \n",
       "..      ...            ...           ...           ...           ...      ...   \n",
       "697     SLP          12.96         72.00  8.496000e+01 -5.904000e+01     0.00   \n",
       "698   HYDRO              -         64.00  6.400000e+01 -6.400000e+01     0.00   \n",
       "699    TNDT              -         50.50  5.050000e+01 -5.050000e+01     0.00   \n",
       "700  TFI-W1          20.00             -  2.000000e+01  2.000000e+01     0.01   \n",
       "701  ALL-W1              -          8.20  8.200000e+00 -8.200000e+00     0.00   \n",
       "\n",
       "        TrdDate  \n",
       "0    2021-06-01  \n",
       "1    2021-06-01  \n",
       "2    2021-06-01  \n",
       "3    2021-06-01  \n",
       "4    2021-06-01  \n",
       "..          ...  \n",
       "697  2021-06-01  \n",
       "698  2021-06-01  \n",
       "699  2021-06-01  \n",
       "700  2021-06-01  \n",
       "701  2021-06-01  \n",
       "\n",
       "[702 rows x 7 columns]"
      ],
      "text/html": "<div>\n<style scoped>\n    .dataframe tbody tr th:only-of-type {\n        vertical-align: middle;\n    }\n\n    .dataframe tbody tr th {\n        vertical-align: top;\n    }\n\n    .dataframe thead th {\n        text-align: right;\n    }\n</style>\n<table border=\"1\" class=\"dataframe\">\n  <thead>\n    <tr style=\"text-align: right;\">\n      <th></th>\n      <th>Symbol</th>\n      <th>Buy</th>\n      <th>Sell</th>\n      <th>Total</th>\n      <th>Net</th>\n      <th>Percent</th>\n      <th>TrdDate</th>\n    </tr>\n  </thead>\n  <tbody>\n    <tr>\n      <th>0</th>\n      <td>PTT</td>\n      <td>1443383383.50</td>\n      <td>797916024.75</td>\n      <td>2.241299e+09</td>\n      <td>6.454674e+08</td>\n      <td>19.71</td>\n      <td>2021-06-01</td>\n    </tr>\n    <tr>\n      <th>1</th>\n      <td>HANA</td>\n      <td>1471033415.75</td>\n      <td>766770900.00</td>\n      <td>2.237804e+09</td>\n      <td>7.042625e+08</td>\n      <td>28.86</td>\n      <td>2021-06-01</td>\n    </tr>\n    <tr>\n      <th>2</th>\n      <td>PTTEP</td>\n      <td>759674900.00</td>\n      <td>874049524.00</td>\n      <td>1.633724e+09</td>\n      <td>-1.143746e+08</td>\n      <td>42.71</td>\n      <td>2021-06-01</td>\n    </tr>\n    <tr>\n      <th>3</th>\n      <td>AOT</td>\n      <td>603554062.50</td>\n      <td>683704062.50</td>\n      <td>1.287258e+09</td>\n      <td>-8.015000e+07</td>\n      <td>26.55</td>\n      <td>2021-06-01</td>\n    </tr>\n    <tr>\n      <th>4</th>\n      <td>KCE</td>\n      <td>730039241.00</td>\n      <td>513055616.25</td>\n      <td>1.243095e+09</td>\n      <td>2.169836e+08</td>\n      <td>23.84</td>\n      <td>2021-06-01</td>\n    </tr>\n    <tr>\n      <th>...</th>\n      <td>...</td>\n      <td>...</td>\n      <td>...</td>\n      <td>...</td>\n      <td>...</td>\n      <td>...</td>\n      <td>...</td>\n    </tr>\n    <tr>\n      <th>697</th>\n      <td>SLP</td>\n      <td>12.96</td>\n      <td>72.00</td>\n      <td>8.496000e+01</td>\n      <td>-5.904000e+01</td>\n      <td>0.00</td>\n      <td>2021-06-01</td>\n    </tr>\n    <tr>\n      <th>698</th>\n      <td>HYDRO</td>\n      <td>-</td>\n      <td>64.00</td>\n      <td>6.400000e+01</td>\n      <td>-6.400000e+01</td>\n      <td>0.00</td>\n      <td>2021-06-01</td>\n    </tr>\n    <tr>\n      <th>699</th>\n      <td>TNDT</td>\n      <td>-</td>\n      <td>50.50</td>\n      <td>5.050000e+01</td>\n      <td>-5.050000e+01</td>\n      <td>0.00</td>\n      <td>2021-06-01</td>\n    </tr>\n    <tr>\n      <th>700</th>\n      <td>TFI-W1</td>\n      <td>20.00</td>\n      <td>-</td>\n      <td>2.000000e+01</td>\n      <td>2.000000e+01</td>\n      <td>0.01</td>\n      <td>2021-06-01</td>\n    </tr>\n    <tr>\n      <th>701</th>\n      <td>ALL-W1</td>\n      <td>-</td>\n      <td>8.20</td>\n      <td>8.200000e+00</td>\n      <td>-8.200000e+00</td>\n      <td>0.00</td>\n      <td>2021-06-01</td>\n    </tr>\n  </tbody>\n</table>\n<p>702 rows × 7 columns</p>\n</div>"
     },
     "metadata": {},
     "execution_count": 3
    }
   ],
   "source": [
    "df['TrdDate'] = pd.to_datetime('today').date()\n",
    "df['TrdDate'] = df['TrdDate'].apply(pd.DateOffset(-1)).apply(lambda x : x.date())\n",
    "#df['TrdDate']= df['TrdDate']\n",
    "df"
   ]
  },
  {
   "cell_type": "code",
   "execution_count": null,
   "metadata": {},
   "outputs": [],
   "source": [
    "sql = \"select * from sNVDR where TrdDate = '\"+ df.iloc[0,6].strftime('%Y-%m-%d') + \"'\"\n",
    "print(sql)\n",
    "rst = pd.read_sql(sql, cnx)\n",
    "print(len(rst.axes[0]))\n",
    "#if len(rst.axes[0]) == 0:df.to_sql(name='sNVDR', con=cnx, if_exists='append')"
   ]
  },
  {
   "cell_type": "code",
   "execution_count": null,
   "metadata": {},
   "outputs": [],
   "source": [
    "df = df.iloc[0:50]"
   ]
  },
  {
   "cell_type": "code",
   "execution_count": null,
   "metadata": {},
   "outputs": [],
   "source": [
    "df.info()\n",
    "df"
   ]
  },
  {
   "cell_type": "code",
   "execution_count": null,
   "metadata": {},
   "outputs": [],
   "source": [
    "df.loc[df['Symbol'] == 'TFI']"
   ]
  },
  {
   "cell_type": "code",
   "execution_count": null,
   "metadata": {},
   "outputs": [],
   "source": []
  }
 ]
}