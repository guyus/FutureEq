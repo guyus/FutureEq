{
 "metadata": {
  "language_info": {
   "codemirror_mode": {
    "name": "ipython",
    "version": 3
   },
   "file_extension": ".py",
   "mimetype": "text/x-python",
   "name": "python",
   "nbconvert_exporter": "python",
   "pygments_lexer": "ipython3",
   "version": "3.9.0-final"
  },
  "orig_nbformat": 2,
  "kernelspec": {
   "name": "python3",
   "display_name": "Python 3.9.0 64-bit",
   "metadata": {
    "interpreter": {
     "hash": "7812ea015bdcee6f23a998adcdd2ef97c151c0c241b7b7070987d9313e41299d"
    }
   }
  }
 },
 "nbformat": 4,
 "nbformat_minor": 2,
 "cells": [
  {
   "cell_type": "code",
   "execution_count": 3,
   "metadata": {},
   "outputs": [],
   "source": [
    "import pandas as pd\n",
    "#import datetime\n",
    "import sqlite3\n",
    "# Create your connection.\n",
    "cnx = sqlite3.connect('EquityTrend.db')\n",
    "df=pd.read_html('https://www.set.or.th/set/nvdrbystock.do?type=value&sort=total&language=en&country=US')\n",
    "df=df[0]\n",
    "#df\n",
    "df.columns = df.columns.droplevel()\n",
    "df.rename(columns = {'%*':'Percent'}, inplace = True)"
   ]
  },
  {
   "cell_type": "code",
   "execution_count": 4,
   "metadata": {},
   "outputs": [
    {
     "output_type": "execute_result",
     "data": {
      "text/plain": [
       "     Symbol            Buy           Sell         Total            Net  \\\n",
       "0     KBANK  2600912281.05  1197275057.05  3.798187e+09  1403637224.00   \n",
       "1     PTTEP   977413274.00   608921560.00  1.586335e+09   368491714.00   \n",
       "2       BBL   589542545.00   992407200.00  1.581950e+09  -402864655.00   \n",
       "3       PTT   784299401.25   753919000.00  1.538218e+09    30380401.25   \n",
       "4     DELTA   647058858.00   754172344.00  1.401231e+09  -107113486.00   \n",
       "..      ...            ...            ...           ...            ...   \n",
       "540   SAMCO          82.11              -  8.211000e+01          82.11   \n",
       "541   SELIC          63.86              -  6.386000e+01          63.86   \n",
       "542     GBX          51.00              -  5.100000e+01          51.00   \n",
       "543  JMT-W3              -          42.30  4.230000e+01         -42.30   \n",
       "544     MPG              -            .29  2.900000e-01           -.29   \n",
       "\n",
       "     Percent  \n",
       "0      32.07  \n",
       "1      47.57  \n",
       "2      16.57  \n",
       "3      18.19  \n",
       "4      56.32  \n",
       "..       ...  \n",
       "540     0.01  \n",
       "541     0.01  \n",
       "542     0.01  \n",
       "543     0.00  \n",
       "544     0.00  \n",
       "\n",
       "[545 rows x 6 columns]"
      ],
      "text/html": "<div>\n<style scoped>\n    .dataframe tbody tr th:only-of-type {\n        vertical-align: middle;\n    }\n\n    .dataframe tbody tr th {\n        vertical-align: top;\n    }\n\n    .dataframe thead th {\n        text-align: right;\n    }\n</style>\n<table border=\"1\" class=\"dataframe\">\n  <thead>\n    <tr style=\"text-align: right;\">\n      <th></th>\n      <th>Symbol</th>\n      <th>Buy</th>\n      <th>Sell</th>\n      <th>Total</th>\n      <th>Net</th>\n      <th>Percent</th>\n    </tr>\n  </thead>\n  <tbody>\n    <tr>\n      <th>0</th>\n      <td>KBANK</td>\n      <td>2600912281.05</td>\n      <td>1197275057.05</td>\n      <td>3.798187e+09</td>\n      <td>1403637224.00</td>\n      <td>32.07</td>\n    </tr>\n    <tr>\n      <th>1</th>\n      <td>PTTEP</td>\n      <td>977413274.00</td>\n      <td>608921560.00</td>\n      <td>1.586335e+09</td>\n      <td>368491714.00</td>\n      <td>47.57</td>\n    </tr>\n    <tr>\n      <th>2</th>\n      <td>BBL</td>\n      <td>589542545.00</td>\n      <td>992407200.00</td>\n      <td>1.581950e+09</td>\n      <td>-402864655.00</td>\n      <td>16.57</td>\n    </tr>\n    <tr>\n      <th>3</th>\n      <td>PTT</td>\n      <td>784299401.25</td>\n      <td>753919000.00</td>\n      <td>1.538218e+09</td>\n      <td>30380401.25</td>\n      <td>18.19</td>\n    </tr>\n    <tr>\n      <th>4</th>\n      <td>DELTA</td>\n      <td>647058858.00</td>\n      <td>754172344.00</td>\n      <td>1.401231e+09</td>\n      <td>-107113486.00</td>\n      <td>56.32</td>\n    </tr>\n    <tr>\n      <th>...</th>\n      <td>...</td>\n      <td>...</td>\n      <td>...</td>\n      <td>...</td>\n      <td>...</td>\n      <td>...</td>\n    </tr>\n    <tr>\n      <th>540</th>\n      <td>SAMCO</td>\n      <td>82.11</td>\n      <td>-</td>\n      <td>8.211000e+01</td>\n      <td>82.11</td>\n      <td>0.01</td>\n    </tr>\n    <tr>\n      <th>541</th>\n      <td>SELIC</td>\n      <td>63.86</td>\n      <td>-</td>\n      <td>6.386000e+01</td>\n      <td>63.86</td>\n      <td>0.01</td>\n    </tr>\n    <tr>\n      <th>542</th>\n      <td>GBX</td>\n      <td>51.00</td>\n      <td>-</td>\n      <td>5.100000e+01</td>\n      <td>51.00</td>\n      <td>0.01</td>\n    </tr>\n    <tr>\n      <th>543</th>\n      <td>JMT-W3</td>\n      <td>-</td>\n      <td>42.30</td>\n      <td>4.230000e+01</td>\n      <td>-42.30</td>\n      <td>0.00</td>\n    </tr>\n    <tr>\n      <th>544</th>\n      <td>MPG</td>\n      <td>-</td>\n      <td>.29</td>\n      <td>2.900000e-01</td>\n      <td>-.29</td>\n      <td>0.00</td>\n    </tr>\n  </tbody>\n</table>\n<p>545 rows × 6 columns</p>\n</div>"
     },
     "metadata": {},
     "execution_count": 4
    }
   ],
   "source": [
    "#df = df.drop(df.columns[[1,2]],axis='columns')\n",
    "df"
   ]
  },
  {
   "cell_type": "code",
   "execution_count": 5,
   "metadata": {},
   "outputs": [
    {
     "output_type": "execute_result",
     "data": {
      "text/plain": [
       "     Symbol            Buy           Sell         Total            Net  \\\n",
       "0     KBANK  2600912281.05  1197275057.05  3.798187e+09  1403637224.00   \n",
       "1     PTTEP   977413274.00   608921560.00  1.586335e+09   368491714.00   \n",
       "2       BBL   589542545.00   992407200.00  1.581950e+09  -402864655.00   \n",
       "3       PTT   784299401.25   753919000.00  1.538218e+09    30380401.25   \n",
       "4     DELTA   647058858.00   754172344.00  1.401231e+09  -107113486.00   \n",
       "..      ...            ...            ...           ...            ...   \n",
       "540   SAMCO          82.11              -  8.211000e+01          82.11   \n",
       "541   SELIC          63.86              -  6.386000e+01          63.86   \n",
       "542     GBX          51.00              -  5.100000e+01          51.00   \n",
       "543  JMT-W3              -          42.30  4.230000e+01         -42.30   \n",
       "544     MPG              -            .29  2.900000e-01           -.29   \n",
       "\n",
       "     Percent     TrdDate  \n",
       "0      32.07  2021-01-23  \n",
       "1      47.57  2021-01-23  \n",
       "2      16.57  2021-01-23  \n",
       "3      18.19  2021-01-23  \n",
       "4      56.32  2021-01-23  \n",
       "..       ...         ...  \n",
       "540     0.01  2021-01-23  \n",
       "541     0.01  2021-01-23  \n",
       "542     0.01  2021-01-23  \n",
       "543     0.00  2021-01-23  \n",
       "544     0.00  2021-01-23  \n",
       "\n",
       "[545 rows x 7 columns]"
      ],
      "text/html": "<div>\n<style scoped>\n    .dataframe tbody tr th:only-of-type {\n        vertical-align: middle;\n    }\n\n    .dataframe tbody tr th {\n        vertical-align: top;\n    }\n\n    .dataframe thead th {\n        text-align: right;\n    }\n</style>\n<table border=\"1\" class=\"dataframe\">\n  <thead>\n    <tr style=\"text-align: right;\">\n      <th></th>\n      <th>Symbol</th>\n      <th>Buy</th>\n      <th>Sell</th>\n      <th>Total</th>\n      <th>Net</th>\n      <th>Percent</th>\n      <th>TrdDate</th>\n    </tr>\n  </thead>\n  <tbody>\n    <tr>\n      <th>0</th>\n      <td>KBANK</td>\n      <td>2600912281.05</td>\n      <td>1197275057.05</td>\n      <td>3.798187e+09</td>\n      <td>1403637224.00</td>\n      <td>32.07</td>\n      <td>2021-01-23</td>\n    </tr>\n    <tr>\n      <th>1</th>\n      <td>PTTEP</td>\n      <td>977413274.00</td>\n      <td>608921560.00</td>\n      <td>1.586335e+09</td>\n      <td>368491714.00</td>\n      <td>47.57</td>\n      <td>2021-01-23</td>\n    </tr>\n    <tr>\n      <th>2</th>\n      <td>BBL</td>\n      <td>589542545.00</td>\n      <td>992407200.00</td>\n      <td>1.581950e+09</td>\n      <td>-402864655.00</td>\n      <td>16.57</td>\n      <td>2021-01-23</td>\n    </tr>\n    <tr>\n      <th>3</th>\n      <td>PTT</td>\n      <td>784299401.25</td>\n      <td>753919000.00</td>\n      <td>1.538218e+09</td>\n      <td>30380401.25</td>\n      <td>18.19</td>\n      <td>2021-01-23</td>\n    </tr>\n    <tr>\n      <th>4</th>\n      <td>DELTA</td>\n      <td>647058858.00</td>\n      <td>754172344.00</td>\n      <td>1.401231e+09</td>\n      <td>-107113486.00</td>\n      <td>56.32</td>\n      <td>2021-01-23</td>\n    </tr>\n    <tr>\n      <th>...</th>\n      <td>...</td>\n      <td>...</td>\n      <td>...</td>\n      <td>...</td>\n      <td>...</td>\n      <td>...</td>\n      <td>...</td>\n    </tr>\n    <tr>\n      <th>540</th>\n      <td>SAMCO</td>\n      <td>82.11</td>\n      <td>-</td>\n      <td>8.211000e+01</td>\n      <td>82.11</td>\n      <td>0.01</td>\n      <td>2021-01-23</td>\n    </tr>\n    <tr>\n      <th>541</th>\n      <td>SELIC</td>\n      <td>63.86</td>\n      <td>-</td>\n      <td>6.386000e+01</td>\n      <td>63.86</td>\n      <td>0.01</td>\n      <td>2021-01-23</td>\n    </tr>\n    <tr>\n      <th>542</th>\n      <td>GBX</td>\n      <td>51.00</td>\n      <td>-</td>\n      <td>5.100000e+01</td>\n      <td>51.00</td>\n      <td>0.01</td>\n      <td>2021-01-23</td>\n    </tr>\n    <tr>\n      <th>543</th>\n      <td>JMT-W3</td>\n      <td>-</td>\n      <td>42.30</td>\n      <td>4.230000e+01</td>\n      <td>-42.30</td>\n      <td>0.00</td>\n      <td>2021-01-23</td>\n    </tr>\n    <tr>\n      <th>544</th>\n      <td>MPG</td>\n      <td>-</td>\n      <td>.29</td>\n      <td>2.900000e-01</td>\n      <td>-.29</td>\n      <td>0.00</td>\n      <td>2021-01-23</td>\n    </tr>\n  </tbody>\n</table>\n<p>545 rows × 7 columns</p>\n</div>"
     },
     "metadata": {},
     "execution_count": 5
    }
   ],
   "source": [
    "df['TrdDate'] = pd.to_datetime('today').date()\n",
    "df['TrdDate'] = df['TrdDate'].apply(pd.DateOffset(-1)).apply(lambda x : x.date())\n",
    "#df['TrdDate']= df['TrdDate']\n",
    "df"
   ]
  },
  {
   "cell_type": "code",
   "execution_count": 7,
   "metadata": {},
   "outputs": [
    {
     "output_type": "stream",
     "name": "stdout",
     "text": [
      "select * from sNVDR where TrdDate = '2021-01-23'\n0\n"
     ]
    }
   ],
   "source": [
    "sql = \"select * from sNVDR where TrdDate = '\"+ df.iloc[0,6].strftime('%Y-%m-%d') + \"'\"\n",
    "print(sql)\n",
    "rst = pd.read_sql(sql, cnx)\n",
    "print(len(rst.axes[0]))\n",
    "#if len(rst.axes[0]) == 0:df.to_sql(name='sNVDR', con=cnx, if_exists='append')"
   ]
  },
  {
   "cell_type": "code",
   "execution_count": 8,
   "metadata": {},
   "outputs": [],
   "source": [
    "df = df.iloc[0:50]"
   ]
  },
  {
   "cell_type": "code",
   "execution_count": 9,
   "metadata": {},
   "outputs": [
    {
     "output_type": "stream",
     "name": "stdout",
     "text": [
      "<class 'pandas.core.frame.DataFrame'>\nRangeIndex: 50 entries, 0 to 49\nData columns (total 7 columns):\n #   Column   Non-Null Count  Dtype  \n---  ------   --------------  -----  \n 0   Symbol   50 non-null     object \n 1   Buy      50 non-null     object \n 2   Sell     50 non-null     object \n 3   Total    50 non-null     float64\n 4   Net      50 non-null     object \n 5   Percent  50 non-null     float64\n 6   TrdDate  50 non-null     object \ndtypes: float64(2), object(5)\nmemory usage: 2.9+ KB\n"
     ]
    },
    {
     "output_type": "execute_result",
     "data": {
      "text/plain": [
       "    Symbol            Buy           Sell         Total            Net  \\\n",
       "0    KBANK  2600912281.05  1197275057.05  3.798187e+09  1403637224.00   \n",
       "1    PTTEP   977413274.00   608921560.00  1.586335e+09   368491714.00   \n",
       "2      BBL   589542545.00   992407200.00  1.581950e+09  -402864655.00   \n",
       "3      PTT   784299401.25   753919000.00  1.538218e+09    30380401.25   \n",
       "4    DELTA   647058858.00   754172344.00  1.401231e+09  -107113486.00   \n",
       "5      SCB   731915925.00   616663791.50  1.348580e+09   115252133.50   \n",
       "6      KTC   667591965.75   666400495.00  1.333992e+09     1191470.75   \n",
       "7      SCC   836604219.00   424635221.00  1.261239e+09   411968998.00   \n",
       "8      AOT   662643447.50   565068452.25  1.227712e+09    97574995.25   \n",
       "9    CPALL   475856600.25   581823375.00  1.057680e+09  -105966774.75   \n",
       "10     CPN   374071425.00   586853184.00  9.609246e+08  -212781759.00   \n",
       "11   TISCO   561771110.75   303831587.50  8.656027e+08   257939523.25   \n",
       "12    GPSC   439519325.00   347441354.00  7.869607e+08    92077971.00   \n",
       "13      EA   404040523.00   287319775.00  6.913603e+08   116720748.00   \n",
       "14     TOP   302152560.00   375590625.00  6.777432e+08   -73438065.00   \n",
       "15   PTTGC   326126755.50   327653700.00  6.537805e+08    -1526944.50   \n",
       "16     KCE   304042975.00   321620276.00  6.256633e+08   -17577301.00   \n",
       "17  ADVANC   281726279.00   320940867.00  6.026671e+08   -39214588.00   \n",
       "18   SAWAD   355295650.00   246861350.00  6.021570e+08   108434300.00   \n",
       "19     CBG   391411170.00   107295163.50  4.987063e+08   284116006.50   \n",
       "20    STGT   208146042.50   265270441.25  4.734165e+08   -57124398.75   \n",
       "21    BDMS   175106820.00   270093331.20  4.452002e+08   -94986511.20   \n",
       "22  INTUCH   121277257.50   304984979.75  4.262622e+08  -183707722.25   \n",
       "23   ASIAN   228706849.30   165000489.90  3.937073e+08    63706359.40   \n",
       "24    GULF   159972225.00   215036000.00  3.750082e+08   -55063775.00   \n",
       "25     MTC   194235075.00   177751000.00  3.719861e+08    16484075.00   \n",
       "26     CPF   181375075.00   177824825.00  3.591999e+08     3550250.00   \n",
       "27     STA   176346250.00   182260600.00  3.586068e+08    -5914350.00   \n",
       "28    HANA   179056000.00   152592500.00  3.316485e+08    26463500.00   \n",
       "29     KTB   140772200.00   181041210.00  3.218134e+08   -40269010.00   \n",
       "30    MINT   105035450.00   216457525.00  3.214930e+08  -111422075.00   \n",
       "31     IVL   126841542.00   183786950.00  3.106285e+08   -56945408.00   \n",
       "32     TMB   181833334.40   127392839.74  3.092262e+08    54440494.66   \n",
       "33      RS   215309760.00    79644570.00  2.949543e+08   135665190.00   \n",
       "34    TCAP   131388130.00   159187250.00  2.905754e+08   -27799120.00   \n",
       "35     BTS   118025573.25   156219380.00  2.742450e+08   -38193806.75   \n",
       "36   TASCO   143621216.60   130270636.70  2.738919e+08    13350579.90   \n",
       "37    EGCO    62538657.00   193605450.00  2.561441e+08  -131066793.00   \n",
       "38      LH   114152031.05   139048555.00  2.532006e+08   -24896523.95   \n",
       "39      TU    64262375.00   162402960.00  2.266653e+08   -98140585.00   \n",
       "40    DTAC    82530500.00   138966160.00  2.214967e+08   -56435660.00   \n",
       "41  AEONTS   138995400.00    82244300.00  2.212397e+08    56751100.00   \n",
       "42    COM7    83979780.00   129343950.00  2.133237e+08   -45364170.00   \n",
       "43     CRC    41224975.00   171522650.00  2.127476e+08  -130297675.00   \n",
       "44    TRUE   111921106.00   100485306.00  2.124064e+08    11435800.00   \n",
       "45   BGRIM    78332750.00   125263035.00  2.035958e+08   -46930285.00   \n",
       "46   HMPRO   106003020.00    95478645.20  2.014817e+08    10524374.80   \n",
       "47     BEM    89057927.00   107983205.00  1.970411e+08   -18925278.00   \n",
       "48     VGI   125971950.00    42737730.00  1.687097e+08    83234220.00   \n",
       "49   RATCH    65994855.00    98358711.50  1.643536e+08   -32363856.50   \n",
       "\n",
       "    Percent     TrdDate  \n",
       "0     32.07  2021-01-23  \n",
       "1     47.57  2021-01-23  \n",
       "2     16.57  2021-01-23  \n",
       "3     18.19  2021-01-23  \n",
       "4     56.32  2021-01-23  \n",
       "5     21.90  2021-01-23  \n",
       "6     27.64  2021-01-23  \n",
       "7     36.11  2021-01-23  \n",
       "8     36.81  2021-01-23  \n",
       "9     33.29  2021-01-23  \n",
       "10    22.81  2021-01-23  \n",
       "11    23.71  2021-01-23  \n",
       "12    22.26  2021-01-23  \n",
       "13    22.87  2021-01-23  \n",
       "14    31.84  2021-01-23  \n",
       "15    30.77  2021-01-23  \n",
       "16    21.54  2021-01-23  \n",
       "17    33.03  2021-01-23  \n",
       "18    24.20  2021-01-23  \n",
       "19    16.08  2021-01-23  \n",
       "20     6.95  2021-01-23  \n",
       "21    29.74  2021-01-23  \n",
       "22    35.15  2021-01-23  \n",
       "23    25.28  2021-01-23  \n",
       "24    23.75  2021-01-23  \n",
       "25    30.97  2021-01-23  \n",
       "26    21.06  2021-01-23  \n",
       "27    16.36  2021-01-23  \n",
       "28    16.04  2021-01-23  \n",
       "29    33.67  2021-01-23  \n",
       "30    22.62  2021-01-23  \n",
       "31    25.47  2021-01-23  \n",
       "32    18.93  2021-01-23  \n",
       "33    22.55  2021-01-23  \n",
       "34    41.21  2021-01-23  \n",
       "35    29.43  2021-01-23  \n",
       "36    10.26  2021-01-23  \n",
       "37    29.94  2021-01-23  \n",
       "38    30.08  2021-01-23  \n",
       "39    30.72  2021-01-23  \n",
       "40    34.80  2021-01-23  \n",
       "41     8.20  2021-01-23  \n",
       "42    23.77  2021-01-23  \n",
       "43    25.51  2021-01-23  \n",
       "44    21.76  2021-01-23  \n",
       "45    19.06  2021-01-23  \n",
       "46    44.47  2021-01-23  \n",
       "47    20.84  2021-01-23  \n",
       "48    27.68  2021-01-23  \n",
       "49    27.74  2021-01-23  "
      ],
      "text/html": "<div>\n<style scoped>\n    .dataframe tbody tr th:only-of-type {\n        vertical-align: middle;\n    }\n\n    .dataframe tbody tr th {\n        vertical-align: top;\n    }\n\n    .dataframe thead th {\n        text-align: right;\n    }\n</style>\n<table border=\"1\" class=\"dataframe\">\n  <thead>\n    <tr style=\"text-align: right;\">\n      <th></th>\n      <th>Symbol</th>\n      <th>Buy</th>\n      <th>Sell</th>\n      <th>Total</th>\n      <th>Net</th>\n      <th>Percent</th>\n      <th>TrdDate</th>\n    </tr>\n  </thead>\n  <tbody>\n    <tr>\n      <th>0</th>\n      <td>KBANK</td>\n      <td>2600912281.05</td>\n      <td>1197275057.05</td>\n      <td>3.798187e+09</td>\n      <td>1403637224.00</td>\n      <td>32.07</td>\n      <td>2021-01-23</td>\n    </tr>\n    <tr>\n      <th>1</th>\n      <td>PTTEP</td>\n      <td>977413274.00</td>\n      <td>608921560.00</td>\n      <td>1.586335e+09</td>\n      <td>368491714.00</td>\n      <td>47.57</td>\n      <td>2021-01-23</td>\n    </tr>\n    <tr>\n      <th>2</th>\n      <td>BBL</td>\n      <td>589542545.00</td>\n      <td>992407200.00</td>\n      <td>1.581950e+09</td>\n      <td>-402864655.00</td>\n      <td>16.57</td>\n      <td>2021-01-23</td>\n    </tr>\n    <tr>\n      <th>3</th>\n      <td>PTT</td>\n      <td>784299401.25</td>\n      <td>753919000.00</td>\n      <td>1.538218e+09</td>\n      <td>30380401.25</td>\n      <td>18.19</td>\n      <td>2021-01-23</td>\n    </tr>\n    <tr>\n      <th>4</th>\n      <td>DELTA</td>\n      <td>647058858.00</td>\n      <td>754172344.00</td>\n      <td>1.401231e+09</td>\n      <td>-107113486.00</td>\n      <td>56.32</td>\n      <td>2021-01-23</td>\n    </tr>\n    <tr>\n      <th>5</th>\n      <td>SCB</td>\n      <td>731915925.00</td>\n      <td>616663791.50</td>\n      <td>1.348580e+09</td>\n      <td>115252133.50</td>\n      <td>21.90</td>\n      <td>2021-01-23</td>\n    </tr>\n    <tr>\n      <th>6</th>\n      <td>KTC</td>\n      <td>667591965.75</td>\n      <td>666400495.00</td>\n      <td>1.333992e+09</td>\n      <td>1191470.75</td>\n      <td>27.64</td>\n      <td>2021-01-23</td>\n    </tr>\n    <tr>\n      <th>7</th>\n      <td>SCC</td>\n      <td>836604219.00</td>\n      <td>424635221.00</td>\n      <td>1.261239e+09</td>\n      <td>411968998.00</td>\n      <td>36.11</td>\n      <td>2021-01-23</td>\n    </tr>\n    <tr>\n      <th>8</th>\n      <td>AOT</td>\n      <td>662643447.50</td>\n      <td>565068452.25</td>\n      <td>1.227712e+09</td>\n      <td>97574995.25</td>\n      <td>36.81</td>\n      <td>2021-01-23</td>\n    </tr>\n    <tr>\n      <th>9</th>\n      <td>CPALL</td>\n      <td>475856600.25</td>\n      <td>581823375.00</td>\n      <td>1.057680e+09</td>\n      <td>-105966774.75</td>\n      <td>33.29</td>\n      <td>2021-01-23</td>\n    </tr>\n    <tr>\n      <th>10</th>\n      <td>CPN</td>\n      <td>374071425.00</td>\n      <td>586853184.00</td>\n      <td>9.609246e+08</td>\n      <td>-212781759.00</td>\n      <td>22.81</td>\n      <td>2021-01-23</td>\n    </tr>\n    <tr>\n      <th>11</th>\n      <td>TISCO</td>\n      <td>561771110.75</td>\n      <td>303831587.50</td>\n      <td>8.656027e+08</td>\n      <td>257939523.25</td>\n      <td>23.71</td>\n      <td>2021-01-23</td>\n    </tr>\n    <tr>\n      <th>12</th>\n      <td>GPSC</td>\n      <td>439519325.00</td>\n      <td>347441354.00</td>\n      <td>7.869607e+08</td>\n      <td>92077971.00</td>\n      <td>22.26</td>\n      <td>2021-01-23</td>\n    </tr>\n    <tr>\n      <th>13</th>\n      <td>EA</td>\n      <td>404040523.00</td>\n      <td>287319775.00</td>\n      <td>6.913603e+08</td>\n      <td>116720748.00</td>\n      <td>22.87</td>\n      <td>2021-01-23</td>\n    </tr>\n    <tr>\n      <th>14</th>\n      <td>TOP</td>\n      <td>302152560.00</td>\n      <td>375590625.00</td>\n      <td>6.777432e+08</td>\n      <td>-73438065.00</td>\n      <td>31.84</td>\n      <td>2021-01-23</td>\n    </tr>\n    <tr>\n      <th>15</th>\n      <td>PTTGC</td>\n      <td>326126755.50</td>\n      <td>327653700.00</td>\n      <td>6.537805e+08</td>\n      <td>-1526944.50</td>\n      <td>30.77</td>\n      <td>2021-01-23</td>\n    </tr>\n    <tr>\n      <th>16</th>\n      <td>KCE</td>\n      <td>304042975.00</td>\n      <td>321620276.00</td>\n      <td>6.256633e+08</td>\n      <td>-17577301.00</td>\n      <td>21.54</td>\n      <td>2021-01-23</td>\n    </tr>\n    <tr>\n      <th>17</th>\n      <td>ADVANC</td>\n      <td>281726279.00</td>\n      <td>320940867.00</td>\n      <td>6.026671e+08</td>\n      <td>-39214588.00</td>\n      <td>33.03</td>\n      <td>2021-01-23</td>\n    </tr>\n    <tr>\n      <th>18</th>\n      <td>SAWAD</td>\n      <td>355295650.00</td>\n      <td>246861350.00</td>\n      <td>6.021570e+08</td>\n      <td>108434300.00</td>\n      <td>24.20</td>\n      <td>2021-01-23</td>\n    </tr>\n    <tr>\n      <th>19</th>\n      <td>CBG</td>\n      <td>391411170.00</td>\n      <td>107295163.50</td>\n      <td>4.987063e+08</td>\n      <td>284116006.50</td>\n      <td>16.08</td>\n      <td>2021-01-23</td>\n    </tr>\n    <tr>\n      <th>20</th>\n      <td>STGT</td>\n      <td>208146042.50</td>\n      <td>265270441.25</td>\n      <td>4.734165e+08</td>\n      <td>-57124398.75</td>\n      <td>6.95</td>\n      <td>2021-01-23</td>\n    </tr>\n    <tr>\n      <th>21</th>\n      <td>BDMS</td>\n      <td>175106820.00</td>\n      <td>270093331.20</td>\n      <td>4.452002e+08</td>\n      <td>-94986511.20</td>\n      <td>29.74</td>\n      <td>2021-01-23</td>\n    </tr>\n    <tr>\n      <th>22</th>\n      <td>INTUCH</td>\n      <td>121277257.50</td>\n      <td>304984979.75</td>\n      <td>4.262622e+08</td>\n      <td>-183707722.25</td>\n      <td>35.15</td>\n      <td>2021-01-23</td>\n    </tr>\n    <tr>\n      <th>23</th>\n      <td>ASIAN</td>\n      <td>228706849.30</td>\n      <td>165000489.90</td>\n      <td>3.937073e+08</td>\n      <td>63706359.40</td>\n      <td>25.28</td>\n      <td>2021-01-23</td>\n    </tr>\n    <tr>\n      <th>24</th>\n      <td>GULF</td>\n      <td>159972225.00</td>\n      <td>215036000.00</td>\n      <td>3.750082e+08</td>\n      <td>-55063775.00</td>\n      <td>23.75</td>\n      <td>2021-01-23</td>\n    </tr>\n    <tr>\n      <th>25</th>\n      <td>MTC</td>\n      <td>194235075.00</td>\n      <td>177751000.00</td>\n      <td>3.719861e+08</td>\n      <td>16484075.00</td>\n      <td>30.97</td>\n      <td>2021-01-23</td>\n    </tr>\n    <tr>\n      <th>26</th>\n      <td>CPF</td>\n      <td>181375075.00</td>\n      <td>177824825.00</td>\n      <td>3.591999e+08</td>\n      <td>3550250.00</td>\n      <td>21.06</td>\n      <td>2021-01-23</td>\n    </tr>\n    <tr>\n      <th>27</th>\n      <td>STA</td>\n      <td>176346250.00</td>\n      <td>182260600.00</td>\n      <td>3.586068e+08</td>\n      <td>-5914350.00</td>\n      <td>16.36</td>\n      <td>2021-01-23</td>\n    </tr>\n    <tr>\n      <th>28</th>\n      <td>HANA</td>\n      <td>179056000.00</td>\n      <td>152592500.00</td>\n      <td>3.316485e+08</td>\n      <td>26463500.00</td>\n      <td>16.04</td>\n      <td>2021-01-23</td>\n    </tr>\n    <tr>\n      <th>29</th>\n      <td>KTB</td>\n      <td>140772200.00</td>\n      <td>181041210.00</td>\n      <td>3.218134e+08</td>\n      <td>-40269010.00</td>\n      <td>33.67</td>\n      <td>2021-01-23</td>\n    </tr>\n    <tr>\n      <th>30</th>\n      <td>MINT</td>\n      <td>105035450.00</td>\n      <td>216457525.00</td>\n      <td>3.214930e+08</td>\n      <td>-111422075.00</td>\n      <td>22.62</td>\n      <td>2021-01-23</td>\n    </tr>\n    <tr>\n      <th>31</th>\n      <td>IVL</td>\n      <td>126841542.00</td>\n      <td>183786950.00</td>\n      <td>3.106285e+08</td>\n      <td>-56945408.00</td>\n      <td>25.47</td>\n      <td>2021-01-23</td>\n    </tr>\n    <tr>\n      <th>32</th>\n      <td>TMB</td>\n      <td>181833334.40</td>\n      <td>127392839.74</td>\n      <td>3.092262e+08</td>\n      <td>54440494.66</td>\n      <td>18.93</td>\n      <td>2021-01-23</td>\n    </tr>\n    <tr>\n      <th>33</th>\n      <td>RS</td>\n      <td>215309760.00</td>\n      <td>79644570.00</td>\n      <td>2.949543e+08</td>\n      <td>135665190.00</td>\n      <td>22.55</td>\n      <td>2021-01-23</td>\n    </tr>\n    <tr>\n      <th>34</th>\n      <td>TCAP</td>\n      <td>131388130.00</td>\n      <td>159187250.00</td>\n      <td>2.905754e+08</td>\n      <td>-27799120.00</td>\n      <td>41.21</td>\n      <td>2021-01-23</td>\n    </tr>\n    <tr>\n      <th>35</th>\n      <td>BTS</td>\n      <td>118025573.25</td>\n      <td>156219380.00</td>\n      <td>2.742450e+08</td>\n      <td>-38193806.75</td>\n      <td>29.43</td>\n      <td>2021-01-23</td>\n    </tr>\n    <tr>\n      <th>36</th>\n      <td>TASCO</td>\n      <td>143621216.60</td>\n      <td>130270636.70</td>\n      <td>2.738919e+08</td>\n      <td>13350579.90</td>\n      <td>10.26</td>\n      <td>2021-01-23</td>\n    </tr>\n    <tr>\n      <th>37</th>\n      <td>EGCO</td>\n      <td>62538657.00</td>\n      <td>193605450.00</td>\n      <td>2.561441e+08</td>\n      <td>-131066793.00</td>\n      <td>29.94</td>\n      <td>2021-01-23</td>\n    </tr>\n    <tr>\n      <th>38</th>\n      <td>LH</td>\n      <td>114152031.05</td>\n      <td>139048555.00</td>\n      <td>2.532006e+08</td>\n      <td>-24896523.95</td>\n      <td>30.08</td>\n      <td>2021-01-23</td>\n    </tr>\n    <tr>\n      <th>39</th>\n      <td>TU</td>\n      <td>64262375.00</td>\n      <td>162402960.00</td>\n      <td>2.266653e+08</td>\n      <td>-98140585.00</td>\n      <td>30.72</td>\n      <td>2021-01-23</td>\n    </tr>\n    <tr>\n      <th>40</th>\n      <td>DTAC</td>\n      <td>82530500.00</td>\n      <td>138966160.00</td>\n      <td>2.214967e+08</td>\n      <td>-56435660.00</td>\n      <td>34.80</td>\n      <td>2021-01-23</td>\n    </tr>\n    <tr>\n      <th>41</th>\n      <td>AEONTS</td>\n      <td>138995400.00</td>\n      <td>82244300.00</td>\n      <td>2.212397e+08</td>\n      <td>56751100.00</td>\n      <td>8.20</td>\n      <td>2021-01-23</td>\n    </tr>\n    <tr>\n      <th>42</th>\n      <td>COM7</td>\n      <td>83979780.00</td>\n      <td>129343950.00</td>\n      <td>2.133237e+08</td>\n      <td>-45364170.00</td>\n      <td>23.77</td>\n      <td>2021-01-23</td>\n    </tr>\n    <tr>\n      <th>43</th>\n      <td>CRC</td>\n      <td>41224975.00</td>\n      <td>171522650.00</td>\n      <td>2.127476e+08</td>\n      <td>-130297675.00</td>\n      <td>25.51</td>\n      <td>2021-01-23</td>\n    </tr>\n    <tr>\n      <th>44</th>\n      <td>TRUE</td>\n      <td>111921106.00</td>\n      <td>100485306.00</td>\n      <td>2.124064e+08</td>\n      <td>11435800.00</td>\n      <td>21.76</td>\n      <td>2021-01-23</td>\n    </tr>\n    <tr>\n      <th>45</th>\n      <td>BGRIM</td>\n      <td>78332750.00</td>\n      <td>125263035.00</td>\n      <td>2.035958e+08</td>\n      <td>-46930285.00</td>\n      <td>19.06</td>\n      <td>2021-01-23</td>\n    </tr>\n    <tr>\n      <th>46</th>\n      <td>HMPRO</td>\n      <td>106003020.00</td>\n      <td>95478645.20</td>\n      <td>2.014817e+08</td>\n      <td>10524374.80</td>\n      <td>44.47</td>\n      <td>2021-01-23</td>\n    </tr>\n    <tr>\n      <th>47</th>\n      <td>BEM</td>\n      <td>89057927.00</td>\n      <td>107983205.00</td>\n      <td>1.970411e+08</td>\n      <td>-18925278.00</td>\n      <td>20.84</td>\n      <td>2021-01-23</td>\n    </tr>\n    <tr>\n      <th>48</th>\n      <td>VGI</td>\n      <td>125971950.00</td>\n      <td>42737730.00</td>\n      <td>1.687097e+08</td>\n      <td>83234220.00</td>\n      <td>27.68</td>\n      <td>2021-01-23</td>\n    </tr>\n    <tr>\n      <th>49</th>\n      <td>RATCH</td>\n      <td>65994855.00</td>\n      <td>98358711.50</td>\n      <td>1.643536e+08</td>\n      <td>-32363856.50</td>\n      <td>27.74</td>\n      <td>2021-01-23</td>\n    </tr>\n  </tbody>\n</table>\n</div>"
     },
     "metadata": {},
     "execution_count": 9
    }
   ],
   "source": [
    "df.info()\n",
    "df"
   ]
  },
  {
   "cell_type": "code",
   "execution_count": null,
   "metadata": {},
   "outputs": [],
   "source": [
    "df.loc[df['Symbol'] == 'TFI']"
   ]
  },
  {
   "cell_type": "code",
   "execution_count": null,
   "metadata": {},
   "outputs": [],
   "source": []
  }
 ]
}