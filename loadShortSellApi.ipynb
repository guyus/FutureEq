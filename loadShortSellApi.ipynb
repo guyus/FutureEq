{
 "cells": [
  {
   "cell_type": "code",
   "execution_count": 1,
   "metadata": {},
   "outputs": [
    {
     "name": "stdout",
     "output_type": "stream",
     "text": [
      "2023-02-02\n",
      "<class 'pandas.core.frame.DataFrame'>\n",
      "RangeIndex: 418 entries, 0 to 417\n",
      "Data columns (total 5 columns):\n",
      " #   Column         Non-Null Count  Dtype  \n",
      "---  ------         --------------  -----  \n",
      " 0   symbol         418 non-null    object \n",
      " 1   volume         418 non-null    float64\n",
      " 2   value          418 non-null    float64\n",
      " 3   percentVolume  418 non-null    float64\n",
      " 4   percentValue   418 non-null    float64\n",
      "dtypes: float64(4), object(1)\n",
      "memory usage: 16.5+ KB\n",
      "     series      volume        value       perc        per     trddate\n",
      "0       BCT       800.0      47200.0  72.727273  72.727273  2023-02-02\n",
      "1       BEM   6899300.0   67374710.0  33.107476  33.107573  2023-02-02\n",
      "2     SUPER  12866800.0    8234752.0  30.495612  30.408120  2023-02-02\n",
      "3    EGATIF    174900.0    1189320.0  29.593909  29.601053  2023-02-02\n",
      "4     BANPU  14887400.0  172693840.0  27.234577  27.229860  2023-02-02\n",
      "..      ...         ...          ...        ...        ...         ...\n",
      "413    RS-R      3400.0      56860.0   0.037879   0.037846  2023-02-02\n",
      "414   BTG-R      1700.0      56975.0   0.041363   0.041130  2023-02-02\n",
      "415   JTS-R       900.0      44100.0   0.016071   0.016187  2023-02-02\n",
      "416    HL-R       300.0       7320.0   0.011467   0.011191  2023-02-02\n",
      "417  BAFS-R       200.0       6625.0   0.008820   0.008772  2023-02-02\n",
      "\n",
      "[418 rows x 6 columns]\n"
     ]
    }
   ],
   "source": [
    "import json\n",
    "import sqlite3\n",
    "import pandas as pd\n",
    "import config\n",
    "import numpy as np\n",
    "import requests\n",
    "\n",
    "from sqlalchemy import create_engine\n",
    "engine = create_engine('postgresql://'+config.db['user']+':'+config.db['password']+config.db['url'])\n",
    "##--- SET CONFIG SOURCE\n",
    "sSource = \"api\"\n",
    "if sSource==\"file\":\n",
    "    with open('./data/shortsales01-02-23.json','r') as f:\n",
    "        data = json.loads(f.read())\n",
    "elif sSource==\"api\":\n",
    "    r = requests.get('https://www.set.or.th/api/set/shortsales')\n",
    "    data = r.json()\n",
    "    if r.status_code!=200:\n",
    "        exit\n",
    "\n",
    "cdate = data['fromDate'][:10]\n",
    "#d1.info()\n",
    "print(cdate)\n",
    "df = pd.json_normalize(data['shortSales'])\n",
    "\n",
    "df.info()\n",
    "df.rename(columns = {'symbol': 'series', 'percentValue': 'per', 'percentVolume': 'perc'}, inplace = True)\n",
    "df['trddate'] = data['fromDate'][:10] #pd.to_datetime('today').date() - pd.Timedelta(\"1 day\")\n",
    "#df.info()\n",
    "print(df)"
   ]
  },
  {
   "cell_type": "code",
   "execution_count": 2,
   "metadata": {},
   "outputs": [
    {
     "name": "stdout",
     "output_type": "stream",
     "text": [
      "select * from sshortsell where trddate = '2023-02-02'\n",
      "205\n",
      "     series      volume        value       perc        per     trddate\n",
      "0       BCT       800.0      47200.0  72.727273  72.727273  2023-02-02\n",
      "1       BEM   6899300.0   67374710.0  33.107476  33.107573  2023-02-02\n",
      "2     SUPER  12866800.0    8234752.0  30.495612  30.408120  2023-02-02\n",
      "3    EGATIF    174900.0    1189320.0  29.593909  29.601053  2023-02-02\n",
      "4     BANPU  14887400.0  172693840.0  27.234577  27.229860  2023-02-02\n",
      "..      ...         ...          ...        ...        ...         ...\n",
      "413    RS-R      3400.0      56860.0   0.037879   0.037846  2023-02-02\n",
      "414   BTG-R      1700.0      56975.0   0.041363   0.041130  2023-02-02\n",
      "415   JTS-R       900.0      44100.0   0.016071   0.016187  2023-02-02\n",
      "416    HL-R       300.0       7320.0   0.011467   0.011191  2023-02-02\n",
      "417  BAFS-R       200.0       6625.0   0.008820   0.008772  2023-02-02\n",
      "\n",
      "[418 rows x 6 columns]\n"
     ]
    }
   ],
   "source": [
    "sql = \"select * from sshortsell where trddate = '\"+ df['trddate'][0].strftime('%Y-%m-%d') + \"'\"\n",
    "print(sql)\n",
    "rst = pd.read_sql(sql, con=engine)\n",
    "print(len(rst.axes[0]))\n",
    "if len(rst.axes[0]) == 0:df.to_sql(name='sshortsell', con=engine, if_exists='append')\n",
    "print(df)"
   ]
  }
 ],
 "metadata": {
  "kernelspec": {
   "display_name": "Python 3",
   "language": "python",
   "name": "python3"
  },
  "language_info": {
   "codemirror_mode": {
    "name": "ipython",
    "version": 3
   },
   "file_extension": ".py",
   "mimetype": "text/x-python",
   "name": "python",
   "nbconvert_exporter": "python",
   "pygments_lexer": "ipython3",
   "version": "3.10.4"
  },
  "orig_nbformat": 4,
  "vscode": {
   "interpreter": {
    "hash": "82d5a62a450151d23ca72d2f252c1612b2edceef5f1ab97b18ad1642284a8c89"
   }
  }
 },
 "nbformat": 4,
 "nbformat_minor": 2
}
