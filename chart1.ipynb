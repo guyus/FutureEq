{
 "cells": [
  {
   "cell_type": "code",
   "execution_count": 1,
   "source": [
    "#optional installations: \r\n",
    "#!pip install yfinance --upgrade --no-cache-dir\r\n",
    "#!pip3 install pandas_datareader\r\n",
    "\r\n",
    "from IPython.core.display import display, HTML\r\n",
    "display(HTML(\"<style>.container { width:100% !important; }</style>\"))\r\n",
    "\r\n",
    "# ___library_import_statements___\r\n",
    "import pandas as pd\r\n",
    "\r\n",
    "# for pandas_datareader, otherwise it might have issues, sometimes there is some version mismatch\r\n",
    "pd.core.common.is_list_like = pd.api.types.is_list_like\r\n",
    "import pandas_datareader.data as web\r\n",
    "import numpy as np\r\n",
    "import matplotlib.pyplot as plt\r\n",
    "import seaborn as sns\r\n",
    "import datetime\r\n",
    "import time\r\n",
    "\r\n",
    "#newest yahoo API \r\n",
    "import yfinance as yahoo_finance\r\n",
    "\r\n",
    "#maybe I dont need this line\r\n",
    "#yahoo_finance.pdr_override()\r\n",
    "\r\n",
    "#%matplotlib inline"
   ],
   "outputs": [
    {
     "output_type": "display_data",
     "data": {
      "text/html": [
       "<style>.container { width:100% !important; }</style>"
      ],
      "text/plain": [
       "<IPython.core.display.HTML object>"
      ]
     },
     "metadata": {}
    }
   ],
   "metadata": {}
  }
 ],
 "metadata": {
  "orig_nbformat": 4,
  "language_info": {
   "name": "python",
   "version": "3.9.5",
   "mimetype": "text/x-python",
   "codemirror_mode": {
    "name": "ipython",
    "version": 3
   },
   "pygments_lexer": "ipython3",
   "nbconvert_exporter": "python",
   "file_extension": ".py"
  },
  "kernelspec": {
   "name": "python3",
   "display_name": "Python 3.9.5 64-bit"
  },
  "interpreter": {
   "hash": "1b225e77cdaecf956e70e97fb3ef1a4010a020a7f6b6e42727745cfda5364c08"
  }
 },
 "nbformat": 4,
 "nbformat_minor": 2
}