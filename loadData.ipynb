{
 "metadata": {
  "language_info": {
   "codemirror_mode": {
    "name": "ipython",
    "version": 3
   },
   "file_extension": ".py",
   "mimetype": "text/x-python",
   "name": "python",
   "nbconvert_exporter": "python",
   "pygments_lexer": "ipython3",
   "version": "3.9.5"
  },
  "orig_nbformat": 2,
  "kernelspec": {
   "name": "python3",
   "display_name": "Python 3.9.5 64-bit (windows store)"
  },
  "metadata": {
   "interpreter": {
    "hash": "1b225e77cdaecf956e70e97fb3ef1a4010a020a7f6b6e42727745cfda5364c08"
   }
  },
  "interpreter": {
   "hash": "0a7054219bced39535545a88fe651db83a5e6bcc4ffae788c5183edac0b7c084"
  }
 },
 "nbformat": 4,
 "nbformat_minor": 2,
 "cells": [
  {
   "cell_type": "code",
   "execution_count": 40,
   "metadata": {},
   "outputs": [],
   "source": [
    "import pandas as pd\n",
    "import sqlite3\n",
    "# Create your connection.\n",
    "cnx = sqlite3.connect('EquityTrend.db')"
   ]
  },
  {
   "cell_type": "code",
   "execution_count": 41,
   "metadata": {},
   "outputs": [],
   "source": [
    "#path = 'tf.htm'\n",
    "#with open(path, 'rt') as myfile:\n",
    "#    data = myfile.read()\n",
    "\n",
    "#df = pd.read_html(data)\n",
    "#df"
   ]
  },
  {
   "cell_type": "code",
   "execution_count": 42,
   "metadata": {},
   "outputs": [],
   "source": [
    "df=pd.read_html('https://www.tfex.co.th/tfex/dailyMarketReport.html?periodView=A&selectedDate=P&marketListId=SF&instrumentId=&go=GO&locale=en_US')\n",
    "#df=pd.read_html('https://www.tfex.co.th/en/products/stock-mktdata.html')\n",
    "#df=pd.read_html('https://www.google.com')"
   ]
  },
  {
   "cell_type": "code",
   "execution_count": 43,
   "metadata": {},
   "outputs": [
    {
     "output_type": "execute_result",
     "data": {
      "text/plain": [
       "                                     Series  \\\n",
       "0    Single Stock Futures | Underlying Data   \n",
       "1                               AAV Futures   \n",
       "2                                    AAVU21   \n",
       "3                                    AAVZ21   \n",
       "4                                    AAVH22   \n",
       "..                                      ...   \n",
       "765                                WHAUPZ21   \n",
       "766                                WHAUPH22   \n",
       "767                                WHAUPM22   \n",
       "768                     Total WHAUP Futures   \n",
       "769              Total Single Stock Futures   \n",
       "\n",
       "                             Contract Month  \\\n",
       "0    Single Stock Futures | Underlying Data   \n",
       "1                               AAV Futures   \n",
       "2                                    Sep 21   \n",
       "3                                    Dec 21   \n",
       "4                                    Mar 22   \n",
       "..                                      ...   \n",
       "765                                  Dec 21   \n",
       "766                                  Mar 22   \n",
       "767                                  Jun 22   \n",
       "768                     Total WHAUP Futures   \n",
       "769              Total Single Stock Futures   \n",
       "\n",
       "                                       Open  \\\n",
       "0    Single Stock Futures | Underlying Data   \n",
       "1                               AAV Futures   \n",
       "2                                      2.80   \n",
       "3                                      2.83   \n",
       "4                                         -   \n",
       "..                                      ...   \n",
       "765                                       -   \n",
       "766                                       -   \n",
       "767                                       -   \n",
       "768                     Total WHAUP Futures   \n",
       "769              Total Single Stock Futures   \n",
       "\n",
       "                                       High  \\\n",
       "0    Single Stock Futures | Underlying Data   \n",
       "1                               AAV Futures   \n",
       "2                                      2.81   \n",
       "3                                      2.83   \n",
       "4                                         -   \n",
       "..                                      ...   \n",
       "765                                       -   \n",
       "766                                       -   \n",
       "767                                       -   \n",
       "768                     Total WHAUP Futures   \n",
       "769              Total Single Stock Futures   \n",
       "\n",
       "                                        Low  \\\n",
       "0    Single Stock Futures | Underlying Data   \n",
       "1                               AAV Futures   \n",
       "2                                      2.75   \n",
       "3                                      2.83   \n",
       "4                                         -   \n",
       "..                                      ...   \n",
       "765                                       -   \n",
       "766                                       -   \n",
       "767                                       -   \n",
       "768                     Total WHAUP Futures   \n",
       "769              Total Single Stock Futures   \n",
       "\n",
       "                                        Bid                      Offer  \\\n",
       "0    Single Stock Futures | Underlying Data  Trading date: 16 Jul 2021   \n",
       "1                               AAV Futures                AAV Futures   \n",
       "2                                         -                          -   \n",
       "3                                         -                          -   \n",
       "4                                         -                          -   \n",
       "..                                      ...                        ...   \n",
       "765                                       -                          -   \n",
       "766                                       -                          -   \n",
       "767                                       -                          -   \n",
       "768                     Total WHAUP Futures                        NaN   \n",
       "769              Total Single Stock Futures                        NaN   \n",
       "\n",
       "                          Last                  Chg(%Chg)  \\\n",
       "0    Trading date: 16 Jul 2021  Trading date: 16 Jul 2021   \n",
       "1                  AAV Futures                AAV Futures   \n",
       "2                         2.75             -0.08 (-2.83%)   \n",
       "3                         2.83                          -   \n",
       "4                            -                          -   \n",
       "..                         ...                        ...   \n",
       "765                          -                          -   \n",
       "766                          -                          -   \n",
       "767                          -                          -   \n",
       "768                        NaN                        NaN   \n",
       "769                        NaN                        NaN   \n",
       "\n",
       "                           Vol                         OI  \\\n",
       "0    Trading date: 16 Jul 2021  Trading date: 16 Jul 2021   \n",
       "1                  AAV Futures                AAV Futures   \n",
       "2                           72                      12847   \n",
       "3                            5                        708   \n",
       "4                            -                       1003   \n",
       "..                         ...                        ...   \n",
       "765                          -                        525   \n",
       "766                          -                          1   \n",
       "767                          -                          -   \n",
       "768                          -                       2279   \n",
       "769                     262646                    2667994   \n",
       "\n",
       "                      Prior SP                         SP  \n",
       "0    Trading date: 16 Jul 2021  Trading date: 16 Jul 2021  \n",
       "1                  AAV Futures                AAV Futures  \n",
       "2                         2.83                       2.78  \n",
       "3                         2.83                       2.78  \n",
       "4                         2.84                       2.79  \n",
       "..                         ...                        ...  \n",
       "765                       4.22                       4.33  \n",
       "766                       4.16                       4.28  \n",
       "767                       4.11                       4.22  \n",
       "768                        NaN                        NaN  \n",
       "769                        NaN                        NaN  \n",
       "\n",
       "[770 rows x 13 columns]"
      ],
      "text/html": "<div>\n<style scoped>\n    .dataframe tbody tr th:only-of-type {\n        vertical-align: middle;\n    }\n\n    .dataframe tbody tr th {\n        vertical-align: top;\n    }\n\n    .dataframe thead th {\n        text-align: right;\n    }\n</style>\n<table border=\"1\" class=\"dataframe\">\n  <thead>\n    <tr style=\"text-align: right;\">\n      <th></th>\n      <th>Series</th>\n      <th>Contract Month</th>\n      <th>Open</th>\n      <th>High</th>\n      <th>Low</th>\n      <th>Bid</th>\n      <th>Offer</th>\n      <th>Last</th>\n      <th>Chg(%Chg)</th>\n      <th>Vol</th>\n      <th>OI</th>\n      <th>Prior SP</th>\n      <th>SP</th>\n    </tr>\n  </thead>\n  <tbody>\n    <tr>\n      <th>0</th>\n      <td>Single Stock Futures | Underlying Data</td>\n      <td>Single Stock Futures | Underlying Data</td>\n      <td>Single Stock Futures | Underlying Data</td>\n      <td>Single Stock Futures | Underlying Data</td>\n      <td>Single Stock Futures | Underlying Data</td>\n      <td>Single Stock Futures | Underlying Data</td>\n      <td>Trading date: 16 Jul 2021</td>\n      <td>Trading date: 16 Jul 2021</td>\n      <td>Trading date: 16 Jul 2021</td>\n      <td>Trading date: 16 Jul 2021</td>\n      <td>Trading date: 16 Jul 2021</td>\n      <td>Trading date: 16 Jul 2021</td>\n      <td>Trading date: 16 Jul 2021</td>\n    </tr>\n    <tr>\n      <th>1</th>\n      <td>AAV Futures</td>\n      <td>AAV Futures</td>\n      <td>AAV Futures</td>\n      <td>AAV Futures</td>\n      <td>AAV Futures</td>\n      <td>AAV Futures</td>\n      <td>AAV Futures</td>\n      <td>AAV Futures</td>\n      <td>AAV Futures</td>\n      <td>AAV Futures</td>\n      <td>AAV Futures</td>\n      <td>AAV Futures</td>\n      <td>AAV Futures</td>\n    </tr>\n    <tr>\n      <th>2</th>\n      <td>AAVU21</td>\n      <td>Sep 21</td>\n      <td>2.80</td>\n      <td>2.81</td>\n      <td>2.75</td>\n      <td>-</td>\n      <td>-</td>\n      <td>2.75</td>\n      <td>-0.08 (-2.83%)</td>\n      <td>72</td>\n      <td>12847</td>\n      <td>2.83</td>\n      <td>2.78</td>\n    </tr>\n    <tr>\n      <th>3</th>\n      <td>AAVZ21</td>\n      <td>Dec 21</td>\n      <td>2.83</td>\n      <td>2.83</td>\n      <td>2.83</td>\n      <td>-</td>\n      <td>-</td>\n      <td>2.83</td>\n      <td>-</td>\n      <td>5</td>\n      <td>708</td>\n      <td>2.83</td>\n      <td>2.78</td>\n    </tr>\n    <tr>\n      <th>4</th>\n      <td>AAVH22</td>\n      <td>Mar 22</td>\n      <td>-</td>\n      <td>-</td>\n      <td>-</td>\n      <td>-</td>\n      <td>-</td>\n      <td>-</td>\n      <td>-</td>\n      <td>-</td>\n      <td>1003</td>\n      <td>2.84</td>\n      <td>2.79</td>\n    </tr>\n    <tr>\n      <th>...</th>\n      <td>...</td>\n      <td>...</td>\n      <td>...</td>\n      <td>...</td>\n      <td>...</td>\n      <td>...</td>\n      <td>...</td>\n      <td>...</td>\n      <td>...</td>\n      <td>...</td>\n      <td>...</td>\n      <td>...</td>\n      <td>...</td>\n    </tr>\n    <tr>\n      <th>765</th>\n      <td>WHAUPZ21</td>\n      <td>Dec 21</td>\n      <td>-</td>\n      <td>-</td>\n      <td>-</td>\n      <td>-</td>\n      <td>-</td>\n      <td>-</td>\n      <td>-</td>\n      <td>-</td>\n      <td>525</td>\n      <td>4.22</td>\n      <td>4.33</td>\n    </tr>\n    <tr>\n      <th>766</th>\n      <td>WHAUPH22</td>\n      <td>Mar 22</td>\n      <td>-</td>\n      <td>-</td>\n      <td>-</td>\n      <td>-</td>\n      <td>-</td>\n      <td>-</td>\n      <td>-</td>\n      <td>-</td>\n      <td>1</td>\n      <td>4.16</td>\n      <td>4.28</td>\n    </tr>\n    <tr>\n      <th>767</th>\n      <td>WHAUPM22</td>\n      <td>Jun 22</td>\n      <td>-</td>\n      <td>-</td>\n      <td>-</td>\n      <td>-</td>\n      <td>-</td>\n      <td>-</td>\n      <td>-</td>\n      <td>-</td>\n      <td>-</td>\n      <td>4.11</td>\n      <td>4.22</td>\n    </tr>\n    <tr>\n      <th>768</th>\n      <td>Total WHAUP Futures</td>\n      <td>Total WHAUP Futures</td>\n      <td>Total WHAUP Futures</td>\n      <td>Total WHAUP Futures</td>\n      <td>Total WHAUP Futures</td>\n      <td>Total WHAUP Futures</td>\n      <td>NaN</td>\n      <td>NaN</td>\n      <td>NaN</td>\n      <td>-</td>\n      <td>2279</td>\n      <td>NaN</td>\n      <td>NaN</td>\n    </tr>\n    <tr>\n      <th>769</th>\n      <td>Total Single Stock Futures</td>\n      <td>Total Single Stock Futures</td>\n      <td>Total Single Stock Futures</td>\n      <td>Total Single Stock Futures</td>\n      <td>Total Single Stock Futures</td>\n      <td>Total Single Stock Futures</td>\n      <td>NaN</td>\n      <td>NaN</td>\n      <td>NaN</td>\n      <td>262646</td>\n      <td>2667994</td>\n      <td>NaN</td>\n      <td>NaN</td>\n    </tr>\n  </tbody>\n</table>\n<p>770 rows × 13 columns</p>\n</div>"
     },
     "metadata": {},
     "execution_count": 43
    }
   ],
   "source": [
    "df=df[0]\n",
    "df"
   ]
  },
  {
   "cell_type": "code",
   "execution_count": 44,
   "metadata": {},
   "outputs": [
    {
     "output_type": "execute_result",
     "data": {
      "text/plain": [
       "'16 Jul 2021'"
      ]
     },
     "metadata": {},
     "execution_count": 44
    }
   ],
   "source": [
    "\n",
    "tdate = df.iloc[:1,12].apply(lambda x: x.replace('Trading date: ',''))\n",
    "tdate.values[0]"
   ]
  },
  {
   "cell_type": "code",
   "execution_count": 45,
   "metadata": {},
   "outputs": [
    {
     "output_type": "execute_result",
     "data": {
      "text/plain": [
       "                         Series              Contract Month  \\\n",
       "6             Total AAV Futures           Total AAV Futures   \n",
       "12         Total ADVANC Futures        Total ADVANC Futures   \n",
       "18         Total AEONTS Futures        Total AEONTS Futures   \n",
       "24          Total AMATA Futures         Total AMATA Futures   \n",
       "30            Total AOT Futures           Total AOT Futures   \n",
       "..                          ...                         ...   \n",
       "750           Total VNG Futures           Total VNG Futures   \n",
       "756           Total VNT Futures           Total VNT Futures   \n",
       "762           Total WHA Futures           Total WHA Futures   \n",
       "768         Total WHAUP Futures         Total WHAUP Futures   \n",
       "769  Total Single Stock Futures  Total Single Stock Futures   \n",
       "\n",
       "                           Open                        High  \\\n",
       "6             Total AAV Futures           Total AAV Futures   \n",
       "12         Total ADVANC Futures        Total ADVANC Futures   \n",
       "18         Total AEONTS Futures        Total AEONTS Futures   \n",
       "24          Total AMATA Futures         Total AMATA Futures   \n",
       "30            Total AOT Futures           Total AOT Futures   \n",
       "..                          ...                         ...   \n",
       "750           Total VNG Futures           Total VNG Futures   \n",
       "756           Total VNT Futures           Total VNT Futures   \n",
       "762           Total WHA Futures           Total WHA Futures   \n",
       "768         Total WHAUP Futures         Total WHAUP Futures   \n",
       "769  Total Single Stock Futures  Total Single Stock Futures   \n",
       "\n",
       "                            Low                         Bid Offer Last  \\\n",
       "6             Total AAV Futures           Total AAV Futures   NaN  NaN   \n",
       "12         Total ADVANC Futures        Total ADVANC Futures   NaN  NaN   \n",
       "18         Total AEONTS Futures        Total AEONTS Futures   NaN  NaN   \n",
       "24          Total AMATA Futures         Total AMATA Futures   NaN  NaN   \n",
       "30            Total AOT Futures           Total AOT Futures   NaN  NaN   \n",
       "..                          ...                         ...   ...  ...   \n",
       "750           Total VNG Futures           Total VNG Futures   NaN  NaN   \n",
       "756           Total VNT Futures           Total VNT Futures   NaN  NaN   \n",
       "762           Total WHA Futures           Total WHA Futures   NaN  NaN   \n",
       "768         Total WHAUP Futures         Total WHAUP Futures   NaN  NaN   \n",
       "769  Total Single Stock Futures  Total Single Stock Futures   NaN  NaN   \n",
       "\n",
       "    Chg(%Chg)     Vol       OI Prior SP   SP  \n",
       "6         NaN      77    14558      NaN  NaN  \n",
       "12        NaN     231     7965      NaN  NaN  \n",
       "18        NaN      78      611      NaN  NaN  \n",
       "24        NaN    1904    11134      NaN  NaN  \n",
       "30        NaN     135     2962      NaN  NaN  \n",
       "..        ...     ...      ...      ...  ...  \n",
       "750       NaN      28     2885      NaN  NaN  \n",
       "756       NaN     471     2046      NaN  NaN  \n",
       "762       NaN    4080    38001      NaN  NaN  \n",
       "768       NaN       -     2279      NaN  NaN  \n",
       "769       NaN  262646  2667994      NaN  NaN  \n",
       "\n",
       "[129 rows x 13 columns]"
      ],
      "text/html": "<div>\n<style scoped>\n    .dataframe tbody tr th:only-of-type {\n        vertical-align: middle;\n    }\n\n    .dataframe tbody tr th {\n        vertical-align: top;\n    }\n\n    .dataframe thead th {\n        text-align: right;\n    }\n</style>\n<table border=\"1\" class=\"dataframe\">\n  <thead>\n    <tr style=\"text-align: right;\">\n      <th></th>\n      <th>Series</th>\n      <th>Contract Month</th>\n      <th>Open</th>\n      <th>High</th>\n      <th>Low</th>\n      <th>Bid</th>\n      <th>Offer</th>\n      <th>Last</th>\n      <th>Chg(%Chg)</th>\n      <th>Vol</th>\n      <th>OI</th>\n      <th>Prior SP</th>\n      <th>SP</th>\n    </tr>\n  </thead>\n  <tbody>\n    <tr>\n      <th>6</th>\n      <td>Total AAV Futures</td>\n      <td>Total AAV Futures</td>\n      <td>Total AAV Futures</td>\n      <td>Total AAV Futures</td>\n      <td>Total AAV Futures</td>\n      <td>Total AAV Futures</td>\n      <td>NaN</td>\n      <td>NaN</td>\n      <td>NaN</td>\n      <td>77</td>\n      <td>14558</td>\n      <td>NaN</td>\n      <td>NaN</td>\n    </tr>\n    <tr>\n      <th>12</th>\n      <td>Total ADVANC Futures</td>\n      <td>Total ADVANC Futures</td>\n      <td>Total ADVANC Futures</td>\n      <td>Total ADVANC Futures</td>\n      <td>Total ADVANC Futures</td>\n      <td>Total ADVANC Futures</td>\n      <td>NaN</td>\n      <td>NaN</td>\n      <td>NaN</td>\n      <td>231</td>\n      <td>7965</td>\n      <td>NaN</td>\n      <td>NaN</td>\n    </tr>\n    <tr>\n      <th>18</th>\n      <td>Total AEONTS Futures</td>\n      <td>Total AEONTS Futures</td>\n      <td>Total AEONTS Futures</td>\n      <td>Total AEONTS Futures</td>\n      <td>Total AEONTS Futures</td>\n      <td>Total AEONTS Futures</td>\n      <td>NaN</td>\n      <td>NaN</td>\n      <td>NaN</td>\n      <td>78</td>\n      <td>611</td>\n      <td>NaN</td>\n      <td>NaN</td>\n    </tr>\n    <tr>\n      <th>24</th>\n      <td>Total AMATA Futures</td>\n      <td>Total AMATA Futures</td>\n      <td>Total AMATA Futures</td>\n      <td>Total AMATA Futures</td>\n      <td>Total AMATA Futures</td>\n      <td>Total AMATA Futures</td>\n      <td>NaN</td>\n      <td>NaN</td>\n      <td>NaN</td>\n      <td>1904</td>\n      <td>11134</td>\n      <td>NaN</td>\n      <td>NaN</td>\n    </tr>\n    <tr>\n      <th>30</th>\n      <td>Total AOT Futures</td>\n      <td>Total AOT Futures</td>\n      <td>Total AOT Futures</td>\n      <td>Total AOT Futures</td>\n      <td>Total AOT Futures</td>\n      <td>Total AOT Futures</td>\n      <td>NaN</td>\n      <td>NaN</td>\n      <td>NaN</td>\n      <td>135</td>\n      <td>2962</td>\n      <td>NaN</td>\n      <td>NaN</td>\n    </tr>\n    <tr>\n      <th>...</th>\n      <td>...</td>\n      <td>...</td>\n      <td>...</td>\n      <td>...</td>\n      <td>...</td>\n      <td>...</td>\n      <td>...</td>\n      <td>...</td>\n      <td>...</td>\n      <td>...</td>\n      <td>...</td>\n      <td>...</td>\n      <td>...</td>\n    </tr>\n    <tr>\n      <th>750</th>\n      <td>Total VNG Futures</td>\n      <td>Total VNG Futures</td>\n      <td>Total VNG Futures</td>\n      <td>Total VNG Futures</td>\n      <td>Total VNG Futures</td>\n      <td>Total VNG Futures</td>\n      <td>NaN</td>\n      <td>NaN</td>\n      <td>NaN</td>\n      <td>28</td>\n      <td>2885</td>\n      <td>NaN</td>\n      <td>NaN</td>\n    </tr>\n    <tr>\n      <th>756</th>\n      <td>Total VNT Futures</td>\n      <td>Total VNT Futures</td>\n      <td>Total VNT Futures</td>\n      <td>Total VNT Futures</td>\n      <td>Total VNT Futures</td>\n      <td>Total VNT Futures</td>\n      <td>NaN</td>\n      <td>NaN</td>\n      <td>NaN</td>\n      <td>471</td>\n      <td>2046</td>\n      <td>NaN</td>\n      <td>NaN</td>\n    </tr>\n    <tr>\n      <th>762</th>\n      <td>Total WHA Futures</td>\n      <td>Total WHA Futures</td>\n      <td>Total WHA Futures</td>\n      <td>Total WHA Futures</td>\n      <td>Total WHA Futures</td>\n      <td>Total WHA Futures</td>\n      <td>NaN</td>\n      <td>NaN</td>\n      <td>NaN</td>\n      <td>4080</td>\n      <td>38001</td>\n      <td>NaN</td>\n      <td>NaN</td>\n    </tr>\n    <tr>\n      <th>768</th>\n      <td>Total WHAUP Futures</td>\n      <td>Total WHAUP Futures</td>\n      <td>Total WHAUP Futures</td>\n      <td>Total WHAUP Futures</td>\n      <td>Total WHAUP Futures</td>\n      <td>Total WHAUP Futures</td>\n      <td>NaN</td>\n      <td>NaN</td>\n      <td>NaN</td>\n      <td>-</td>\n      <td>2279</td>\n      <td>NaN</td>\n      <td>NaN</td>\n    </tr>\n    <tr>\n      <th>769</th>\n      <td>Total Single Stock Futures</td>\n      <td>Total Single Stock Futures</td>\n      <td>Total Single Stock Futures</td>\n      <td>Total Single Stock Futures</td>\n      <td>Total Single Stock Futures</td>\n      <td>Total Single Stock Futures</td>\n      <td>NaN</td>\n      <td>NaN</td>\n      <td>NaN</td>\n      <td>262646</td>\n      <td>2667994</td>\n      <td>NaN</td>\n      <td>NaN</td>\n    </tr>\n  </tbody>\n</table>\n<p>129 rows × 13 columns</p>\n</div>"
     },
     "metadata": {},
     "execution_count": 45
    }
   ],
   "source": [
    "df1=df[df.Series.str.contains('Total',case=False)]\n",
    "df1"
   ]
  },
  {
   "cell_type": "code",
   "execution_count": 68,
   "metadata": {},
   "outputs": [
    {
     "output_type": "execute_result",
     "data": {
      "text/plain": [
       "                         Series     Vol       OI\n",
       "6             Total AAV Futures      77    14558\n",
       "12         Total ADVANC Futures     231     7965\n",
       "18         Total AEONTS Futures      78      611\n",
       "24          Total AMATA Futures    1904    11134\n",
       "30            Total AOT Futures     135     2962\n",
       "..                          ...     ...      ...\n",
       "750           Total VNG Futures      28     2885\n",
       "756           Total VNT Futures     471     2046\n",
       "762           Total WHA Futures    4080    38001\n",
       "768         Total WHAUP Futures       -     2279\n",
       "769  Total Single Stock Futures  262646  2667994\n",
       "\n",
       "[129 rows x 3 columns]"
      ],
      "text/html": "<div>\n<style scoped>\n    .dataframe tbody tr th:only-of-type {\n        vertical-align: middle;\n    }\n\n    .dataframe tbody tr th {\n        vertical-align: top;\n    }\n\n    .dataframe thead th {\n        text-align: right;\n    }\n</style>\n<table border=\"1\" class=\"dataframe\">\n  <thead>\n    <tr style=\"text-align: right;\">\n      <th></th>\n      <th>Series</th>\n      <th>Vol</th>\n      <th>OI</th>\n    </tr>\n  </thead>\n  <tbody>\n    <tr>\n      <th>6</th>\n      <td>Total AAV Futures</td>\n      <td>77</td>\n      <td>14558</td>\n    </tr>\n    <tr>\n      <th>12</th>\n      <td>Total ADVANC Futures</td>\n      <td>231</td>\n      <td>7965</td>\n    </tr>\n    <tr>\n      <th>18</th>\n      <td>Total AEONTS Futures</td>\n      <td>78</td>\n      <td>611</td>\n    </tr>\n    <tr>\n      <th>24</th>\n      <td>Total AMATA Futures</td>\n      <td>1904</td>\n      <td>11134</td>\n    </tr>\n    <tr>\n      <th>30</th>\n      <td>Total AOT Futures</td>\n      <td>135</td>\n      <td>2962</td>\n    </tr>\n    <tr>\n      <th>...</th>\n      <td>...</td>\n      <td>...</td>\n      <td>...</td>\n    </tr>\n    <tr>\n      <th>750</th>\n      <td>Total VNG Futures</td>\n      <td>28</td>\n      <td>2885</td>\n    </tr>\n    <tr>\n      <th>756</th>\n      <td>Total VNT Futures</td>\n      <td>471</td>\n      <td>2046</td>\n    </tr>\n    <tr>\n      <th>762</th>\n      <td>Total WHA Futures</td>\n      <td>4080</td>\n      <td>38001</td>\n    </tr>\n    <tr>\n      <th>768</th>\n      <td>Total WHAUP Futures</td>\n      <td>-</td>\n      <td>2279</td>\n    </tr>\n    <tr>\n      <th>769</th>\n      <td>Total Single Stock Futures</td>\n      <td>262646</td>\n      <td>2667994</td>\n    </tr>\n  </tbody>\n</table>\n<p>129 rows × 3 columns</p>\n</div>"
     },
     "metadata": {},
     "execution_count": 68
    }
   ],
   "source": [
    "#df1=df[df.index % 6 == 0]\n",
    "#pd.set_option('display.max_rows', df1.shape[0]+1)\n",
    "#df2=df1.drop(df1.columns[[1,2,3,4,5,8,9]], axis=1) \n",
    "#df2 = df1.loc[:['Series','Vol','OI']]\n",
    "df2 = df1[['Series','Vol','OI']]\n",
    "df2"
   ]
  },
  {
   "cell_type": "code",
   "execution_count": 78,
   "metadata": {},
   "outputs": [
    {
     "output_type": "execute_result",
     "data": {
      "text/plain": [
       "                         Series     Vol       OI\n",
       "6             Total AAV Futures      77    14558\n",
       "12         Total ADVANC Futures     231     7965\n",
       "18         Total AEONTS Futures      78      611\n",
       "24          Total AMATA Futures    1904    11134\n",
       "30            Total AOT Futures     135     2962\n",
       "..                          ...     ...      ...\n",
       "750           Total VNG Futures      28     2885\n",
       "756           Total VNT Futures     471     2046\n",
       "762           Total WHA Futures    4080    38001\n",
       "768         Total WHAUP Futures       -     2279\n",
       "769  Total Single Stock Futures  262646  2667994\n",
       "\n",
       "[129 rows x 3 columns]"
      ],
      "text/html": "<div>\n<style scoped>\n    .dataframe tbody tr th:only-of-type {\n        vertical-align: middle;\n    }\n\n    .dataframe tbody tr th {\n        vertical-align: top;\n    }\n\n    .dataframe thead th {\n        text-align: right;\n    }\n</style>\n<table border=\"1\" class=\"dataframe\">\n  <thead>\n    <tr style=\"text-align: right;\">\n      <th></th>\n      <th>Series</th>\n      <th>Vol</th>\n      <th>OI</th>\n    </tr>\n  </thead>\n  <tbody>\n    <tr>\n      <th>6</th>\n      <td>Total AAV Futures</td>\n      <td>77</td>\n      <td>14558</td>\n    </tr>\n    <tr>\n      <th>12</th>\n      <td>Total ADVANC Futures</td>\n      <td>231</td>\n      <td>7965</td>\n    </tr>\n    <tr>\n      <th>18</th>\n      <td>Total AEONTS Futures</td>\n      <td>78</td>\n      <td>611</td>\n    </tr>\n    <tr>\n      <th>24</th>\n      <td>Total AMATA Futures</td>\n      <td>1904</td>\n      <td>11134</td>\n    </tr>\n    <tr>\n      <th>30</th>\n      <td>Total AOT Futures</td>\n      <td>135</td>\n      <td>2962</td>\n    </tr>\n    <tr>\n      <th>...</th>\n      <td>...</td>\n      <td>...</td>\n      <td>...</td>\n    </tr>\n    <tr>\n      <th>750</th>\n      <td>Total VNG Futures</td>\n      <td>28</td>\n      <td>2885</td>\n    </tr>\n    <tr>\n      <th>756</th>\n      <td>Total VNT Futures</td>\n      <td>471</td>\n      <td>2046</td>\n    </tr>\n    <tr>\n      <th>762</th>\n      <td>Total WHA Futures</td>\n      <td>4080</td>\n      <td>38001</td>\n    </tr>\n    <tr>\n      <th>768</th>\n      <td>Total WHAUP Futures</td>\n      <td>-</td>\n      <td>2279</td>\n    </tr>\n    <tr>\n      <th>769</th>\n      <td>Total Single Stock Futures</td>\n      <td>262646</td>\n      <td>2667994</td>\n    </tr>\n  </tbody>\n</table>\n<p>129 rows × 3 columns</p>\n</div>"
     },
     "metadata": {},
     "execution_count": 78
    }
   ],
   "source": [
    "df2.replace(to_replace=r'^.a.$', value='cc', regex=True)\n",
    "#df2.loc[:,'Series'] = df2.loc[:,'Series'].apply(lambda x: x.replace('Total ',''))\n",
    "df2"
   ]
  },
  {
   "cell_type": "code",
   "execution_count": 18,
   "metadata": {},
   "outputs": [
    {
     "output_type": "stream",
     "name": "stderr",
     "text": [
      "C:\\Users\\Guy-k\\AppData\\Local\\Packages\\PythonSoftwareFoundation.Python.3.9_qbz5n2kfra8p0\\LocalCache\\local-packages\\Python39\\site-packages\\pandas\\core\\indexing.py:1843: SettingWithCopyWarning: \nA value is trying to be set on a copy of a slice from a DataFrame.\nTry using .loc[row_indexer,col_indexer] = value instead\n\nSee the caveats in the documentation: https://pandas.pydata.org/pandas-docs/stable/user_guide/indexing.html#returning-a-view-versus-a-copy\n  self.obj[item_labels[indexer[info_axis]]] = value\n"
     ]
    },
    {
     "output_type": "execute_result",
     "data": {
      "text/plain": [
       "datetime.date(2021, 7, 16)"
      ]
     },
     "metadata": {},
     "execution_count": 18
    }
   ],
   "source": [
    "    df2.iloc[:,2] = df2.iloc[:,2].apply(lambda x: x.replace(' Futures',''))\n",
    "    df2.iloc[:,2] = df2.iloc[:,2].apply(lambda x: x.replace('Total ',''))\n",
    "    df2 = df2.apply(lambda x: x.replace('-',0))\n",
    "    \n",
    "    keptDate = pd.to_datetime(tdate.values[0]).date()\n",
    "    df2['TrdDate'] = pd.to_datetime(tdate.values[0]).date()\n",
    "    df2\n",
    "    #filter = df2[\"Series\"]==\"AAV\"\n",
    "    keptDate  \n",
    "# printing only filtered columns \n",
    "#df2.where(filter).dropna() "
   ]
  },
  {
   "cell_type": "code",
   "execution_count": 19,
   "metadata": {},
   "outputs": [],
   "source": [
    "#sql = \"select * from ssfOI where TrdDate = '\"+ keptDate.strftime('%Y-%m-%d') + \"'\"\n",
    "#print(sql)\n",
    "#rst = pd.read_sql(sql, cnx)\n",
    "#print(len(rst.axes[0]))\n",
    "#if len(rst.axes[0]) > 0:print(rst)\n",
    "#rst"
   ]
  },
  {
   "cell_type": "code",
   "execution_count": 21,
   "metadata": {},
   "outputs": [],
   "source": [
    "df2.to_sql(name='ssfOITemp', con=cnx, if_exists='append')"
   ]
  },
  {
   "cell_type": "code",
   "execution_count": 22,
   "metadata": {},
   "outputs": [],
   "source": [
    "\n",
    "p2 = pd.read_sql('select * from ssfOITemp', cnx)"
   ]
  },
  {
   "cell_type": "code",
   "execution_count": 23,
   "metadata": {},
   "outputs": [
    {
     "output_type": "execute_result",
     "data": {
      "text/plain": [
       "     index                      Series     Vol       OI     TrdDate\n",
       "0        6           Total AAV Futures      77    14558  2021-07-16\n",
       "1       12        Total ADVANC Futures     231     7965  2021-07-16\n",
       "2       18        Total AEONTS Futures      78      611  2021-07-16\n",
       "3       24         Total AMATA Futures    1904    11134  2021-07-16\n",
       "4       30           Total AOT Futures     135     2962  2021-07-16\n",
       "..     ...                         ...     ...      ...         ...\n",
       "124    750           Total VNG Futures      28     2885  2021-07-16\n",
       "125    756           Total VNT Futures     471     2046  2021-07-16\n",
       "126    762           Total WHA Futures    4080    38001  2021-07-16\n",
       "127    768         Total WHAUP Futures       0     2279  2021-07-16\n",
       "128    769  Total Single Stock Futures  262646  2667994  2021-07-16\n",
       "\n",
       "[129 rows x 5 columns]"
      ],
      "text/html": "<div>\n<style scoped>\n    .dataframe tbody tr th:only-of-type {\n        vertical-align: middle;\n    }\n\n    .dataframe tbody tr th {\n        vertical-align: top;\n    }\n\n    .dataframe thead th {\n        text-align: right;\n    }\n</style>\n<table border=\"1\" class=\"dataframe\">\n  <thead>\n    <tr style=\"text-align: right;\">\n      <th></th>\n      <th>index</th>\n      <th>Series</th>\n      <th>Vol</th>\n      <th>OI</th>\n      <th>TrdDate</th>\n    </tr>\n  </thead>\n  <tbody>\n    <tr>\n      <th>0</th>\n      <td>6</td>\n      <td>Total AAV Futures</td>\n      <td>77</td>\n      <td>14558</td>\n      <td>2021-07-16</td>\n    </tr>\n    <tr>\n      <th>1</th>\n      <td>12</td>\n      <td>Total ADVANC Futures</td>\n      <td>231</td>\n      <td>7965</td>\n      <td>2021-07-16</td>\n    </tr>\n    <tr>\n      <th>2</th>\n      <td>18</td>\n      <td>Total AEONTS Futures</td>\n      <td>78</td>\n      <td>611</td>\n      <td>2021-07-16</td>\n    </tr>\n    <tr>\n      <th>3</th>\n      <td>24</td>\n      <td>Total AMATA Futures</td>\n      <td>1904</td>\n      <td>11134</td>\n      <td>2021-07-16</td>\n    </tr>\n    <tr>\n      <th>4</th>\n      <td>30</td>\n      <td>Total AOT Futures</td>\n      <td>135</td>\n      <td>2962</td>\n      <td>2021-07-16</td>\n    </tr>\n    <tr>\n      <th>...</th>\n      <td>...</td>\n      <td>...</td>\n      <td>...</td>\n      <td>...</td>\n      <td>...</td>\n    </tr>\n    <tr>\n      <th>124</th>\n      <td>750</td>\n      <td>Total VNG Futures</td>\n      <td>28</td>\n      <td>2885</td>\n      <td>2021-07-16</td>\n    </tr>\n    <tr>\n      <th>125</th>\n      <td>756</td>\n      <td>Total VNT Futures</td>\n      <td>471</td>\n      <td>2046</td>\n      <td>2021-07-16</td>\n    </tr>\n    <tr>\n      <th>126</th>\n      <td>762</td>\n      <td>Total WHA Futures</td>\n      <td>4080</td>\n      <td>38001</td>\n      <td>2021-07-16</td>\n    </tr>\n    <tr>\n      <th>127</th>\n      <td>768</td>\n      <td>Total WHAUP Futures</td>\n      <td>0</td>\n      <td>2279</td>\n      <td>2021-07-16</td>\n    </tr>\n    <tr>\n      <th>128</th>\n      <td>769</td>\n      <td>Total Single Stock Futures</td>\n      <td>262646</td>\n      <td>2667994</td>\n      <td>2021-07-16</td>\n    </tr>\n  </tbody>\n</table>\n<p>129 rows × 5 columns</p>\n</div>"
     },
     "metadata": {},
     "execution_count": 23
    }
   ],
   "source": [
    "p2"
   ]
  },
  {
   "cell_type": "code",
   "execution_count": 137,
   "metadata": {},
   "outputs": [
    {
     "output_type": "execute_result",
     "data": {
      "text/plain": [
       "     index        Series     Vol       OI    TrdDate\n",
       "0        6           AAV      14    14519 2020-11-13\n",
       "1       12        ADVANC    1203     3851 2020-11-13\n",
       "2       18        AEONTS      50      309 2020-11-13\n",
       "3       24         AMATA    3664     2675 2020-11-13\n",
       "4       30           AOT    1164     8668 2020-11-13\n",
       "..     ...           ...     ...      ...        ...\n",
       "118    711           VNG       -    17512 2020-11-13\n",
       "119    717           VNT       1     1895 2020-11-13\n",
       "120    723           WHA   15290    42311 2020-11-13\n",
       "121    729         WHAUP       6      559 2020-11-13\n",
       "122    730  Single Stock  194980  1771515 2020-11-13\n",
       "\n",
       "[123 rows x 5 columns]"
      ],
      "text/html": "<div>\n<style scoped>\n    .dataframe tbody tr th:only-of-type {\n        vertical-align: middle;\n    }\n\n    .dataframe tbody tr th {\n        vertical-align: top;\n    }\n\n    .dataframe thead th {\n        text-align: right;\n    }\n</style>\n<table border=\"1\" class=\"dataframe\">\n  <thead>\n    <tr style=\"text-align: right;\">\n      <th></th>\n      <th>index</th>\n      <th>Series</th>\n      <th>Vol</th>\n      <th>OI</th>\n      <th>TrdDate</th>\n    </tr>\n  </thead>\n  <tbody>\n    <tr>\n      <th>0</th>\n      <td>6</td>\n      <td>AAV</td>\n      <td>14</td>\n      <td>14519</td>\n      <td>2020-11-13</td>\n    </tr>\n    <tr>\n      <th>1</th>\n      <td>12</td>\n      <td>ADVANC</td>\n      <td>1203</td>\n      <td>3851</td>\n      <td>2020-11-13</td>\n    </tr>\n    <tr>\n      <th>2</th>\n      <td>18</td>\n      <td>AEONTS</td>\n      <td>50</td>\n      <td>309</td>\n      <td>2020-11-13</td>\n    </tr>\n    <tr>\n      <th>3</th>\n      <td>24</td>\n      <td>AMATA</td>\n      <td>3664</td>\n      <td>2675</td>\n      <td>2020-11-13</td>\n    </tr>\n    <tr>\n      <th>4</th>\n      <td>30</td>\n      <td>AOT</td>\n      <td>1164</td>\n      <td>8668</td>\n      <td>2020-11-13</td>\n    </tr>\n    <tr>\n      <th>...</th>\n      <td>...</td>\n      <td>...</td>\n      <td>...</td>\n      <td>...</td>\n      <td>...</td>\n    </tr>\n    <tr>\n      <th>118</th>\n      <td>711</td>\n      <td>VNG</td>\n      <td>-</td>\n      <td>17512</td>\n      <td>2020-11-13</td>\n    </tr>\n    <tr>\n      <th>119</th>\n      <td>717</td>\n      <td>VNT</td>\n      <td>1</td>\n      <td>1895</td>\n      <td>2020-11-13</td>\n    </tr>\n    <tr>\n      <th>120</th>\n      <td>723</td>\n      <td>WHA</td>\n      <td>15290</td>\n      <td>42311</td>\n      <td>2020-11-13</td>\n    </tr>\n    <tr>\n      <th>121</th>\n      <td>729</td>\n      <td>WHAUP</td>\n      <td>6</td>\n      <td>559</td>\n      <td>2020-11-13</td>\n    </tr>\n    <tr>\n      <th>122</th>\n      <td>730</td>\n      <td>Single Stock</td>\n      <td>194980</td>\n      <td>1771515</td>\n      <td>2020-11-13</td>\n    </tr>\n  </tbody>\n</table>\n<p>123 rows × 5 columns</p>\n</div>"
     },
     "metadata": {},
     "execution_count": 137
    }
   ],
   "source": [
    "p2['TrdDate'] = pd.to_datetime(p2['TrdDate'])\n",
    "p2"
   ]
  },
  {
   "cell_type": "code",
   "execution_count": null,
   "metadata": {},
   "outputs": [],
   "source": []
  }
 ]
}