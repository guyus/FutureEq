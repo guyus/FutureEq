{
 "metadata": {
  "language_info": {
   "codemirror_mode": {
    "name": "ipython",
    "version": 3
   },
   "file_extension": ".py",
   "mimetype": "text/x-python",
   "name": "python",
   "nbconvert_exporter": "python",
   "pygments_lexer": "ipython3",
   "version": "3.9.0-final"
  },
  "orig_nbformat": 2,
  "kernelspec": {
   "name": "python3",
   "display_name": "Python 3.9.0 64-bit",
   "metadata": {
    "interpreter": {
     "hash": "7812ea015bdcee6f23a998adcdd2ef97c151c0c241b7b7070987d9313e41299d"
    }
   }
  }
 },
 "nbformat": 4,
 "nbformat_minor": 2,
 "cells": [
  {
   "cell_type": "code",
   "execution_count": 21,
   "metadata": {},
   "outputs": [],
   "source": [
    "import pandas as pd\n",
    "import sqlite3\n",
    "# Create your connection.\n",
    "cnx = sqlite3.connect('EquityTrend.db')"
   ]
  },
  {
   "cell_type": "code",
   "execution_count": 22,
   "metadata": {},
   "outputs": [],
   "source": [
    "#path = 'tf.htm'\n",
    "#with open(path, 'rt') as myfile:\n",
    "#    data = myfile.read()\n",
    "\n",
    "#df = pd.read_html(data)\n",
    "#df"
   ]
  },
  {
   "cell_type": "code",
   "execution_count": 23,
   "metadata": {},
   "outputs": [],
   "source": [
    "df=pd.read_html('https://www.tfex.co.th/tfex/dailyMarketReport.html?periodView=A&selectedDate=P&marketListId=SF&instrumentId=&go=GO&locale=en_US')\n",
    "#df=pd.read_html('https://www.tfex.co.th/en/products/stock-mktdata.html')\n",
    "#df=pd.read_html('https://www.google.com')"
   ]
  },
  {
   "cell_type": "code",
   "execution_count": null,
   "metadata": {},
   "outputs": [],
   "source": []
  },
  {
   "cell_type": "code",
   "execution_count": 24,
   "metadata": {},
   "outputs": [
    {
     "output_type": "execute_result",
     "data": {
      "text/plain": [
       "                                     Series  \\\n",
       "0    Single Stock Futures | Underlying Data   \n",
       "1                               AAV Futures   \n",
       "2                                    AAVH21   \n",
       "3                                    AAVM21   \n",
       "4                                    AAVU21   \n",
       "..                                      ...   \n",
       "723                                WHAUPM21   \n",
       "724                                WHAUPU21   \n",
       "725                                WHAUPZ21   \n",
       "726                     Total WHAUP Futures   \n",
       "727              Total Single Stock Futures   \n",
       "\n",
       "                             Contract Month  \\\n",
       "0    Single Stock Futures | Underlying Data   \n",
       "1                               AAV Futures   \n",
       "2                                    Mar 21   \n",
       "3                                    Jun 21   \n",
       "4                                    Sep 21   \n",
       "..                                      ...   \n",
       "723                                  Jun 21   \n",
       "724                                  Sep 21   \n",
       "725                                  Dec 21   \n",
       "726                     Total WHAUP Futures   \n",
       "727              Total Single Stock Futures   \n",
       "\n",
       "                                       Open  \\\n",
       "0    Single Stock Futures | Underlying Data   \n",
       "1                               AAV Futures   \n",
       "2                                      2.81   \n",
       "3                                      2.80   \n",
       "4                                      2.81   \n",
       "..                                      ...   \n",
       "723                                    4.31   \n",
       "724                                       -   \n",
       "725                                       -   \n",
       "726                     Total WHAUP Futures   \n",
       "727              Total Single Stock Futures   \n",
       "\n",
       "                                       High  \\\n",
       "0    Single Stock Futures | Underlying Data   \n",
       "1                               AAV Futures   \n",
       "2                                      2.89   \n",
       "3                                      2.89   \n",
       "4                                      2.81   \n",
       "..                                      ...   \n",
       "723                                    4.31   \n",
       "724                                       -   \n",
       "725                                       -   \n",
       "726                     Total WHAUP Futures   \n",
       "727              Total Single Stock Futures   \n",
       "\n",
       "                                        Low  \\\n",
       "0    Single Stock Futures | Underlying Data   \n",
       "1                               AAV Futures   \n",
       "2                                      2.81   \n",
       "3                                      2.80   \n",
       "4                                      2.81   \n",
       "..                                      ...   \n",
       "723                                    4.31   \n",
       "724                                       -   \n",
       "725                                       -   \n",
       "726                     Total WHAUP Futures   \n",
       "727              Total Single Stock Futures   \n",
       "\n",
       "                                        Bid                      Offer  \\\n",
       "0    Single Stock Futures | Underlying Data  Trading date: 26 Mar 2021   \n",
       "1                               AAV Futures                AAV Futures   \n",
       "2                                         -                          -   \n",
       "3                                         -                          -   \n",
       "4                                         -                          -   \n",
       "..                                      ...                        ...   \n",
       "723                                       -                          -   \n",
       "724                                       -                          -   \n",
       "725                                       -                          -   \n",
       "726                     Total WHAUP Futures                        NaN   \n",
       "727              Total Single Stock Futures                        NaN   \n",
       "\n",
       "                          Last                  Chg(%Chg)  \\\n",
       "0    Trading date: 26 Mar 2021  Trading date: 26 Mar 2021   \n",
       "1                  AAV Futures                AAV Futures   \n",
       "2                         2.84             +0.05 (+1.79%)   \n",
       "3                         2.84             +0.05 (+1.79%)   \n",
       "4                         2.81             +0.01 (+0.36%)   \n",
       "..                         ...                        ...   \n",
       "723                       4.31             -0.03 (-0.69%)   \n",
       "724                          -                          -   \n",
       "725                          -                          -   \n",
       "726                        NaN                        NaN   \n",
       "727                        NaN                        NaN   \n",
       "\n",
       "                           Vol                         OI  \\\n",
       "0    Trading date: 26 Mar 2021  Trading date: 26 Mar 2021   \n",
       "1                  AAV Futures                AAV Futures   \n",
       "2                           67                      14169   \n",
       "3                         6658                       9611   \n",
       "4                         2001                       6034   \n",
       "..                         ...                        ...   \n",
       "723                          5                       2131   \n",
       "724                          -                        560   \n",
       "725                          -                       2004   \n",
       "726                          5                       7072   \n",
       "727                     477221                    2523911   \n",
       "\n",
       "                      Prior SP                         SP  \n",
       "0    Trading date: 26 Mar 2021  Trading date: 26 Mar 2021  \n",
       "1                  AAV Futures                AAV Futures  \n",
       "2                         2.79                       2.84  \n",
       "3                         2.79                       2.87  \n",
       "4                         2.80                       2.85  \n",
       "..                         ...                        ...  \n",
       "723                       4.34                       4.34  \n",
       "724                       4.28                       4.28  \n",
       "725                       4.23                       4.23  \n",
       "726                        NaN                        NaN  \n",
       "727                        NaN                        NaN  \n",
       "\n",
       "[728 rows x 13 columns]"
      ],
      "text/html": "<div>\n<style scoped>\n    .dataframe tbody tr th:only-of-type {\n        vertical-align: middle;\n    }\n\n    .dataframe tbody tr th {\n        vertical-align: top;\n    }\n\n    .dataframe thead th {\n        text-align: right;\n    }\n</style>\n<table border=\"1\" class=\"dataframe\">\n  <thead>\n    <tr style=\"text-align: right;\">\n      <th></th>\n      <th>Series</th>\n      <th>Contract Month</th>\n      <th>Open</th>\n      <th>High</th>\n      <th>Low</th>\n      <th>Bid</th>\n      <th>Offer</th>\n      <th>Last</th>\n      <th>Chg(%Chg)</th>\n      <th>Vol</th>\n      <th>OI</th>\n      <th>Prior SP</th>\n      <th>SP</th>\n    </tr>\n  </thead>\n  <tbody>\n    <tr>\n      <th>0</th>\n      <td>Single Stock Futures | Underlying Data</td>\n      <td>Single Stock Futures | Underlying Data</td>\n      <td>Single Stock Futures | Underlying Data</td>\n      <td>Single Stock Futures | Underlying Data</td>\n      <td>Single Stock Futures | Underlying Data</td>\n      <td>Single Stock Futures | Underlying Data</td>\n      <td>Trading date: 26 Mar 2021</td>\n      <td>Trading date: 26 Mar 2021</td>\n      <td>Trading date: 26 Mar 2021</td>\n      <td>Trading date: 26 Mar 2021</td>\n      <td>Trading date: 26 Mar 2021</td>\n      <td>Trading date: 26 Mar 2021</td>\n      <td>Trading date: 26 Mar 2021</td>\n    </tr>\n    <tr>\n      <th>1</th>\n      <td>AAV Futures</td>\n      <td>AAV Futures</td>\n      <td>AAV Futures</td>\n      <td>AAV Futures</td>\n      <td>AAV Futures</td>\n      <td>AAV Futures</td>\n      <td>AAV Futures</td>\n      <td>AAV Futures</td>\n      <td>AAV Futures</td>\n      <td>AAV Futures</td>\n      <td>AAV Futures</td>\n      <td>AAV Futures</td>\n      <td>AAV Futures</td>\n    </tr>\n    <tr>\n      <th>2</th>\n      <td>AAVH21</td>\n      <td>Mar 21</td>\n      <td>2.81</td>\n      <td>2.89</td>\n      <td>2.81</td>\n      <td>-</td>\n      <td>-</td>\n      <td>2.84</td>\n      <td>+0.05 (+1.79%)</td>\n      <td>67</td>\n      <td>14169</td>\n      <td>2.79</td>\n      <td>2.84</td>\n    </tr>\n    <tr>\n      <th>3</th>\n      <td>AAVM21</td>\n      <td>Jun 21</td>\n      <td>2.80</td>\n      <td>2.89</td>\n      <td>2.80</td>\n      <td>-</td>\n      <td>-</td>\n      <td>2.84</td>\n      <td>+0.05 (+1.79%)</td>\n      <td>6658</td>\n      <td>9611</td>\n      <td>2.79</td>\n      <td>2.87</td>\n    </tr>\n    <tr>\n      <th>4</th>\n      <td>AAVU21</td>\n      <td>Sep 21</td>\n      <td>2.81</td>\n      <td>2.81</td>\n      <td>2.81</td>\n      <td>-</td>\n      <td>-</td>\n      <td>2.81</td>\n      <td>+0.01 (+0.36%)</td>\n      <td>2001</td>\n      <td>6034</td>\n      <td>2.80</td>\n      <td>2.85</td>\n    </tr>\n    <tr>\n      <th>...</th>\n      <td>...</td>\n      <td>...</td>\n      <td>...</td>\n      <td>...</td>\n      <td>...</td>\n      <td>...</td>\n      <td>...</td>\n      <td>...</td>\n      <td>...</td>\n      <td>...</td>\n      <td>...</td>\n      <td>...</td>\n      <td>...</td>\n    </tr>\n    <tr>\n      <th>723</th>\n      <td>WHAUPM21</td>\n      <td>Jun 21</td>\n      <td>4.31</td>\n      <td>4.31</td>\n      <td>4.31</td>\n      <td>-</td>\n      <td>-</td>\n      <td>4.31</td>\n      <td>-0.03 (-0.69%)</td>\n      <td>5</td>\n      <td>2131</td>\n      <td>4.34</td>\n      <td>4.34</td>\n    </tr>\n    <tr>\n      <th>724</th>\n      <td>WHAUPU21</td>\n      <td>Sep 21</td>\n      <td>-</td>\n      <td>-</td>\n      <td>-</td>\n      <td>-</td>\n      <td>-</td>\n      <td>-</td>\n      <td>-</td>\n      <td>-</td>\n      <td>560</td>\n      <td>4.28</td>\n      <td>4.28</td>\n    </tr>\n    <tr>\n      <th>725</th>\n      <td>WHAUPZ21</td>\n      <td>Dec 21</td>\n      <td>-</td>\n      <td>-</td>\n      <td>-</td>\n      <td>-</td>\n      <td>-</td>\n      <td>-</td>\n      <td>-</td>\n      <td>-</td>\n      <td>2004</td>\n      <td>4.23</td>\n      <td>4.23</td>\n    </tr>\n    <tr>\n      <th>726</th>\n      <td>Total WHAUP Futures</td>\n      <td>Total WHAUP Futures</td>\n      <td>Total WHAUP Futures</td>\n      <td>Total WHAUP Futures</td>\n      <td>Total WHAUP Futures</td>\n      <td>Total WHAUP Futures</td>\n      <td>NaN</td>\n      <td>NaN</td>\n      <td>NaN</td>\n      <td>5</td>\n      <td>7072</td>\n      <td>NaN</td>\n      <td>NaN</td>\n    </tr>\n    <tr>\n      <th>727</th>\n      <td>Total Single Stock Futures</td>\n      <td>Total Single Stock Futures</td>\n      <td>Total Single Stock Futures</td>\n      <td>Total Single Stock Futures</td>\n      <td>Total Single Stock Futures</td>\n      <td>Total Single Stock Futures</td>\n      <td>NaN</td>\n      <td>NaN</td>\n      <td>NaN</td>\n      <td>477221</td>\n      <td>2523911</td>\n      <td>NaN</td>\n      <td>NaN</td>\n    </tr>\n  </tbody>\n</table>\n<p>728 rows × 13 columns</p>\n</div>"
     },
     "metadata": {},
     "execution_count": 24
    }
   ],
   "source": [
    "df=df[0]\n",
    "df"
   ]
  },
  {
   "cell_type": "code",
   "execution_count": 25,
   "metadata": {},
   "outputs": [
    {
     "output_type": "execute_result",
     "data": {
      "text/plain": [
       "'26 Mar 2021'"
      ]
     },
     "metadata": {},
     "execution_count": 25
    }
   ],
   "source": [
    "\n",
    "tdate = df.iloc[:1,12].apply(lambda x: x.replace('Trading date: ',''))\n",
    "tdate.values[0]"
   ]
  },
  {
   "cell_type": "code",
   "execution_count": 26,
   "metadata": {},
   "outputs": [
    {
     "output_type": "execute_result",
     "data": {
      "text/plain": [
       "                         Series              Contract Month  \\\n",
       "6             Total AAV Futures           Total AAV Futures   \n",
       "12         Total ADVANC Futures        Total ADVANC Futures   \n",
       "18         Total AEONTS Futures        Total AEONTS Futures   \n",
       "24          Total AMATA Futures         Total AMATA Futures   \n",
       "30            Total AOT Futures           Total AOT Futures   \n",
       "..                          ...                         ...   \n",
       "708           Total VNG Futures           Total VNG Futures   \n",
       "714           Total VNT Futures           Total VNT Futures   \n",
       "720           Total WHA Futures           Total WHA Futures   \n",
       "726         Total WHAUP Futures         Total WHAUP Futures   \n",
       "727  Total Single Stock Futures  Total Single Stock Futures   \n",
       "\n",
       "                           Open                        High  \\\n",
       "6             Total AAV Futures           Total AAV Futures   \n",
       "12         Total ADVANC Futures        Total ADVANC Futures   \n",
       "18         Total AEONTS Futures        Total AEONTS Futures   \n",
       "24          Total AMATA Futures         Total AMATA Futures   \n",
       "30            Total AOT Futures           Total AOT Futures   \n",
       "..                          ...                         ...   \n",
       "708           Total VNG Futures           Total VNG Futures   \n",
       "714           Total VNT Futures           Total VNT Futures   \n",
       "720           Total WHA Futures           Total WHA Futures   \n",
       "726         Total WHAUP Futures         Total WHAUP Futures   \n",
       "727  Total Single Stock Futures  Total Single Stock Futures   \n",
       "\n",
       "                            Low                         Bid Offer Last  \\\n",
       "6             Total AAV Futures           Total AAV Futures   NaN  NaN   \n",
       "12         Total ADVANC Futures        Total ADVANC Futures   NaN  NaN   \n",
       "18         Total AEONTS Futures        Total AEONTS Futures   NaN  NaN   \n",
       "24          Total AMATA Futures         Total AMATA Futures   NaN  NaN   \n",
       "30            Total AOT Futures           Total AOT Futures   NaN  NaN   \n",
       "..                          ...                         ...   ...  ...   \n",
       "708           Total VNG Futures           Total VNG Futures   NaN  NaN   \n",
       "714           Total VNT Futures           Total VNT Futures   NaN  NaN   \n",
       "720           Total WHA Futures           Total WHA Futures   NaN  NaN   \n",
       "726         Total WHAUP Futures         Total WHAUP Futures   NaN  NaN   \n",
       "727  Total Single Stock Futures  Total Single Stock Futures   NaN  NaN   \n",
       "\n",
       "    Chg(%Chg)     Vol       OI Prior SP   SP  \n",
       "6         NaN    8726    33052      NaN  NaN  \n",
       "12        NaN    1731     7407      NaN  NaN  \n",
       "18        NaN     188     1486      NaN  NaN  \n",
       "24        NaN    1208    14864      NaN  NaN  \n",
       "30        NaN    1407     5172      NaN  NaN  \n",
       "..        ...     ...      ...      ...  ...  \n",
       "708       NaN       1     1605      NaN  NaN  \n",
       "714       NaN       -      160      NaN  NaN  \n",
       "720       NaN    6694    59480      NaN  NaN  \n",
       "726       NaN       5     7072      NaN  NaN  \n",
       "727       NaN  477221  2523911      NaN  NaN  \n",
       "\n",
       "[122 rows x 13 columns]"
      ],
      "text/html": "<div>\n<style scoped>\n    .dataframe tbody tr th:only-of-type {\n        vertical-align: middle;\n    }\n\n    .dataframe tbody tr th {\n        vertical-align: top;\n    }\n\n    .dataframe thead th {\n        text-align: right;\n    }\n</style>\n<table border=\"1\" class=\"dataframe\">\n  <thead>\n    <tr style=\"text-align: right;\">\n      <th></th>\n      <th>Series</th>\n      <th>Contract Month</th>\n      <th>Open</th>\n      <th>High</th>\n      <th>Low</th>\n      <th>Bid</th>\n      <th>Offer</th>\n      <th>Last</th>\n      <th>Chg(%Chg)</th>\n      <th>Vol</th>\n      <th>OI</th>\n      <th>Prior SP</th>\n      <th>SP</th>\n    </tr>\n  </thead>\n  <tbody>\n    <tr>\n      <th>6</th>\n      <td>Total AAV Futures</td>\n      <td>Total AAV Futures</td>\n      <td>Total AAV Futures</td>\n      <td>Total AAV Futures</td>\n      <td>Total AAV Futures</td>\n      <td>Total AAV Futures</td>\n      <td>NaN</td>\n      <td>NaN</td>\n      <td>NaN</td>\n      <td>8726</td>\n      <td>33052</td>\n      <td>NaN</td>\n      <td>NaN</td>\n    </tr>\n    <tr>\n      <th>12</th>\n      <td>Total ADVANC Futures</td>\n      <td>Total ADVANC Futures</td>\n      <td>Total ADVANC Futures</td>\n      <td>Total ADVANC Futures</td>\n      <td>Total ADVANC Futures</td>\n      <td>Total ADVANC Futures</td>\n      <td>NaN</td>\n      <td>NaN</td>\n      <td>NaN</td>\n      <td>1731</td>\n      <td>7407</td>\n      <td>NaN</td>\n      <td>NaN</td>\n    </tr>\n    <tr>\n      <th>18</th>\n      <td>Total AEONTS Futures</td>\n      <td>Total AEONTS Futures</td>\n      <td>Total AEONTS Futures</td>\n      <td>Total AEONTS Futures</td>\n      <td>Total AEONTS Futures</td>\n      <td>Total AEONTS Futures</td>\n      <td>NaN</td>\n      <td>NaN</td>\n      <td>NaN</td>\n      <td>188</td>\n      <td>1486</td>\n      <td>NaN</td>\n      <td>NaN</td>\n    </tr>\n    <tr>\n      <th>24</th>\n      <td>Total AMATA Futures</td>\n      <td>Total AMATA Futures</td>\n      <td>Total AMATA Futures</td>\n      <td>Total AMATA Futures</td>\n      <td>Total AMATA Futures</td>\n      <td>Total AMATA Futures</td>\n      <td>NaN</td>\n      <td>NaN</td>\n      <td>NaN</td>\n      <td>1208</td>\n      <td>14864</td>\n      <td>NaN</td>\n      <td>NaN</td>\n    </tr>\n    <tr>\n      <th>30</th>\n      <td>Total AOT Futures</td>\n      <td>Total AOT Futures</td>\n      <td>Total AOT Futures</td>\n      <td>Total AOT Futures</td>\n      <td>Total AOT Futures</td>\n      <td>Total AOT Futures</td>\n      <td>NaN</td>\n      <td>NaN</td>\n      <td>NaN</td>\n      <td>1407</td>\n      <td>5172</td>\n      <td>NaN</td>\n      <td>NaN</td>\n    </tr>\n    <tr>\n      <th>...</th>\n      <td>...</td>\n      <td>...</td>\n      <td>...</td>\n      <td>...</td>\n      <td>...</td>\n      <td>...</td>\n      <td>...</td>\n      <td>...</td>\n      <td>...</td>\n      <td>...</td>\n      <td>...</td>\n      <td>...</td>\n      <td>...</td>\n    </tr>\n    <tr>\n      <th>708</th>\n      <td>Total VNG Futures</td>\n      <td>Total VNG Futures</td>\n      <td>Total VNG Futures</td>\n      <td>Total VNG Futures</td>\n      <td>Total VNG Futures</td>\n      <td>Total VNG Futures</td>\n      <td>NaN</td>\n      <td>NaN</td>\n      <td>NaN</td>\n      <td>1</td>\n      <td>1605</td>\n      <td>NaN</td>\n      <td>NaN</td>\n    </tr>\n    <tr>\n      <th>714</th>\n      <td>Total VNT Futures</td>\n      <td>Total VNT Futures</td>\n      <td>Total VNT Futures</td>\n      <td>Total VNT Futures</td>\n      <td>Total VNT Futures</td>\n      <td>Total VNT Futures</td>\n      <td>NaN</td>\n      <td>NaN</td>\n      <td>NaN</td>\n      <td>-</td>\n      <td>160</td>\n      <td>NaN</td>\n      <td>NaN</td>\n    </tr>\n    <tr>\n      <th>720</th>\n      <td>Total WHA Futures</td>\n      <td>Total WHA Futures</td>\n      <td>Total WHA Futures</td>\n      <td>Total WHA Futures</td>\n      <td>Total WHA Futures</td>\n      <td>Total WHA Futures</td>\n      <td>NaN</td>\n      <td>NaN</td>\n      <td>NaN</td>\n      <td>6694</td>\n      <td>59480</td>\n      <td>NaN</td>\n      <td>NaN</td>\n    </tr>\n    <tr>\n      <th>726</th>\n      <td>Total WHAUP Futures</td>\n      <td>Total WHAUP Futures</td>\n      <td>Total WHAUP Futures</td>\n      <td>Total WHAUP Futures</td>\n      <td>Total WHAUP Futures</td>\n      <td>Total WHAUP Futures</td>\n      <td>NaN</td>\n      <td>NaN</td>\n      <td>NaN</td>\n      <td>5</td>\n      <td>7072</td>\n      <td>NaN</td>\n      <td>NaN</td>\n    </tr>\n    <tr>\n      <th>727</th>\n      <td>Total Single Stock Futures</td>\n      <td>Total Single Stock Futures</td>\n      <td>Total Single Stock Futures</td>\n      <td>Total Single Stock Futures</td>\n      <td>Total Single Stock Futures</td>\n      <td>Total Single Stock Futures</td>\n      <td>NaN</td>\n      <td>NaN</td>\n      <td>NaN</td>\n      <td>477221</td>\n      <td>2523911</td>\n      <td>NaN</td>\n      <td>NaN</td>\n    </tr>\n  </tbody>\n</table>\n<p>122 rows × 13 columns</p>\n</div>"
     },
     "metadata": {},
     "execution_count": 26
    }
   ],
   "source": [
    "df1=df[df.Series.str.contains('Total',case=False)]\n",
    "df1"
   ]
  },
  {
   "cell_type": "code",
   "execution_count": 27,
   "metadata": {},
   "outputs": [
    {
     "output_type": "execute_result",
     "data": {
      "text/plain": [
       "                         Series     Vol       OI\n",
       "6             Total AAV Futures    8726    33052\n",
       "12         Total ADVANC Futures    1731     7407\n",
       "18         Total AEONTS Futures     188     1486\n",
       "24          Total AMATA Futures    1208    14864\n",
       "30            Total AOT Futures    1407     5172\n",
       "..                          ...     ...      ...\n",
       "708           Total VNG Futures       1     1605\n",
       "714           Total VNT Futures       -      160\n",
       "720           Total WHA Futures    6694    59480\n",
       "726         Total WHAUP Futures       5     7072\n",
       "727  Total Single Stock Futures  477221  2523911\n",
       "\n",
       "[122 rows x 3 columns]"
      ],
      "text/html": "<div>\n<style scoped>\n    .dataframe tbody tr th:only-of-type {\n        vertical-align: middle;\n    }\n\n    .dataframe tbody tr th {\n        vertical-align: top;\n    }\n\n    .dataframe thead th {\n        text-align: right;\n    }\n</style>\n<table border=\"1\" class=\"dataframe\">\n  <thead>\n    <tr style=\"text-align: right;\">\n      <th></th>\n      <th>Series</th>\n      <th>Vol</th>\n      <th>OI</th>\n    </tr>\n  </thead>\n  <tbody>\n    <tr>\n      <th>6</th>\n      <td>Total AAV Futures</td>\n      <td>8726</td>\n      <td>33052</td>\n    </tr>\n    <tr>\n      <th>12</th>\n      <td>Total ADVANC Futures</td>\n      <td>1731</td>\n      <td>7407</td>\n    </tr>\n    <tr>\n      <th>18</th>\n      <td>Total AEONTS Futures</td>\n      <td>188</td>\n      <td>1486</td>\n    </tr>\n    <tr>\n      <th>24</th>\n      <td>Total AMATA Futures</td>\n      <td>1208</td>\n      <td>14864</td>\n    </tr>\n    <tr>\n      <th>30</th>\n      <td>Total AOT Futures</td>\n      <td>1407</td>\n      <td>5172</td>\n    </tr>\n    <tr>\n      <th>...</th>\n      <td>...</td>\n      <td>...</td>\n      <td>...</td>\n    </tr>\n    <tr>\n      <th>708</th>\n      <td>Total VNG Futures</td>\n      <td>1</td>\n      <td>1605</td>\n    </tr>\n    <tr>\n      <th>714</th>\n      <td>Total VNT Futures</td>\n      <td>-</td>\n      <td>160</td>\n    </tr>\n    <tr>\n      <th>720</th>\n      <td>Total WHA Futures</td>\n      <td>6694</td>\n      <td>59480</td>\n    </tr>\n    <tr>\n      <th>726</th>\n      <td>Total WHAUP Futures</td>\n      <td>5</td>\n      <td>7072</td>\n    </tr>\n    <tr>\n      <th>727</th>\n      <td>Total Single Stock Futures</td>\n      <td>477221</td>\n      <td>2523911</td>\n    </tr>\n  </tbody>\n</table>\n<p>122 rows × 3 columns</p>\n</div>"
     },
     "metadata": {},
     "execution_count": 27
    }
   ],
   "source": [
    "#df1=df[df.index % 6 == 0]\n",
    "#pd.set_option('display.max_rows', df1.shape[0]+1)\n",
    "#df2=df1.drop(df1.columns[[1,2,3,4,5,8,9]], axis=1) \n",
    "#df2 = df1.loc[:['Series','Vol','OI']]\n",
    "df2 = df1[['Series','Vol','OI']]\n",
    "df2"
   ]
  },
  {
   "cell_type": "code",
   "execution_count": 28,
   "metadata": {},
   "outputs": [
    {
     "output_type": "stream",
     "name": "stderr",
     "text": [
      "<ipython-input-28-a4c1791e6eb1>:1: SettingWithCopyWarning: \nA value is trying to be set on a copy of a slice from a DataFrame.\nTry using .loc[row_indexer,col_indexer] = value instead\n\nSee the caveats in the documentation: https://pandas.pydata.org/pandas-docs/stable/user_guide/indexing.html#returning-a-view-versus-a-copy\n  df2['Series'] = df2['Series'].apply(lambda x: x.replace(' Futures',''))\n<ipython-input-28-a4c1791e6eb1>:2: SettingWithCopyWarning: \nA value is trying to be set on a copy of a slice from a DataFrame.\nTry using .loc[row_indexer,col_indexer] = value instead\n\nSee the caveats in the documentation: https://pandas.pydata.org/pandas-docs/stable/user_guide/indexing.html#returning-a-view-versus-a-copy\n  df2['Series'] = df2['Series'].apply(lambda x: x.replace('Total ',''))\n"
     ]
    },
    {
     "output_type": "execute_result",
     "data": {
      "text/plain": [
       "datetime.date(2021, 3, 26)"
      ]
     },
     "metadata": {},
     "execution_count": 28
    }
   ],
   "source": [
    "    df2['Series'] = df2['Series'].apply(lambda x: x.replace(' Futures',''))\n",
    "    df2['Series'] = df2['Series'].apply(lambda x: x.replace('Total ',''))\n",
    "    df2 = df2.apply(lambda x: x.replace('-',0))\n",
    "    \n",
    "    keptDate = pd.to_datetime(tdate.values[0]).date()\n",
    "    df2['TrdDate'] = pd.to_datetime(tdate.values[0]).date()\n",
    "    df2\n",
    "    #filter = df2[\"Series\"]==\"AAV\"\n",
    "    keptDate  \n",
    "# printing only filtered columns \n",
    "#df2.where(filter).dropna() "
   ]
  },
  {
   "cell_type": "code",
   "execution_count": 29,
   "metadata": {},
   "outputs": [],
   "source": [
    "#sql = \"select * from ssfOI where TrdDate = '\"+ keptDate.strftime('%Y-%m-%d') + \"'\"\n",
    "#print(sql)\n",
    "#rst = pd.read_sql(sql, cnx)\n",
    "#print(len(rst.axes[0]))\n",
    "#if len(rst.axes[0]) > 0:print(rst)\n",
    "#rst"
   ]
  },
  {
   "cell_type": "code",
   "execution_count": 30,
   "metadata": {},
   "outputs": [
    {
     "output_type": "error",
     "ename": "ValueError",
     "evalue": "Table 'ssfOI' already exists.",
     "traceback": [
      "\u001b[0;31m---------------------------------------------------------------------------\u001b[0m",
      "\u001b[0;31mValueError\u001b[0m                                Traceback (most recent call last)",
      "\u001b[0;32m<ipython-input-30-152c2b911c96>\u001b[0m in \u001b[0;36m<module>\u001b[0;34m\u001b[0m\n\u001b[0;32m----> 1\u001b[0;31m \u001b[0mdf2\u001b[0m\u001b[0;34m.\u001b[0m\u001b[0mto_sql\u001b[0m\u001b[0;34m(\u001b[0m\u001b[0mname\u001b[0m\u001b[0;34m=\u001b[0m\u001b[0;34m'ssfOI'\u001b[0m\u001b[0;34m,\u001b[0m \u001b[0mcon\u001b[0m\u001b[0;34m=\u001b[0m\u001b[0mcnx\u001b[0m\u001b[0;34m)\u001b[0m\u001b[0;34m\u001b[0m\u001b[0;34m\u001b[0m\u001b[0m\n\u001b[0m",
      "\u001b[0;32m/Library/Frameworks/Python.framework/Versions/3.9/lib/python3.9/site-packages/pandas/core/generic.py\u001b[0m in \u001b[0;36mto_sql\u001b[0;34m(self, name, con, schema, if_exists, index, index_label, chunksize, dtype, method)\u001b[0m\n\u001b[1;32m   2603\u001b[0m         \u001b[0;32mfrom\u001b[0m \u001b[0mpandas\u001b[0m\u001b[0;34m.\u001b[0m\u001b[0mio\u001b[0m \u001b[0;32mimport\u001b[0m \u001b[0msql\u001b[0m\u001b[0;34m\u001b[0m\u001b[0;34m\u001b[0m\u001b[0m\n\u001b[1;32m   2604\u001b[0m \u001b[0;34m\u001b[0m\u001b[0m\n\u001b[0;32m-> 2605\u001b[0;31m         sql.to_sql(\n\u001b[0m\u001b[1;32m   2606\u001b[0m             \u001b[0mself\u001b[0m\u001b[0;34m,\u001b[0m\u001b[0;34m\u001b[0m\u001b[0;34m\u001b[0m\u001b[0m\n\u001b[1;32m   2607\u001b[0m             \u001b[0mname\u001b[0m\u001b[0;34m,\u001b[0m\u001b[0;34m\u001b[0m\u001b[0;34m\u001b[0m\u001b[0m\n",
      "\u001b[0;32m/Library/Frameworks/Python.framework/Versions/3.9/lib/python3.9/site-packages/pandas/io/sql.py\u001b[0m in \u001b[0;36mto_sql\u001b[0;34m(frame, name, con, schema, if_exists, index, index_label, chunksize, dtype, method)\u001b[0m\n\u001b[1;32m    587\u001b[0m         )\n\u001b[1;32m    588\u001b[0m \u001b[0;34m\u001b[0m\u001b[0m\n\u001b[0;32m--> 589\u001b[0;31m     pandas_sql.to_sql(\n\u001b[0m\u001b[1;32m    590\u001b[0m         \u001b[0mframe\u001b[0m\u001b[0;34m,\u001b[0m\u001b[0;34m\u001b[0m\u001b[0;34m\u001b[0m\u001b[0m\n\u001b[1;32m    591\u001b[0m         \u001b[0mname\u001b[0m\u001b[0;34m,\u001b[0m\u001b[0;34m\u001b[0m\u001b[0;34m\u001b[0m\u001b[0m\n",
      "\u001b[0;32m/Library/Frameworks/Python.framework/Versions/3.9/lib/python3.9/site-packages/pandas/io/sql.py\u001b[0m in \u001b[0;36mto_sql\u001b[0;34m(self, frame, name, if_exists, index, index_label, schema, chunksize, dtype, method)\u001b[0m\n\u001b[1;32m   1825\u001b[0m             \u001b[0mdtype\u001b[0m\u001b[0;34m=\u001b[0m\u001b[0mdtype\u001b[0m\u001b[0;34m,\u001b[0m\u001b[0;34m\u001b[0m\u001b[0;34m\u001b[0m\u001b[0m\n\u001b[1;32m   1826\u001b[0m         )\n\u001b[0;32m-> 1827\u001b[0;31m         \u001b[0mtable\u001b[0m\u001b[0;34m.\u001b[0m\u001b[0mcreate\u001b[0m\u001b[0;34m(\u001b[0m\u001b[0;34m)\u001b[0m\u001b[0;34m\u001b[0m\u001b[0;34m\u001b[0m\u001b[0m\n\u001b[0m\u001b[1;32m   1828\u001b[0m         \u001b[0mtable\u001b[0m\u001b[0;34m.\u001b[0m\u001b[0minsert\u001b[0m\u001b[0;34m(\u001b[0m\u001b[0mchunksize\u001b[0m\u001b[0;34m,\u001b[0m \u001b[0mmethod\u001b[0m\u001b[0;34m)\u001b[0m\u001b[0;34m\u001b[0m\u001b[0;34m\u001b[0m\u001b[0m\n\u001b[1;32m   1829\u001b[0m \u001b[0;34m\u001b[0m\u001b[0m\n",
      "\u001b[0;32m/Library/Frameworks/Python.framework/Versions/3.9/lib/python3.9/site-packages/pandas/io/sql.py\u001b[0m in \u001b[0;36mcreate\u001b[0;34m(self)\u001b[0m\n\u001b[1;32m    721\u001b[0m         \u001b[0;32mif\u001b[0m \u001b[0mself\u001b[0m\u001b[0;34m.\u001b[0m\u001b[0mexists\u001b[0m\u001b[0;34m(\u001b[0m\u001b[0;34m)\u001b[0m\u001b[0;34m:\u001b[0m\u001b[0;34m\u001b[0m\u001b[0;34m\u001b[0m\u001b[0m\n\u001b[1;32m    722\u001b[0m             \u001b[0;32mif\u001b[0m \u001b[0mself\u001b[0m\u001b[0;34m.\u001b[0m\u001b[0mif_exists\u001b[0m \u001b[0;34m==\u001b[0m \u001b[0;34m\"fail\"\u001b[0m\u001b[0;34m:\u001b[0m\u001b[0;34m\u001b[0m\u001b[0;34m\u001b[0m\u001b[0m\n\u001b[0;32m--> 723\u001b[0;31m                 \u001b[0;32mraise\u001b[0m \u001b[0mValueError\u001b[0m\u001b[0;34m(\u001b[0m\u001b[0;34mf\"Table '{self.name}' already exists.\"\u001b[0m\u001b[0;34m)\u001b[0m\u001b[0;34m\u001b[0m\u001b[0;34m\u001b[0m\u001b[0m\n\u001b[0m\u001b[1;32m    724\u001b[0m             \u001b[0;32melif\u001b[0m \u001b[0mself\u001b[0m\u001b[0;34m.\u001b[0m\u001b[0mif_exists\u001b[0m \u001b[0;34m==\u001b[0m \u001b[0;34m\"replace\"\u001b[0m\u001b[0;34m:\u001b[0m\u001b[0;34m\u001b[0m\u001b[0;34m\u001b[0m\u001b[0m\n\u001b[1;32m    725\u001b[0m                 \u001b[0mself\u001b[0m\u001b[0;34m.\u001b[0m\u001b[0mpd_sql\u001b[0m\u001b[0;34m.\u001b[0m\u001b[0mdrop_table\u001b[0m\u001b[0;34m(\u001b[0m\u001b[0mself\u001b[0m\u001b[0;34m.\u001b[0m\u001b[0mname\u001b[0m\u001b[0;34m,\u001b[0m \u001b[0mself\u001b[0m\u001b[0;34m.\u001b[0m\u001b[0mschema\u001b[0m\u001b[0;34m)\u001b[0m\u001b[0;34m\u001b[0m\u001b[0;34m\u001b[0m\u001b[0m\n",
      "\u001b[0;31mValueError\u001b[0m: Table 'ssfOI' already exists."
     ]
    }
   ],
   "source": [
    "df2.to_sql(name='ssfOI', con=cnx)"
   ]
  },
  {
   "cell_type": "code",
   "execution_count": 135,
   "metadata": {},
   "outputs": [],
   "source": [
    "\n",
    "p2 = pd.read_sql('select * from ssfOI', cnx)"
   ]
  },
  {
   "cell_type": "code",
   "execution_count": 136,
   "metadata": {},
   "outputs": [
    {
     "output_type": "execute_result",
     "data": {
      "text/plain": [
       "     index        Series     Vol       OI     TrdDate\n",
       "0        6           AAV      14    14519  2020-11-13\n",
       "1       12        ADVANC    1203     3851  2020-11-13\n",
       "2       18        AEONTS      50      309  2020-11-13\n",
       "3       24         AMATA    3664     2675  2020-11-13\n",
       "4       30           AOT    1164     8668  2020-11-13\n",
       "..     ...           ...     ...      ...         ...\n",
       "118    711           VNG       -    17512  2020-11-13\n",
       "119    717           VNT       1     1895  2020-11-13\n",
       "120    723           WHA   15290    42311  2020-11-13\n",
       "121    729         WHAUP       6      559  2020-11-13\n",
       "122    730  Single Stock  194980  1771515  2020-11-13\n",
       "\n",
       "[123 rows x 5 columns]"
      ],
      "text/html": "<div>\n<style scoped>\n    .dataframe tbody tr th:only-of-type {\n        vertical-align: middle;\n    }\n\n    .dataframe tbody tr th {\n        vertical-align: top;\n    }\n\n    .dataframe thead th {\n        text-align: right;\n    }\n</style>\n<table border=\"1\" class=\"dataframe\">\n  <thead>\n    <tr style=\"text-align: right;\">\n      <th></th>\n      <th>index</th>\n      <th>Series</th>\n      <th>Vol</th>\n      <th>OI</th>\n      <th>TrdDate</th>\n    </tr>\n  </thead>\n  <tbody>\n    <tr>\n      <th>0</th>\n      <td>6</td>\n      <td>AAV</td>\n      <td>14</td>\n      <td>14519</td>\n      <td>2020-11-13</td>\n    </tr>\n    <tr>\n      <th>1</th>\n      <td>12</td>\n      <td>ADVANC</td>\n      <td>1203</td>\n      <td>3851</td>\n      <td>2020-11-13</td>\n    </tr>\n    <tr>\n      <th>2</th>\n      <td>18</td>\n      <td>AEONTS</td>\n      <td>50</td>\n      <td>309</td>\n      <td>2020-11-13</td>\n    </tr>\n    <tr>\n      <th>3</th>\n      <td>24</td>\n      <td>AMATA</td>\n      <td>3664</td>\n      <td>2675</td>\n      <td>2020-11-13</td>\n    </tr>\n    <tr>\n      <th>4</th>\n      <td>30</td>\n      <td>AOT</td>\n      <td>1164</td>\n      <td>8668</td>\n      <td>2020-11-13</td>\n    </tr>\n    <tr>\n      <th>...</th>\n      <td>...</td>\n      <td>...</td>\n      <td>...</td>\n      <td>...</td>\n      <td>...</td>\n    </tr>\n    <tr>\n      <th>118</th>\n      <td>711</td>\n      <td>VNG</td>\n      <td>-</td>\n      <td>17512</td>\n      <td>2020-11-13</td>\n    </tr>\n    <tr>\n      <th>119</th>\n      <td>717</td>\n      <td>VNT</td>\n      <td>1</td>\n      <td>1895</td>\n      <td>2020-11-13</td>\n    </tr>\n    <tr>\n      <th>120</th>\n      <td>723</td>\n      <td>WHA</td>\n      <td>15290</td>\n      <td>42311</td>\n      <td>2020-11-13</td>\n    </tr>\n    <tr>\n      <th>121</th>\n      <td>729</td>\n      <td>WHAUP</td>\n      <td>6</td>\n      <td>559</td>\n      <td>2020-11-13</td>\n    </tr>\n    <tr>\n      <th>122</th>\n      <td>730</td>\n      <td>Single Stock</td>\n      <td>194980</td>\n      <td>1771515</td>\n      <td>2020-11-13</td>\n    </tr>\n  </tbody>\n</table>\n<p>123 rows × 5 columns</p>\n</div>"
     },
     "metadata": {},
     "execution_count": 136
    }
   ],
   "source": [
    "p2"
   ]
  },
  {
   "cell_type": "code",
   "execution_count": 137,
   "metadata": {},
   "outputs": [
    {
     "output_type": "execute_result",
     "data": {
      "text/plain": [
       "     index        Series     Vol       OI    TrdDate\n",
       "0        6           AAV      14    14519 2020-11-13\n",
       "1       12        ADVANC    1203     3851 2020-11-13\n",
       "2       18        AEONTS      50      309 2020-11-13\n",
       "3       24         AMATA    3664     2675 2020-11-13\n",
       "4       30           AOT    1164     8668 2020-11-13\n",
       "..     ...           ...     ...      ...        ...\n",
       "118    711           VNG       -    17512 2020-11-13\n",
       "119    717           VNT       1     1895 2020-11-13\n",
       "120    723           WHA   15290    42311 2020-11-13\n",
       "121    729         WHAUP       6      559 2020-11-13\n",
       "122    730  Single Stock  194980  1771515 2020-11-13\n",
       "\n",
       "[123 rows x 5 columns]"
      ],
      "text/html": "<div>\n<style scoped>\n    .dataframe tbody tr th:only-of-type {\n        vertical-align: middle;\n    }\n\n    .dataframe tbody tr th {\n        vertical-align: top;\n    }\n\n    .dataframe thead th {\n        text-align: right;\n    }\n</style>\n<table border=\"1\" class=\"dataframe\">\n  <thead>\n    <tr style=\"text-align: right;\">\n      <th></th>\n      <th>index</th>\n      <th>Series</th>\n      <th>Vol</th>\n      <th>OI</th>\n      <th>TrdDate</th>\n    </tr>\n  </thead>\n  <tbody>\n    <tr>\n      <th>0</th>\n      <td>6</td>\n      <td>AAV</td>\n      <td>14</td>\n      <td>14519</td>\n      <td>2020-11-13</td>\n    </tr>\n    <tr>\n      <th>1</th>\n      <td>12</td>\n      <td>ADVANC</td>\n      <td>1203</td>\n      <td>3851</td>\n      <td>2020-11-13</td>\n    </tr>\n    <tr>\n      <th>2</th>\n      <td>18</td>\n      <td>AEONTS</td>\n      <td>50</td>\n      <td>309</td>\n      <td>2020-11-13</td>\n    </tr>\n    <tr>\n      <th>3</th>\n      <td>24</td>\n      <td>AMATA</td>\n      <td>3664</td>\n      <td>2675</td>\n      <td>2020-11-13</td>\n    </tr>\n    <tr>\n      <th>4</th>\n      <td>30</td>\n      <td>AOT</td>\n      <td>1164</td>\n      <td>8668</td>\n      <td>2020-11-13</td>\n    </tr>\n    <tr>\n      <th>...</th>\n      <td>...</td>\n      <td>...</td>\n      <td>...</td>\n      <td>...</td>\n      <td>...</td>\n    </tr>\n    <tr>\n      <th>118</th>\n      <td>711</td>\n      <td>VNG</td>\n      <td>-</td>\n      <td>17512</td>\n      <td>2020-11-13</td>\n    </tr>\n    <tr>\n      <th>119</th>\n      <td>717</td>\n      <td>VNT</td>\n      <td>1</td>\n      <td>1895</td>\n      <td>2020-11-13</td>\n    </tr>\n    <tr>\n      <th>120</th>\n      <td>723</td>\n      <td>WHA</td>\n      <td>15290</td>\n      <td>42311</td>\n      <td>2020-11-13</td>\n    </tr>\n    <tr>\n      <th>121</th>\n      <td>729</td>\n      <td>WHAUP</td>\n      <td>6</td>\n      <td>559</td>\n      <td>2020-11-13</td>\n    </tr>\n    <tr>\n      <th>122</th>\n      <td>730</td>\n      <td>Single Stock</td>\n      <td>194980</td>\n      <td>1771515</td>\n      <td>2020-11-13</td>\n    </tr>\n  </tbody>\n</table>\n<p>123 rows × 5 columns</p>\n</div>"
     },
     "metadata": {},
     "execution_count": 137
    }
   ],
   "source": [
    "p2['TrdDate'] = pd.to_datetime(p2['TrdDate'])\n",
    "p2"
   ]
  },
  {
   "cell_type": "code",
   "execution_count": null,
   "metadata": {},
   "outputs": [],
   "source": []
  }
 ]
}