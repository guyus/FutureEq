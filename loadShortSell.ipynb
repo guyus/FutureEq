{
 "metadata": {
  "language_info": {
   "codemirror_mode": {
    "name": "ipython",
    "version": 3
   },
   "file_extension": ".py",
   "mimetype": "text/x-python",
   "name": "python",
   "nbconvert_exporter": "python",
   "pygments_lexer": "ipython3",
   "version": "3.9.0-final"
  },
  "orig_nbformat": 2,
  "kernelspec": {
   "name": "python3",
   "display_name": "Python 3.9.0 64-bit",
   "metadata": {
    "interpreter": {
     "hash": "7812ea015bdcee6f23a998adcdd2ef97c151c0c241b7b7070987d9313e41299d"
    }
   }
  }
 },
 "nbformat": 4,
 "nbformat_minor": 2,
 "cells": [
  {
   "cell_type": "code",
   "execution_count": 23,
   "metadata": {},
   "outputs": [],
   "source": [
    "import pandas as pd\n",
    "import sqlite3\n",
    "# Create your connection.\n",
    "cnx = sqlite3.connect('EquityTrend.db')\n",
    "df=pd.read_html('https://www.set.or.th/set/shortsales.do?language=en&country=US')\n",
    "df[0].rename(columns = {'Securities':'Series','Volume (Shares)':'Volume','Turnover (Baht)':'Value',\n",
    "'%Short Sale Volume Comparing with Auto Matching':'Per'},inplace = True)\n",
    "df[0]['TrdDate'] = pd.to_datetime('today').date()\n",
    "df=df[0]\n"
   ]
  },
  {
   "cell_type": "code",
   "execution_count": 46,
   "metadata": {},
   "outputs": [
    {
     "output_type": "execute_result",
     "data": {
      "text/plain": [
       "     Series   Volume       Value     Per     TrdDate\n",
       "0       AAV   447500   1242850.0  0.30 %  2021-02-25\n",
       "1     AAV-R  2450100   6759192.0  1.65 %  2021-02-25\n",
       "2       ACE     9800     35672.0  0.05 %  2021-02-25\n",
       "3     ACE-R   177600    649690.0  0.93 %  2021-02-25\n",
       "4    ADVANC   377100  62434400.0  4.06 %  2021-02-25\n",
       "..      ...      ...         ...     ...         ...\n",
       "227     VNT    21000    702125.0  2.39 %  2021-02-25\n",
       "228   VNT-R    18700    624225.0  2.13 %  2021-02-25\n",
       "229     WHA  2161600   6891160.0  4.58 %  2021-02-25\n",
       "230   WHA-R  3538500  11226434.0  7.49 %  2021-02-25\n",
       "231   WHAUP    64300    254760.0  0.60 %  2021-02-25\n",
       "\n",
       "[232 rows x 5 columns]"
      ],
      "text/html": "<div>\n<style scoped>\n    .dataframe tbody tr th:only-of-type {\n        vertical-align: middle;\n    }\n\n    .dataframe tbody tr th {\n        vertical-align: top;\n    }\n\n    .dataframe thead th {\n        text-align: right;\n    }\n</style>\n<table border=\"1\" class=\"dataframe\">\n  <thead>\n    <tr style=\"text-align: right;\">\n      <th></th>\n      <th>Series</th>\n      <th>Volume</th>\n      <th>Value</th>\n      <th>Per</th>\n      <th>TrdDate</th>\n    </tr>\n  </thead>\n  <tbody>\n    <tr>\n      <th>0</th>\n      <td>AAV</td>\n      <td>447500</td>\n      <td>1242850.0</td>\n      <td>0.30 %</td>\n      <td>2021-02-25</td>\n    </tr>\n    <tr>\n      <th>1</th>\n      <td>AAV-R</td>\n      <td>2450100</td>\n      <td>6759192.0</td>\n      <td>1.65 %</td>\n      <td>2021-02-25</td>\n    </tr>\n    <tr>\n      <th>2</th>\n      <td>ACE</td>\n      <td>9800</td>\n      <td>35672.0</td>\n      <td>0.05 %</td>\n      <td>2021-02-25</td>\n    </tr>\n    <tr>\n      <th>3</th>\n      <td>ACE-R</td>\n      <td>177600</td>\n      <td>649690.0</td>\n      <td>0.93 %</td>\n      <td>2021-02-25</td>\n    </tr>\n    <tr>\n      <th>4</th>\n      <td>ADVANC</td>\n      <td>377100</td>\n      <td>62434400.0</td>\n      <td>4.06 %</td>\n      <td>2021-02-25</td>\n    </tr>\n    <tr>\n      <th>...</th>\n      <td>...</td>\n      <td>...</td>\n      <td>...</td>\n      <td>...</td>\n      <td>...</td>\n    </tr>\n    <tr>\n      <th>227</th>\n      <td>VNT</td>\n      <td>21000</td>\n      <td>702125.0</td>\n      <td>2.39 %</td>\n      <td>2021-02-25</td>\n    </tr>\n    <tr>\n      <th>228</th>\n      <td>VNT-R</td>\n      <td>18700</td>\n      <td>624225.0</td>\n      <td>2.13 %</td>\n      <td>2021-02-25</td>\n    </tr>\n    <tr>\n      <th>229</th>\n      <td>WHA</td>\n      <td>2161600</td>\n      <td>6891160.0</td>\n      <td>4.58 %</td>\n      <td>2021-02-25</td>\n    </tr>\n    <tr>\n      <th>230</th>\n      <td>WHA-R</td>\n      <td>3538500</td>\n      <td>11226434.0</td>\n      <td>7.49 %</td>\n      <td>2021-02-25</td>\n    </tr>\n    <tr>\n      <th>231</th>\n      <td>WHAUP</td>\n      <td>64300</td>\n      <td>254760.0</td>\n      <td>0.60 %</td>\n      <td>2021-02-25</td>\n    </tr>\n  </tbody>\n</table>\n<p>232 rows × 5 columns</p>\n</div>"
     },
     "metadata": {},
     "execution_count": 46
    }
   ],
   "source": [
    "#df[\"Per\"].replace({\" %\": \"\"}, inplace=True)\n",
    "#df[\"Per\"] = df[\"Per\"].apply(lambda x: x.replace(' ',''))\n",
    "df[\"Series\"] = df[\"Series\"].replace([\"A\"],\"..\")\n",
    "#df = df.replace('-','')\n",
    "df"
   ]
  },
  {
   "cell_type": "code",
   "execution_count": 13,
   "metadata": {},
   "outputs": [
    {
     "output_type": "execute_result",
     "data": {
      "text/plain": [
       "     Series   Volume       Value     Per     TrdDate\n",
       "0       AAV   447500   1242850.0  0.30 %  2021-02-25\n",
       "1     AAV-R  2450100   6759192.0  1.65 %  2021-02-25\n",
       "2       ACE     9800     35672.0  0.05 %  2021-02-25\n",
       "3     ACE-R   177600    649690.0  0.93 %  2021-02-25\n",
       "4    ADVANC   377100  62434400.0  4.06 %  2021-02-25\n",
       "..      ...      ...         ...     ...         ...\n",
       "227     VNT    21000    702125.0  2.39 %  2021-02-25\n",
       "228   VNT-R    18700    624225.0  2.13 %  2021-02-25\n",
       "229     WHA  2161600   6891160.0  4.58 %  2021-02-25\n",
       "230   WHA-R  3538500  11226434.0  7.49 %  2021-02-25\n",
       "231   WHAUP    64300    254760.0  0.60 %  2021-02-25\n",
       "\n",
       "[232 rows x 5 columns]"
      ],
      "text/html": "<div>\n<style scoped>\n    .dataframe tbody tr th:only-of-type {\n        vertical-align: middle;\n    }\n\n    .dataframe tbody tr th {\n        vertical-align: top;\n    }\n\n    .dataframe thead th {\n        text-align: right;\n    }\n</style>\n<table border=\"1\" class=\"dataframe\">\n  <thead>\n    <tr style=\"text-align: right;\">\n      <th></th>\n      <th>Series</th>\n      <th>Volume</th>\n      <th>Value</th>\n      <th>Per</th>\n      <th>TrdDate</th>\n    </tr>\n  </thead>\n  <tbody>\n    <tr>\n      <th>0</th>\n      <td>AAV</td>\n      <td>447500</td>\n      <td>1242850.0</td>\n      <td>0.30 %</td>\n      <td>2021-02-25</td>\n    </tr>\n    <tr>\n      <th>1</th>\n      <td>AAV-R</td>\n      <td>2450100</td>\n      <td>6759192.0</td>\n      <td>1.65 %</td>\n      <td>2021-02-25</td>\n    </tr>\n    <tr>\n      <th>2</th>\n      <td>ACE</td>\n      <td>9800</td>\n      <td>35672.0</td>\n      <td>0.05 %</td>\n      <td>2021-02-25</td>\n    </tr>\n    <tr>\n      <th>3</th>\n      <td>ACE-R</td>\n      <td>177600</td>\n      <td>649690.0</td>\n      <td>0.93 %</td>\n      <td>2021-02-25</td>\n    </tr>\n    <tr>\n      <th>4</th>\n      <td>ADVANC</td>\n      <td>377100</td>\n      <td>62434400.0</td>\n      <td>4.06 %</td>\n      <td>2021-02-25</td>\n    </tr>\n    <tr>\n      <th>...</th>\n      <td>...</td>\n      <td>...</td>\n      <td>...</td>\n      <td>...</td>\n      <td>...</td>\n    </tr>\n    <tr>\n      <th>227</th>\n      <td>VNT</td>\n      <td>21000</td>\n      <td>702125.0</td>\n      <td>2.39 %</td>\n      <td>2021-02-25</td>\n    </tr>\n    <tr>\n      <th>228</th>\n      <td>VNT-R</td>\n      <td>18700</td>\n      <td>624225.0</td>\n      <td>2.13 %</td>\n      <td>2021-02-25</td>\n    </tr>\n    <tr>\n      <th>229</th>\n      <td>WHA</td>\n      <td>2161600</td>\n      <td>6891160.0</td>\n      <td>4.58 %</td>\n      <td>2021-02-25</td>\n    </tr>\n    <tr>\n      <th>230</th>\n      <td>WHA-R</td>\n      <td>3538500</td>\n      <td>11226434.0</td>\n      <td>7.49 %</td>\n      <td>2021-02-25</td>\n    </tr>\n    <tr>\n      <th>231</th>\n      <td>WHAUP</td>\n      <td>64300</td>\n      <td>254760.0</td>\n      <td>0.60 %</td>\n      <td>2021-02-25</td>\n    </tr>\n  </tbody>\n</table>\n<p>232 rows × 5 columns</p>\n</div>"
     },
     "metadata": {},
     "execution_count": 13
    }
   ],
   "source": [
    "df = df.replace(' ','')\n",
    "df\n"
   ]
  },
  {
   "cell_type": "code",
   "execution_count": 7,
   "metadata": {},
   "outputs": [
    {
     "output_type": "execute_result",
     "data": {
      "text/plain": [
       "     Series   Volume       Value     Per     TrdDate\n",
       "0       AAV   447500   1242850.0  0.30 %  2021-02-25\n",
       "1     AAV-R  2450100   6759192.0  1.65 %  2021-02-25\n",
       "2       ACE     9800     35672.0  0.05 %  2021-02-25\n",
       "3     ACE-R   177600    649690.0  0.93 %  2021-02-25\n",
       "4    ADVANC   377100  62434400.0  4.06 %  2021-02-25\n",
       "..      ...      ...         ...     ...         ...\n",
       "227     VNT    21000    702125.0  2.39 %  2021-02-25\n",
       "228   VNT-R    18700    624225.0  2.13 %  2021-02-25\n",
       "229     WHA  2161600   6891160.0  4.58 %  2021-02-25\n",
       "230   WHA-R  3538500  11226434.0  7.49 %  2021-02-25\n",
       "231   WHAUP    64300    254760.0  0.60 %  2021-02-25\n",
       "\n",
       "[232 rows x 5 columns]"
      ],
      "text/html": "<div>\n<style scoped>\n    .dataframe tbody tr th:only-of-type {\n        vertical-align: middle;\n    }\n\n    .dataframe tbody tr th {\n        vertical-align: top;\n    }\n\n    .dataframe thead th {\n        text-align: right;\n    }\n</style>\n<table border=\"1\" class=\"dataframe\">\n  <thead>\n    <tr style=\"text-align: right;\">\n      <th></th>\n      <th>Series</th>\n      <th>Volume</th>\n      <th>Value</th>\n      <th>Per</th>\n      <th>TrdDate</th>\n    </tr>\n  </thead>\n  <tbody>\n    <tr>\n      <th>0</th>\n      <td>AAV</td>\n      <td>447500</td>\n      <td>1242850.0</td>\n      <td>0.30 %</td>\n      <td>2021-02-25</td>\n    </tr>\n    <tr>\n      <th>1</th>\n      <td>AAV-R</td>\n      <td>2450100</td>\n      <td>6759192.0</td>\n      <td>1.65 %</td>\n      <td>2021-02-25</td>\n    </tr>\n    <tr>\n      <th>2</th>\n      <td>ACE</td>\n      <td>9800</td>\n      <td>35672.0</td>\n      <td>0.05 %</td>\n      <td>2021-02-25</td>\n    </tr>\n    <tr>\n      <th>3</th>\n      <td>ACE-R</td>\n      <td>177600</td>\n      <td>649690.0</td>\n      <td>0.93 %</td>\n      <td>2021-02-25</td>\n    </tr>\n    <tr>\n      <th>4</th>\n      <td>ADVANC</td>\n      <td>377100</td>\n      <td>62434400.0</td>\n      <td>4.06 %</td>\n      <td>2021-02-25</td>\n    </tr>\n    <tr>\n      <th>...</th>\n      <td>...</td>\n      <td>...</td>\n      <td>...</td>\n      <td>...</td>\n      <td>...</td>\n    </tr>\n    <tr>\n      <th>227</th>\n      <td>VNT</td>\n      <td>21000</td>\n      <td>702125.0</td>\n      <td>2.39 %</td>\n      <td>2021-02-25</td>\n    </tr>\n    <tr>\n      <th>228</th>\n      <td>VNT-R</td>\n      <td>18700</td>\n      <td>624225.0</td>\n      <td>2.13 %</td>\n      <td>2021-02-25</td>\n    </tr>\n    <tr>\n      <th>229</th>\n      <td>WHA</td>\n      <td>2161600</td>\n      <td>6891160.0</td>\n      <td>4.58 %</td>\n      <td>2021-02-25</td>\n    </tr>\n    <tr>\n      <th>230</th>\n      <td>WHA-R</td>\n      <td>3538500</td>\n      <td>11226434.0</td>\n      <td>7.49 %</td>\n      <td>2021-02-25</td>\n    </tr>\n    <tr>\n      <th>231</th>\n      <td>WHAUP</td>\n      <td>64300</td>\n      <td>254760.0</td>\n      <td>0.60 %</td>\n      <td>2021-02-25</td>\n    </tr>\n  </tbody>\n</table>\n<p>232 rows × 5 columns</p>\n</div>"
     },
     "metadata": {},
     "execution_count": 7
    }
   ],
   "source": [
    "df"
   ]
  },
  {
   "cell_type": "code",
   "execution_count": null,
   "metadata": {},
   "outputs": [],
   "source": [
    "sql = \"select * from sShortSell where TrdDate = '\"+ pd.to_datetime('today').strftime('%Y-%m-%d') + \"'\"\n",
    "print(sql)\n",
    "rst = pd.read_sql(sql, cnx)\n",
    "print(len(rst.axes[0]))\n",
    "if len(rst.axes[0]) == 0:df.to_sql(name='sShortSell', con=cnx, if_exists='append')\n",
    "print(df)"
   ]
  }
 ]
}