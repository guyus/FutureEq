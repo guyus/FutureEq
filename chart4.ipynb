{
 "cells": [
  {
   "cell_type": "code",
   "execution_count": 8,
   "source": [
    "from plotly.offline import plot\r\n",
    "import plotly.graph_objects as go\r\n",
    "import random\r\n",
    "import pandas as pd\r\n",
    "\r\n",
    "#Create random OHLC and Volume\r\n",
    "high = 40\r\n",
    "low = 20\r\n",
    "dev = 1\r\n",
    "days = 100\r\n",
    "\r\n",
    "fake_market = []\r\n",
    "for each in range(days):\r\n",
    "    ohlc = []\r\n",
    "    ohlc.append(each)\r\n",
    "    if each == 0:\r\n",
    "        o = random.randrange(low, high)\r\n",
    "        ohlc.append(o)\r\n",
    "    else:\r\n",
    "        ohlc.append(c) #I know\r\n",
    "    h = random.randrange(o, high)\r\n",
    "    ohlc.append(h)\r\n",
    "    l = random.randrange(low, o)\r\n",
    "    ohlc.append(l)\r\n",
    "    c = random.randrange(l, h)\r\n",
    "    ohlc.append(c)\r\n",
    "    fake_market.append(ohlc)\r\n",
    "\r\n",
    "fake_volume = [[x, random.randrange(10, 30)] for x in range(low, (high+1))]\r\n",
    "df = pd.DataFrame(fake_market, columns=[\"Date\", \"Open\", \"High\", \"Low\", \"Close\"])\r\n",
    "df2 = pd.DataFrame(fake_volume, columns=[\"Volume\", \"Price\"])\r\n",
    "\r\n",
    "#Do all the plotly stuff\r\n",
    "fig = go.Figure(\r\n",
    "    data=[\r\n",
    "        go.Bar(\r\n",
    "            x=[str(x) for x in df2.Price.to_list()],\r\n",
    "            y=[str(x) for x in df2.Volume.to_list()],\r\n",
    "            orientation=\"h\",\r\n",
    "            xaxis=\"x\",\r\n",
    "            yaxis=\"y\",\r\n",
    "            visible=True,\r\n",
    "            showlegend=False\r\n",
    "        ),\r\n",
    "        go.Candlestick(\r\n",
    "            x=[str(x) for x in df.Date.to_list()],\r\n",
    "            open=[str(x) for x in df.Open.to_list()],\r\n",
    "            high=[str(x) for x in df.High.to_list()],\r\n",
    "            low=[str(x) for x in df.Low.to_list()],\r\n",
    "            close=[str(x) for x in df.Close.to_list()],\r\n",
    "            xaxis=\"x2\",\r\n",
    "            yaxis=\"y\",\r\n",
    "            visible=True,\r\n",
    "            showlegend=False\r\n",
    "        )\r\n",
    "    ],\r\n",
    "    layout=go.Layout(\r\n",
    "        title=go.layout.Title(text=\"Candlestick With Volume Profile\"),\r\n",
    "        xaxis=go.layout.XAxis(\r\n",
    "            side=\"top\",\r\n",
    "            #range=[0, 300],\r\n",
    "            rangeslider=go.layout.xaxis.Rangeslider(visible=False),\r\n",
    "            showticklabels=False\r\n",
    "        ),\r\n",
    "        yaxis=go.layout.YAxis(\r\n",
    "            side=\"left\",\r\n",
    "            range=[low, high],\r\n",
    "            showticklabels=False\r\n",
    "        ),\r\n",
    "        xaxis2=go.layout.XAxis(\r\n",
    "            side=\"bottom\",\r\n",
    "            title=\"Date\",\r\n",
    "            rangeslider=go.layout.xaxis.Rangeslider(visible=False),\r\n",
    "            overlaying=\"x\"\r\n",
    "        ),\r\n",
    "        yaxis2=go.layout.YAxis(\r\n",
    "            side=\"right\",\r\n",
    "            title=\"Price\",\r\n",
    "            range=[low, high],\r\n",
    "            overlaying=\"y\"\r\n",
    "        )\r\n",
    "    )\r\n",
    ")\r\n",
    "#template = [\"plotly\", \"plotly_white\", \"plotly_dark\", \"ggplot2\", \"seaborn\", \"none\"]\r\n",
    "#fig.update_layout(template=template[2])\r\n",
    "fig.show()\r\n",
    "#plot(fig)"
   ],
   "outputs": [
    {
     "output_type": "display_data",
     "data": {
      "application/vnd.plotly.v1+json": {
       "config": {
        "plotlyServerURL": "https://plot.ly"
       },
       "data": [
        {
         "orientation": "h",
         "showlegend": false,
         "type": "bar",
         "visible": true,
         "x": [
          "27",
          "25",
          "10",
          "24",
          "11",
          "16",
          "20",
          "19",
          "17",
          "24",
          "24",
          "11",
          "13",
          "27",
          "28",
          "22",
          "17",
          "27",
          "21",
          "15",
          "25"
         ],
         "xaxis": "x",
         "y": [
          "20",
          "21",
          "22",
          "23",
          "24",
          "25",
          "26",
          "27",
          "28",
          "29",
          "30",
          "31",
          "32",
          "33",
          "34",
          "35",
          "36",
          "37",
          "38",
          "39",
          "40"
         ],
         "yaxis": "y"
        },
        {
         "close": [
          "21",
          "34",
          "26",
          "26",
          "25",
          "34",
          "26",
          "26",
          "23",
          "23",
          "23",
          "27",
          "28",
          "27",
          "20",
          "29",
          "27",
          "25",
          "27",
          "31",
          "26",
          "22",
          "20",
          "24",
          "28",
          "25",
          "24",
          "33",
          "25",
          "34",
          "29",
          "27",
          "26",
          "28",
          "25",
          "29",
          "24",
          "24",
          "27",
          "31",
          "32",
          "26",
          "29",
          "22",
          "27",
          "34",
          "36",
          "25",
          "29",
          "26",
          "23",
          "32",
          "26",
          "30",
          "27",
          "25",
          "27",
          "29",
          "27",
          "26",
          "30",
          "24",
          "30",
          "29",
          "35",
          "29",
          "32",
          "28",
          "28",
          "27",
          "27",
          "22",
          "24",
          "34",
          "25",
          "26",
          "26",
          "31",
          "26",
          "26",
          "22",
          "38",
          "31",
          "22",
          "21",
          "29",
          "33",
          "22",
          "26",
          "27",
          "20",
          "31",
          "25",
          "26",
          "31",
          "27",
          "28",
          "24",
          "26",
          "25"
         ],
         "high": [
          "28",
          "37",
          "29",
          "27",
          "28",
          "37",
          "38",
          "34",
          "27",
          "31",
          "31",
          "28",
          "35",
          "33",
          "33",
          "35",
          "29",
          "37",
          "36",
          "33",
          "27",
          "29",
          "29",
          "32",
          "32",
          "29",
          "28",
          "34",
          "37",
          "38",
          "34",
          "31",
          "30",
          "36",
          "36",
          "32",
          "31",
          "29",
          "29",
          "32",
          "36",
          "27",
          "39",
          "37",
          "31",
          "38",
          "39",
          "29",
          "37",
          "35",
          "32",
          "34",
          "37",
          "34",
          "36",
          "27",
          "33",
          "31",
          "29",
          "30",
          "31",
          "27",
          "37",
          "38",
          "36",
          "35",
          "36",
          "37",
          "31",
          "33",
          "35",
          "32",
          "27",
          "38",
          "34",
          "34",
          "28",
          "39",
          "28",
          "34",
          "30",
          "39",
          "32",
          "38",
          "27",
          "33",
          "36",
          "28",
          "37",
          "28",
          "29",
          "32",
          "30",
          "27",
          "35",
          "38",
          "39",
          "27",
          "35",
          "29"
         ],
         "low": [
          "20",
          "26",
          "24",
          "26",
          "24",
          "23",
          "26",
          "21",
          "22",
          "23",
          "22",
          "25",
          "25",
          "22",
          "20",
          "24",
          "26",
          "24",
          "25",
          "23",
          "26",
          "21",
          "20",
          "22",
          "20",
          "23",
          "20",
          "22",
          "20",
          "25",
          "23",
          "21",
          "20",
          "26",
          "22",
          "26",
          "21",
          "24",
          "26",
          "23",
          "26",
          "24",
          "26",
          "20",
          "22",
          "20",
          "22",
          "25",
          "22",
          "25",
          "22",
          "20",
          "24",
          "21",
          "25",
          "22",
          "24",
          "24",
          "23",
          "22",
          "25",
          "24",
          "25",
          "25",
          "25",
          "23",
          "24",
          "25",
          "26",
          "25",
          "26",
          "20",
          "24",
          "21",
          "21",
          "20",
          "25",
          "21",
          "24",
          "24",
          "20",
          "24",
          "26",
          "21",
          "20",
          "24",
          "25",
          "22",
          "22",
          "21",
          "20",
          "21",
          "25",
          "26",
          "23",
          "21",
          "22",
          "24",
          "24",
          "25"
         ],
         "open": [
          "27",
          "21",
          "34",
          "26",
          "26",
          "25",
          "34",
          "26",
          "26",
          "23",
          "23",
          "23",
          "27",
          "28",
          "27",
          "20",
          "29",
          "27",
          "25",
          "27",
          "31",
          "26",
          "22",
          "20",
          "24",
          "28",
          "25",
          "24",
          "33",
          "25",
          "34",
          "29",
          "27",
          "26",
          "28",
          "25",
          "29",
          "24",
          "24",
          "27",
          "31",
          "32",
          "26",
          "29",
          "22",
          "27",
          "34",
          "36",
          "25",
          "29",
          "26",
          "23",
          "32",
          "26",
          "30",
          "27",
          "25",
          "27",
          "29",
          "27",
          "26",
          "30",
          "24",
          "30",
          "29",
          "35",
          "29",
          "32",
          "28",
          "28",
          "27",
          "27",
          "22",
          "24",
          "34",
          "25",
          "26",
          "26",
          "31",
          "26",
          "26",
          "22",
          "38",
          "31",
          "22",
          "21",
          "29",
          "33",
          "22",
          "26",
          "27",
          "20",
          "31",
          "25",
          "26",
          "31",
          "27",
          "28",
          "24",
          "26"
         ],
         "showlegend": false,
         "type": "candlestick",
         "visible": true,
         "x": [
          "0",
          "1",
          "2",
          "3",
          "4",
          "5",
          "6",
          "7",
          "8",
          "9",
          "10",
          "11",
          "12",
          "13",
          "14",
          "15",
          "16",
          "17",
          "18",
          "19",
          "20",
          "21",
          "22",
          "23",
          "24",
          "25",
          "26",
          "27",
          "28",
          "29",
          "30",
          "31",
          "32",
          "33",
          "34",
          "35",
          "36",
          "37",
          "38",
          "39",
          "40",
          "41",
          "42",
          "43",
          "44",
          "45",
          "46",
          "47",
          "48",
          "49",
          "50",
          "51",
          "52",
          "53",
          "54",
          "55",
          "56",
          "57",
          "58",
          "59",
          "60",
          "61",
          "62",
          "63",
          "64",
          "65",
          "66",
          "67",
          "68",
          "69",
          "70",
          "71",
          "72",
          "73",
          "74",
          "75",
          "76",
          "77",
          "78",
          "79",
          "80",
          "81",
          "82",
          "83",
          "84",
          "85",
          "86",
          "87",
          "88",
          "89",
          "90",
          "91",
          "92",
          "93",
          "94",
          "95",
          "96",
          "97",
          "98",
          "99"
         ],
         "xaxis": "x2",
         "yaxis": "y"
        }
       ],
       "layout": {
        "template": {
         "data": {
          "bar": [
           {
            "error_x": {
             "color": "#2a3f5f"
            },
            "error_y": {
             "color": "#2a3f5f"
            },
            "marker": {
             "line": {
              "color": "#E5ECF6",
              "width": 0.5
             },
             "pattern": {
              "fillmode": "overlay",
              "size": 10,
              "solidity": 0.2
             }
            },
            "type": "bar"
           }
          ],
          "barpolar": [
           {
            "marker": {
             "line": {
              "color": "#E5ECF6",
              "width": 0.5
             },
             "pattern": {
              "fillmode": "overlay",
              "size": 10,
              "solidity": 0.2
             }
            },
            "type": "barpolar"
           }
          ],
          "carpet": [
           {
            "aaxis": {
             "endlinecolor": "#2a3f5f",
             "gridcolor": "white",
             "linecolor": "white",
             "minorgridcolor": "white",
             "startlinecolor": "#2a3f5f"
            },
            "baxis": {
             "endlinecolor": "#2a3f5f",
             "gridcolor": "white",
             "linecolor": "white",
             "minorgridcolor": "white",
             "startlinecolor": "#2a3f5f"
            },
            "type": "carpet"
           }
          ],
          "choropleth": [
           {
            "colorbar": {
             "outlinewidth": 0,
             "ticks": ""
            },
            "type": "choropleth"
           }
          ],
          "contour": [
           {
            "colorbar": {
             "outlinewidth": 0,
             "ticks": ""
            },
            "colorscale": [
             [
              0,
              "#0d0887"
             ],
             [
              0.1111111111111111,
              "#46039f"
             ],
             [
              0.2222222222222222,
              "#7201a8"
             ],
             [
              0.3333333333333333,
              "#9c179e"
             ],
             [
              0.4444444444444444,
              "#bd3786"
             ],
             [
              0.5555555555555556,
              "#d8576b"
             ],
             [
              0.6666666666666666,
              "#ed7953"
             ],
             [
              0.7777777777777778,
              "#fb9f3a"
             ],
             [
              0.8888888888888888,
              "#fdca26"
             ],
             [
              1,
              "#f0f921"
             ]
            ],
            "type": "contour"
           }
          ],
          "contourcarpet": [
           {
            "colorbar": {
             "outlinewidth": 0,
             "ticks": ""
            },
            "type": "contourcarpet"
           }
          ],
          "heatmap": [
           {
            "colorbar": {
             "outlinewidth": 0,
             "ticks": ""
            },
            "colorscale": [
             [
              0,
              "#0d0887"
             ],
             [
              0.1111111111111111,
              "#46039f"
             ],
             [
              0.2222222222222222,
              "#7201a8"
             ],
             [
              0.3333333333333333,
              "#9c179e"
             ],
             [
              0.4444444444444444,
              "#bd3786"
             ],
             [
              0.5555555555555556,
              "#d8576b"
             ],
             [
              0.6666666666666666,
              "#ed7953"
             ],
             [
              0.7777777777777778,
              "#fb9f3a"
             ],
             [
              0.8888888888888888,
              "#fdca26"
             ],
             [
              1,
              "#f0f921"
             ]
            ],
            "type": "heatmap"
           }
          ],
          "heatmapgl": [
           {
            "colorbar": {
             "outlinewidth": 0,
             "ticks": ""
            },
            "colorscale": [
             [
              0,
              "#0d0887"
             ],
             [
              0.1111111111111111,
              "#46039f"
             ],
             [
              0.2222222222222222,
              "#7201a8"
             ],
             [
              0.3333333333333333,
              "#9c179e"
             ],
             [
              0.4444444444444444,
              "#bd3786"
             ],
             [
              0.5555555555555556,
              "#d8576b"
             ],
             [
              0.6666666666666666,
              "#ed7953"
             ],
             [
              0.7777777777777778,
              "#fb9f3a"
             ],
             [
              0.8888888888888888,
              "#fdca26"
             ],
             [
              1,
              "#f0f921"
             ]
            ],
            "type": "heatmapgl"
           }
          ],
          "histogram": [
           {
            "marker": {
             "pattern": {
              "fillmode": "overlay",
              "size": 10,
              "solidity": 0.2
             }
            },
            "type": "histogram"
           }
          ],
          "histogram2d": [
           {
            "colorbar": {
             "outlinewidth": 0,
             "ticks": ""
            },
            "colorscale": [
             [
              0,
              "#0d0887"
             ],
             [
              0.1111111111111111,
              "#46039f"
             ],
             [
              0.2222222222222222,
              "#7201a8"
             ],
             [
              0.3333333333333333,
              "#9c179e"
             ],
             [
              0.4444444444444444,
              "#bd3786"
             ],
             [
              0.5555555555555556,
              "#d8576b"
             ],
             [
              0.6666666666666666,
              "#ed7953"
             ],
             [
              0.7777777777777778,
              "#fb9f3a"
             ],
             [
              0.8888888888888888,
              "#fdca26"
             ],
             [
              1,
              "#f0f921"
             ]
            ],
            "type": "histogram2d"
           }
          ],
          "histogram2dcontour": [
           {
            "colorbar": {
             "outlinewidth": 0,
             "ticks": ""
            },
            "colorscale": [
             [
              0,
              "#0d0887"
             ],
             [
              0.1111111111111111,
              "#46039f"
             ],
             [
              0.2222222222222222,
              "#7201a8"
             ],
             [
              0.3333333333333333,
              "#9c179e"
             ],
             [
              0.4444444444444444,
              "#bd3786"
             ],
             [
              0.5555555555555556,
              "#d8576b"
             ],
             [
              0.6666666666666666,
              "#ed7953"
             ],
             [
              0.7777777777777778,
              "#fb9f3a"
             ],
             [
              0.8888888888888888,
              "#fdca26"
             ],
             [
              1,
              "#f0f921"
             ]
            ],
            "type": "histogram2dcontour"
           }
          ],
          "mesh3d": [
           {
            "colorbar": {
             "outlinewidth": 0,
             "ticks": ""
            },
            "type": "mesh3d"
           }
          ],
          "parcoords": [
           {
            "line": {
             "colorbar": {
              "outlinewidth": 0,
              "ticks": ""
             }
            },
            "type": "parcoords"
           }
          ],
          "pie": [
           {
            "automargin": true,
            "type": "pie"
           }
          ],
          "scatter": [
           {
            "marker": {
             "colorbar": {
              "outlinewidth": 0,
              "ticks": ""
             }
            },
            "type": "scatter"
           }
          ],
          "scatter3d": [
           {
            "line": {
             "colorbar": {
              "outlinewidth": 0,
              "ticks": ""
             }
            },
            "marker": {
             "colorbar": {
              "outlinewidth": 0,
              "ticks": ""
             }
            },
            "type": "scatter3d"
           }
          ],
          "scattercarpet": [
           {
            "marker": {
             "colorbar": {
              "outlinewidth": 0,
              "ticks": ""
             }
            },
            "type": "scattercarpet"
           }
          ],
          "scattergeo": [
           {
            "marker": {
             "colorbar": {
              "outlinewidth": 0,
              "ticks": ""
             }
            },
            "type": "scattergeo"
           }
          ],
          "scattergl": [
           {
            "marker": {
             "colorbar": {
              "outlinewidth": 0,
              "ticks": ""
             }
            },
            "type": "scattergl"
           }
          ],
          "scattermapbox": [
           {
            "marker": {
             "colorbar": {
              "outlinewidth": 0,
              "ticks": ""
             }
            },
            "type": "scattermapbox"
           }
          ],
          "scatterpolar": [
           {
            "marker": {
             "colorbar": {
              "outlinewidth": 0,
              "ticks": ""
             }
            },
            "type": "scatterpolar"
           }
          ],
          "scatterpolargl": [
           {
            "marker": {
             "colorbar": {
              "outlinewidth": 0,
              "ticks": ""
             }
            },
            "type": "scatterpolargl"
           }
          ],
          "scatterternary": [
           {
            "marker": {
             "colorbar": {
              "outlinewidth": 0,
              "ticks": ""
             }
            },
            "type": "scatterternary"
           }
          ],
          "surface": [
           {
            "colorbar": {
             "outlinewidth": 0,
             "ticks": ""
            },
            "colorscale": [
             [
              0,
              "#0d0887"
             ],
             [
              0.1111111111111111,
              "#46039f"
             ],
             [
              0.2222222222222222,
              "#7201a8"
             ],
             [
              0.3333333333333333,
              "#9c179e"
             ],
             [
              0.4444444444444444,
              "#bd3786"
             ],
             [
              0.5555555555555556,
              "#d8576b"
             ],
             [
              0.6666666666666666,
              "#ed7953"
             ],
             [
              0.7777777777777778,
              "#fb9f3a"
             ],
             [
              0.8888888888888888,
              "#fdca26"
             ],
             [
              1,
              "#f0f921"
             ]
            ],
            "type": "surface"
           }
          ],
          "table": [
           {
            "cells": {
             "fill": {
              "color": "#EBF0F8"
             },
             "line": {
              "color": "white"
             }
            },
            "header": {
             "fill": {
              "color": "#C8D4E3"
             },
             "line": {
              "color": "white"
             }
            },
            "type": "table"
           }
          ]
         },
         "layout": {
          "annotationdefaults": {
           "arrowcolor": "#2a3f5f",
           "arrowhead": 0,
           "arrowwidth": 1
          },
          "autotypenumbers": "strict",
          "coloraxis": {
           "colorbar": {
            "outlinewidth": 0,
            "ticks": ""
           }
          },
          "colorscale": {
           "diverging": [
            [
             0,
             "#8e0152"
            ],
            [
             0.1,
             "#c51b7d"
            ],
            [
             0.2,
             "#de77ae"
            ],
            [
             0.3,
             "#f1b6da"
            ],
            [
             0.4,
             "#fde0ef"
            ],
            [
             0.5,
             "#f7f7f7"
            ],
            [
             0.6,
             "#e6f5d0"
            ],
            [
             0.7,
             "#b8e186"
            ],
            [
             0.8,
             "#7fbc41"
            ],
            [
             0.9,
             "#4d9221"
            ],
            [
             1,
             "#276419"
            ]
           ],
           "sequential": [
            [
             0,
             "#0d0887"
            ],
            [
             0.1111111111111111,
             "#46039f"
            ],
            [
             0.2222222222222222,
             "#7201a8"
            ],
            [
             0.3333333333333333,
             "#9c179e"
            ],
            [
             0.4444444444444444,
             "#bd3786"
            ],
            [
             0.5555555555555556,
             "#d8576b"
            ],
            [
             0.6666666666666666,
             "#ed7953"
            ],
            [
             0.7777777777777778,
             "#fb9f3a"
            ],
            [
             0.8888888888888888,
             "#fdca26"
            ],
            [
             1,
             "#f0f921"
            ]
           ],
           "sequentialminus": [
            [
             0,
             "#0d0887"
            ],
            [
             0.1111111111111111,
             "#46039f"
            ],
            [
             0.2222222222222222,
             "#7201a8"
            ],
            [
             0.3333333333333333,
             "#9c179e"
            ],
            [
             0.4444444444444444,
             "#bd3786"
            ],
            [
             0.5555555555555556,
             "#d8576b"
            ],
            [
             0.6666666666666666,
             "#ed7953"
            ],
            [
             0.7777777777777778,
             "#fb9f3a"
            ],
            [
             0.8888888888888888,
             "#fdca26"
            ],
            [
             1,
             "#f0f921"
            ]
           ]
          },
          "colorway": [
           "#636efa",
           "#EF553B",
           "#00cc96",
           "#ab63fa",
           "#FFA15A",
           "#19d3f3",
           "#FF6692",
           "#B6E880",
           "#FF97FF",
           "#FECB52"
          ],
          "font": {
           "color": "#2a3f5f"
          },
          "geo": {
           "bgcolor": "white",
           "lakecolor": "white",
           "landcolor": "#E5ECF6",
           "showlakes": true,
           "showland": true,
           "subunitcolor": "white"
          },
          "hoverlabel": {
           "align": "left"
          },
          "hovermode": "closest",
          "mapbox": {
           "style": "light"
          },
          "paper_bgcolor": "white",
          "plot_bgcolor": "#E5ECF6",
          "polar": {
           "angularaxis": {
            "gridcolor": "white",
            "linecolor": "white",
            "ticks": ""
           },
           "bgcolor": "#E5ECF6",
           "radialaxis": {
            "gridcolor": "white",
            "linecolor": "white",
            "ticks": ""
           }
          },
          "scene": {
           "xaxis": {
            "backgroundcolor": "#E5ECF6",
            "gridcolor": "white",
            "gridwidth": 2,
            "linecolor": "white",
            "showbackground": true,
            "ticks": "",
            "zerolinecolor": "white"
           },
           "yaxis": {
            "backgroundcolor": "#E5ECF6",
            "gridcolor": "white",
            "gridwidth": 2,
            "linecolor": "white",
            "showbackground": true,
            "ticks": "",
            "zerolinecolor": "white"
           },
           "zaxis": {
            "backgroundcolor": "#E5ECF6",
            "gridcolor": "white",
            "gridwidth": 2,
            "linecolor": "white",
            "showbackground": true,
            "ticks": "",
            "zerolinecolor": "white"
           }
          },
          "shapedefaults": {
           "line": {
            "color": "#2a3f5f"
           }
          },
          "ternary": {
           "aaxis": {
            "gridcolor": "white",
            "linecolor": "white",
            "ticks": ""
           },
           "baxis": {
            "gridcolor": "white",
            "linecolor": "white",
            "ticks": ""
           },
           "bgcolor": "#E5ECF6",
           "caxis": {
            "gridcolor": "white",
            "linecolor": "white",
            "ticks": ""
           }
          },
          "title": {
           "x": 0.05
          },
          "xaxis": {
           "automargin": true,
           "gridcolor": "white",
           "linecolor": "white",
           "ticks": "",
           "title": {
            "standoff": 15
           },
           "zerolinecolor": "white",
           "zerolinewidth": 2
          },
          "yaxis": {
           "automargin": true,
           "gridcolor": "white",
           "linecolor": "white",
           "ticks": "",
           "title": {
            "standoff": 15
           },
           "zerolinecolor": "white",
           "zerolinewidth": 2
          }
         }
        },
        "title": {
         "text": "Candlestick With Volume Profile"
        },
        "xaxis": {
         "rangeslider": {
          "visible": false
         },
         "showticklabels": false,
         "side": "top"
        },
        "xaxis2": {
         "overlaying": "x",
         "rangeslider": {
          "visible": false
         },
         "side": "bottom",
         "title": {
          "text": "Date"
         }
        },
        "yaxis": {
         "showticklabels": false,
         "side": "left"
        },
        "yaxis2": {
         "overlaying": "y",
         "range": [
          20,
          40
         ],
         "side": "right",
         "title": {
          "text": "Price"
         }
        }
       }
      }
     },
     "metadata": {}
    }
   ],
   "metadata": {}
  }
 ],
 "metadata": {
  "orig_nbformat": 4,
  "language_info": {
   "name": "python",
   "version": "3.9.5",
   "mimetype": "text/x-python",
   "codemirror_mode": {
    "name": "ipython",
    "version": 3
   },
   "pygments_lexer": "ipython3",
   "nbconvert_exporter": "python",
   "file_extension": ".py"
  },
  "kernelspec": {
   "name": "python3",
   "display_name": "Python 3.9.5 64-bit"
  },
  "interpreter": {
   "hash": "1b225e77cdaecf956e70e97fb3ef1a4010a020a7f6b6e42727745cfda5364c08"
  }
 },
 "nbformat": 4,
 "nbformat_minor": 2
}